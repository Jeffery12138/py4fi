{
 "cells": [
  {
   "cell_type": "markdown",
   "metadata": {},
   "source": [
    "<img src=\"http://hilpisch.com/tpq_logo.png\" alt=\"The Python Quants\" width=\"35%\" align=\"right\" border=\"0\"><br>"
   ]
  },
  {
   "cell_type": "markdown",
   "metadata": {},
   "source": [
    "# Python for Finance (2nd ed.)\n",
    "\n",
    "**Mastering Data-Driven Finance**\n",
    "\n",
    "&copy; Dr. Yves J. Hilpisch | The Python Quants GmbH\n",
    "\n",
    "<img src=\"http://hilpisch.com/images/py4fi_2nd_shadow.png\" width=\"300px\" align=\"left\">"
   ]
  },
  {
   "cell_type": "markdown",
   "metadata": {},
   "source": [
    "# Performance Python"
   ]
  },
  {
   "cell_type": "markdown",
   "metadata": {},
   "source": [
    "## Loops"
   ]
  },
  {
   "cell_type": "markdown",
   "metadata": {},
   "source": [
    "### Python"
   ]
  },
  {
   "cell_type": "code",
   "execution_count": 1,
   "metadata": {},
   "outputs": [],
   "source": [
    "import random"
   ]
  },
  {
   "cell_type": "code",
   "execution_count": 2,
   "metadata": {},
   "outputs": [],
   "source": [
    "def average_py(n):\n",
    "    s = 0  \n",
    "    for i in range(n):\n",
    "        s += random.random()  \n",
    "    return s / n  "
   ]
  },
  {
   "cell_type": "code",
   "execution_count": 3,
   "metadata": {},
   "outputs": [],
   "source": [
    "n = 10000000  "
   ]
  },
  {
   "cell_type": "code",
   "execution_count": 4,
   "metadata": {},
   "outputs": [
    {
     "name": "stdout",
     "output_type": "stream",
     "text": [
      "Wall time: 1.74 s\n"
     ]
    },
    {
     "data": {
      "text/plain": [
       "0.49995508832296487"
      ]
     },
     "execution_count": 4,
     "metadata": {},
     "output_type": "execute_result"
    }
   ],
   "source": [
    "%time average_py(n)  "
   ]
  },
  {
   "cell_type": "code",
   "execution_count": 5,
   "metadata": {
    "scrolled": true
   },
   "outputs": [
    {
     "name": "stdout",
     "output_type": "stream",
     "text": [
      "1.36 s ± 40.7 ms per loop (mean ± std. dev. of 7 runs, 1 loop each)\n"
     ]
    }
   ],
   "source": [
    "%timeit average_py(n)  "
   ]
  },
  {
   "cell_type": "code",
   "execution_count": 6,
   "metadata": {},
   "outputs": [
    {
     "name": "stdout",
     "output_type": "stream",
     "text": [
      "Wall time: 1.87 s\n"
     ]
    },
    {
     "data": {
      "text/plain": [
       "0.5000334720693849"
      ]
     },
     "execution_count": 6,
     "metadata": {},
     "output_type": "execute_result"
    }
   ],
   "source": [
    "%time sum([random.random() for _ in range(n)]) / n  \n",
    "# Uses a list comprehension instead of the function."
   ]
  },
  {
   "cell_type": "markdown",
   "metadata": {},
   "source": [
    "### NumPy \n",
    "* The strength of Numpy lies in its vectorization capabilities."
   ]
  },
  {
   "cell_type": "code",
   "execution_count": 17,
   "metadata": {},
   "outputs": [],
   "source": [
    "import numpy as np"
   ]
  },
  {
   "cell_type": "code",
   "execution_count": 5,
   "metadata": {},
   "outputs": [],
   "source": [
    "def average_np(n):\n",
    "    s = np.random.random(n)  \n",
    "    return s.mean()  "
   ]
  },
  {
   "cell_type": "code",
   "execution_count": 6,
   "metadata": {},
   "outputs": [
    {
     "name": "stdout",
     "output_type": "stream",
     "text": [
      "Wall time: 192 ms\n"
     ]
    },
    {
     "data": {
      "text/plain": [
       "0.4998929756400063"
      ]
     },
     "execution_count": 6,
     "metadata": {},
     "output_type": "execute_result"
    }
   ],
   "source": [
    "%time average_np(n)"
   ]
  },
  {
   "cell_type": "code",
   "execution_count": 10,
   "metadata": {},
   "outputs": [
    {
     "name": "stdout",
     "output_type": "stream",
     "text": [
      "141 ms ± 3.17 ms per loop (mean ± std. dev. of 7 runs, 10 loops each)\n"
     ]
    }
   ],
   "source": [
    "%timeit average_np(n)"
   ]
  },
  {
   "cell_type": "code",
   "execution_count": 11,
   "metadata": {},
   "outputs": [
    {
     "data": {
      "text/plain": [
       "80000000"
      ]
     },
     "execution_count": 11,
     "metadata": {},
     "output_type": "execute_result"
    }
   ],
   "source": [
    "s = np.random.random(n)\n",
    "s.nbytes  # The price that must be paid is significantly higher memory usage."
   ]
  },
  {
   "cell_type": "markdown",
   "metadata": {},
   "source": [
    "### Numba\n",
    "* Numba is a package that allows the dynamic compiling of pure Python code by the use of LLVM.\n",
    "* if a code is numerically orientated (does a lot of math), use Numpy a lot and/or has a lot of loops, then Numba is often a good choice.\n",
    "* The combination of pure Python with Numba beats the Numpy version and preserves the memory efficiency of the original loop-based implementation.\n",
    "* conda install numba"
   ]
  },
  {
   "cell_type": "code",
   "execution_count": 22,
   "metadata": {},
   "outputs": [],
   "source": [
    "import numba"
   ]
  },
  {
   "cell_type": "code",
   "execution_count": 8,
   "metadata": {},
   "outputs": [],
   "source": [
    "# The dynamically compiled function average_nb() can be called directly from Python.\n",
    "\n",
    "average_nb = numba.jit(average_py)  "
   ]
  },
  {
   "cell_type": "code",
   "execution_count": 15,
   "metadata": {},
   "outputs": [],
   "source": [
    "numba.jit?"
   ]
  },
  {
   "cell_type": "code",
   "execution_count": 9,
   "metadata": {
    "scrolled": true
   },
   "outputs": [
    {
     "name": "stdout",
     "output_type": "stream",
     "text": [
      "Wall time: 882 ms\n"
     ]
    },
    {
     "data": {
      "text/plain": [
       "0.4998945492315135"
      ]
     },
     "execution_count": 9,
     "metadata": {},
     "output_type": "execute_result"
    }
   ],
   "source": [
    "%time average_nb(n)  # The compiling happens during runtime, leading to some overhead"
   ]
  },
  {
   "cell_type": "code",
   "execution_count": 15,
   "metadata": {},
   "outputs": [
    {
     "name": "stdout",
     "output_type": "stream",
     "text": [
      "Wall time: 104 ms\n"
     ]
    },
    {
     "data": {
      "text/plain": [
       "0.5000736607890872"
      ]
     },
     "execution_count": 15,
     "metadata": {},
     "output_type": "execute_result"
    }
   ],
   "source": [
    "%time average_nb(n)  "
   ]
  },
  {
   "cell_type": "code",
   "execution_count": 16,
   "metadata": {},
   "outputs": [
    {
     "name": "stdout",
     "output_type": "stream",
     "text": [
      "94.5 ms ± 7.4 ms per loop (mean ± std. dev. of 7 runs, 10 loops each)\n"
     ]
    }
   ],
   "source": [
    "%timeit average_nb(n)  "
   ]
  },
  {
   "cell_type": "markdown",
   "metadata": {},
   "source": [
    "### Cython\n",
    "\n",
    "* Cython allows one to statically compile Python code.\n",
    "* However, the application is not as simple as with Numba since the code generally needs to be changed to see significant speed improvements."
   ]
  },
  {
   "cell_type": "code",
   "execution_count": 10,
   "metadata": {},
   "outputs": [],
   "source": [
    "import cython"
   ]
  },
  {
   "cell_type": "code",
   "execution_count": 30,
   "metadata": {},
   "outputs": [],
   "source": [
    "%load_ext Cython"
   ]
  },
  {
   "cell_type": "code",
   "execution_count": 24,
   "metadata": {
    "scrolled": true
   },
   "outputs": [
    {
     "name": "stdout",
     "output_type": "stream",
     "text": [
      "[1/1] Cythonizing C:\\Users\\Jeffery\\.ipython\\cython\\_cython_magic_0aa957a878429b38b2e3fab78cc17128.pyx\n",
      "building '_cython_magic_0aa957a878429b38b2e3fab78cc17128' extension\n",
      "C:\\Program Files (x86)\\mingw-w64\\i686-8.1.0-posix-dwarf-rt_v6-rev0\\mingw32\\bin\\gcc.exe -mdll -O -Wall -DMS_WIN64 -IC:\\Programs\\Anaconda\\include -IC:\\Programs\\Anaconda\\include -c C:\\Users\\Jeffery\\.ipython\\cython\\_cython_magic_0aa957a878429b38b2e3fab78cc17128.c -o c:\\users\\jeffery\\.ipython\\cython\\_cython_magic_0aa957a878429b38b2e3fab78cc17128.o\n"
     ]
    }
   ],
   "source": [
    "%%cython --verbose\n",
    "cimport cython\n",
    "import random  \n",
    "def average_cy0(n):  \n",
    "    s = 0\n",
    "    for i in range(n):\n",
    "        s += random.random()\n",
    "    return s / n"
   ]
  },
  {
   "cell_type": "code",
   "execution_count": 12,
   "metadata": {
    "scrolled": true
   },
   "outputs": [
    {
     "name": "stdout",
     "output_type": "stream",
     "text": [
      "[1/1] Cythonizing C:\\Users\\Jeffery\\.ipython\\cython\\_cython_magic_92ac2b51e63a21facc25bd7032c394c5.pyx\n",
      "building '_cython_magic_92ac2b51e63a21facc25bd7032c394c5' extension\n",
      "C:\\Program Files (x86)\\mingw-w64\\i686-8.1.0-posix-dwarf-rt_v6-rev0\\mingw32\\bin\\gcc.exe -mdll -O -Wall -DMS_WIN64 -IC:\\Programs\\Anaconda\\include -IC:\\Programs\\Anaconda\\include -c C:\\Users\\Jeffery\\.ipython\\cython\\_cython_magic_92ac2b51e63a21facc25bd7032c394c5.c -o c:\\users\\jeffery\\.ipython\\cython\\_cython_magic_92ac2b51e63a21facc25bd7032c394c5.o\n"
     ]
    }
   ],
   "source": [
    "%%cython -a --verbose\n",
    "cimport cython\n",
    "import random  \n",
    "def average_cy0(n):  \n",
    "    s = 0\n",
    "    for i in range(n):\n",
    "        s += random.random()\n",
    "    return s / n"
   ]
  },
  {
   "cell_type": "code",
   "execution_count": 13,
   "metadata": {},
   "outputs": [
    {
     "name": "stdout",
     "output_type": "stream",
     "text": [
      "[1/1] Cythonizing C:\\Users\\Jeffery\\.ipython\\cython\\_cython_magic_94ffea204d0ca3f8d063f3d47cfc958f.pyx\n",
      "building '_cython_magic_94ffea204d0ca3f8d063f3d47cfc958f' extension\n",
      "C:\\Program Files (x86)\\mingw-w64\\i686-8.1.0-posix-dwarf-rt_v6-rev0\\mingw32\\bin\\gcc.exe -mdll -O -Wall -DMS_WIN64 -IC:\\Programs\\Anaconda\\include -IC:\\Programs\\Anaconda\\include -c C:\\Users\\Jeffery\\.ipython\\cython\\_cython_magic_94ffea204d0ca3f8d063f3d47cfc958f.c -o c:\\users\\jeffery\\.ipython\\cython\\_cython_magic_94ffea204d0ca3f8d063f3d47cfc958f.o\n"
     ]
    }
   ],
   "source": [
    "%%cython --verbose\n",
    "cimport cython\n",
    "\n",
    "cdef int a = 0\n",
    "for i in range(10):\n",
    "    a += i\n",
    "print(a)"
   ]
  },
  {
   "cell_type": "code",
   "execution_count": 14,
   "metadata": {},
   "outputs": [
    {
     "ename": "NameError",
     "evalue": "name 'a' is not defined",
     "output_type": "error",
     "traceback": [
      "\u001b[1;31m---------------------------------------------------------------------------\u001b[0m",
      "\u001b[1;31mNameError\u001b[0m                                 Traceback (most recent call last)",
      "\u001b[1;32m<ipython-input-14-3f786850e387>\u001b[0m in \u001b[0;36m<module>\u001b[1;34m\u001b[0m\n\u001b[1;32m----> 1\u001b[1;33m \u001b[0ma\u001b[0m\u001b[1;33m\u001b[0m\u001b[1;33m\u001b[0m\u001b[0m\n\u001b[0m",
      "\u001b[1;31mNameError\u001b[0m: name 'a' is not defined"
     ]
    }
   ],
   "source": [
    "a"
   ]
  },
  {
   "cell_type": "code",
   "execution_count": 15,
   "metadata": {},
   "outputs": [],
   "source": [
    "%%cython -a\n",
    "import random  \n",
    "cdef average_cy1(int n):  # Add static type declarations for the variables n, i, and s.\n",
    "    cdef int i  \n",
    "    cdef float s = 0  \n",
    "    for i in range(n):\n",
    "        s += random.random()\n",
    "    return s / n"
   ]
  },
  {
   "cell_type": "code",
   "execution_count": 16,
   "metadata": {
    "scrolled": true
   },
   "outputs": [
    {
     "ename": "NameError",
     "evalue": "name 'average_cy1' is not defined",
     "output_type": "error",
     "traceback": [
      "\u001b[1;31m---------------------------------------------------------------------------\u001b[0m",
      "\u001b[1;31mNameError\u001b[0m                                 Traceback (most recent call last)",
      "\u001b[1;32m<timed eval>\u001b[0m in \u001b[0;36m<module>\u001b[1;34m\u001b[0m\n",
      "\u001b[1;31mNameError\u001b[0m: name 'average_cy1' is not defined"
     ]
    }
   ],
   "source": [
    "%time average_cy1(n)"
   ]
  },
  {
   "cell_type": "code",
   "execution_count": 17,
   "metadata": {
    "scrolled": true
   },
   "outputs": [
    {
     "ename": "NameError",
     "evalue": "name 'average_cy0' is not defined",
     "output_type": "error",
     "traceback": [
      "\u001b[1;31m---------------------------------------------------------------------------\u001b[0m",
      "\u001b[1;31mNameError\u001b[0m                                 Traceback (most recent call last)",
      "\u001b[1;32m<timed eval>\u001b[0m in \u001b[0;36m<module>\u001b[1;34m\u001b[0m\n",
      "\u001b[1;31mNameError\u001b[0m: name 'average_cy0' is not defined"
     ]
    }
   ],
   "source": [
    "%time average_cy0(n)"
   ]
  },
  {
   "cell_type": "code",
   "execution_count": 18,
   "metadata": {
    "scrolled": true
   },
   "outputs": [
    {
     "ename": "NameError",
     "evalue": "name 'average_cy1' is not defined",
     "output_type": "error",
     "traceback": [
      "\u001b[1;31m---------------------------------------------------------------------------\u001b[0m",
      "\u001b[1;31mNameError\u001b[0m                                 Traceback (most recent call last)",
      "\u001b[1;32m<ipython-input-18-04ae4dca2125>\u001b[0m in \u001b[0;36m<module>\u001b[1;34m\u001b[0m\n\u001b[1;32m----> 1\u001b[1;33m \u001b[0mget_ipython\u001b[0m\u001b[1;33m(\u001b[0m\u001b[1;33m)\u001b[0m\u001b[1;33m.\u001b[0m\u001b[0mrun_line_magic\u001b[0m\u001b[1;33m(\u001b[0m\u001b[1;34m'timeit'\u001b[0m\u001b[1;33m,\u001b[0m \u001b[1;34m'average_cy1(n)'\u001b[0m\u001b[1;33m)\u001b[0m\u001b[1;33m\u001b[0m\u001b[1;33m\u001b[0m\u001b[0m\n\u001b[0m",
      "\u001b[1;32mC:\\Programs\\Anaconda\\lib\\site-packages\\IPython\\core\\interactiveshell.py\u001b[0m in \u001b[0;36mrun_line_magic\u001b[1;34m(self, magic_name, line, _stack_depth)\u001b[0m\n\u001b[0;32m   2315\u001b[0m                 \u001b[0mkwargs\u001b[0m\u001b[1;33m[\u001b[0m\u001b[1;34m'local_ns'\u001b[0m\u001b[1;33m]\u001b[0m \u001b[1;33m=\u001b[0m \u001b[0msys\u001b[0m\u001b[1;33m.\u001b[0m\u001b[0m_getframe\u001b[0m\u001b[1;33m(\u001b[0m\u001b[0mstack_depth\u001b[0m\u001b[1;33m)\u001b[0m\u001b[1;33m.\u001b[0m\u001b[0mf_locals\u001b[0m\u001b[1;33m\u001b[0m\u001b[1;33m\u001b[0m\u001b[0m\n\u001b[0;32m   2316\u001b[0m             \u001b[1;32mwith\u001b[0m \u001b[0mself\u001b[0m\u001b[1;33m.\u001b[0m\u001b[0mbuiltin_trap\u001b[0m\u001b[1;33m:\u001b[0m\u001b[1;33m\u001b[0m\u001b[1;33m\u001b[0m\u001b[0m\n\u001b[1;32m-> 2317\u001b[1;33m                 \u001b[0mresult\u001b[0m \u001b[1;33m=\u001b[0m \u001b[0mfn\u001b[0m\u001b[1;33m(\u001b[0m\u001b[1;33m*\u001b[0m\u001b[0margs\u001b[0m\u001b[1;33m,\u001b[0m \u001b[1;33m**\u001b[0m\u001b[0mkwargs\u001b[0m\u001b[1;33m)\u001b[0m\u001b[1;33m\u001b[0m\u001b[1;33m\u001b[0m\u001b[0m\n\u001b[0m\u001b[0;32m   2318\u001b[0m             \u001b[1;32mreturn\u001b[0m \u001b[0mresult\u001b[0m\u001b[1;33m\u001b[0m\u001b[1;33m\u001b[0m\u001b[0m\n\u001b[0;32m   2319\u001b[0m \u001b[1;33m\u001b[0m\u001b[0m\n",
      "\u001b[1;32m<C:\\Programs\\Anaconda\\lib\\site-packages\\decorator.py:decorator-gen-61>\u001b[0m in \u001b[0;36mtimeit\u001b[1;34m(self, line, cell, local_ns)\u001b[0m\n",
      "\u001b[1;32mC:\\Programs\\Anaconda\\lib\\site-packages\\IPython\\core\\magic.py\u001b[0m in \u001b[0;36m<lambda>\u001b[1;34m(f, *a, **k)\u001b[0m\n\u001b[0;32m    185\u001b[0m     \u001b[1;31m# but it's overkill for just that one bit of state.\u001b[0m\u001b[1;33m\u001b[0m\u001b[1;33m\u001b[0m\u001b[1;33m\u001b[0m\u001b[0m\n\u001b[0;32m    186\u001b[0m     \u001b[1;32mdef\u001b[0m \u001b[0mmagic_deco\u001b[0m\u001b[1;33m(\u001b[0m\u001b[0marg\u001b[0m\u001b[1;33m)\u001b[0m\u001b[1;33m:\u001b[0m\u001b[1;33m\u001b[0m\u001b[1;33m\u001b[0m\u001b[0m\n\u001b[1;32m--> 187\u001b[1;33m         \u001b[0mcall\u001b[0m \u001b[1;33m=\u001b[0m \u001b[1;32mlambda\u001b[0m \u001b[0mf\u001b[0m\u001b[1;33m,\u001b[0m \u001b[1;33m*\u001b[0m\u001b[0ma\u001b[0m\u001b[1;33m,\u001b[0m \u001b[1;33m**\u001b[0m\u001b[0mk\u001b[0m\u001b[1;33m:\u001b[0m \u001b[0mf\u001b[0m\u001b[1;33m(\u001b[0m\u001b[1;33m*\u001b[0m\u001b[0ma\u001b[0m\u001b[1;33m,\u001b[0m \u001b[1;33m**\u001b[0m\u001b[0mk\u001b[0m\u001b[1;33m)\u001b[0m\u001b[1;33m\u001b[0m\u001b[1;33m\u001b[0m\u001b[0m\n\u001b[0m\u001b[0;32m    188\u001b[0m \u001b[1;33m\u001b[0m\u001b[0m\n\u001b[0;32m    189\u001b[0m         \u001b[1;32mif\u001b[0m \u001b[0mcallable\u001b[0m\u001b[1;33m(\u001b[0m\u001b[0marg\u001b[0m\u001b[1;33m)\u001b[0m\u001b[1;33m:\u001b[0m\u001b[1;33m\u001b[0m\u001b[1;33m\u001b[0m\u001b[0m\n",
      "\u001b[1;32mC:\\Programs\\Anaconda\\lib\\site-packages\\IPython\\core\\magics\\execution.py\u001b[0m in \u001b[0;36mtimeit\u001b[1;34m(self, line, cell, local_ns)\u001b[0m\n\u001b[0;32m   1158\u001b[0m             \u001b[1;32mfor\u001b[0m \u001b[0mindex\u001b[0m \u001b[1;32min\u001b[0m \u001b[0mrange\u001b[0m\u001b[1;33m(\u001b[0m\u001b[1;36m0\u001b[0m\u001b[1;33m,\u001b[0m \u001b[1;36m10\u001b[0m\u001b[1;33m)\u001b[0m\u001b[1;33m:\u001b[0m\u001b[1;33m\u001b[0m\u001b[1;33m\u001b[0m\u001b[0m\n\u001b[0;32m   1159\u001b[0m                 \u001b[0mnumber\u001b[0m \u001b[1;33m=\u001b[0m \u001b[1;36m10\u001b[0m \u001b[1;33m**\u001b[0m \u001b[0mindex\u001b[0m\u001b[1;33m\u001b[0m\u001b[1;33m\u001b[0m\u001b[0m\n\u001b[1;32m-> 1160\u001b[1;33m                 \u001b[0mtime_number\u001b[0m \u001b[1;33m=\u001b[0m \u001b[0mtimer\u001b[0m\u001b[1;33m.\u001b[0m\u001b[0mtimeit\u001b[0m\u001b[1;33m(\u001b[0m\u001b[0mnumber\u001b[0m\u001b[1;33m)\u001b[0m\u001b[1;33m\u001b[0m\u001b[1;33m\u001b[0m\u001b[0m\n\u001b[0m\u001b[0;32m   1161\u001b[0m                 \u001b[1;32mif\u001b[0m \u001b[0mtime_number\u001b[0m \u001b[1;33m>=\u001b[0m \u001b[1;36m0.2\u001b[0m\u001b[1;33m:\u001b[0m\u001b[1;33m\u001b[0m\u001b[1;33m\u001b[0m\u001b[0m\n\u001b[0;32m   1162\u001b[0m                     \u001b[1;32mbreak\u001b[0m\u001b[1;33m\u001b[0m\u001b[1;33m\u001b[0m\u001b[0m\n",
      "\u001b[1;32mC:\\Programs\\Anaconda\\lib\\site-packages\\IPython\\core\\magics\\execution.py\u001b[0m in \u001b[0;36mtimeit\u001b[1;34m(self, number)\u001b[0m\n\u001b[0;32m    167\u001b[0m         \u001b[0mgc\u001b[0m\u001b[1;33m.\u001b[0m\u001b[0mdisable\u001b[0m\u001b[1;33m(\u001b[0m\u001b[1;33m)\u001b[0m\u001b[1;33m\u001b[0m\u001b[1;33m\u001b[0m\u001b[0m\n\u001b[0;32m    168\u001b[0m         \u001b[1;32mtry\u001b[0m\u001b[1;33m:\u001b[0m\u001b[1;33m\u001b[0m\u001b[1;33m\u001b[0m\u001b[0m\n\u001b[1;32m--> 169\u001b[1;33m             \u001b[0mtiming\u001b[0m \u001b[1;33m=\u001b[0m \u001b[0mself\u001b[0m\u001b[1;33m.\u001b[0m\u001b[0minner\u001b[0m\u001b[1;33m(\u001b[0m\u001b[0mit\u001b[0m\u001b[1;33m,\u001b[0m \u001b[0mself\u001b[0m\u001b[1;33m.\u001b[0m\u001b[0mtimer\u001b[0m\u001b[1;33m)\u001b[0m\u001b[1;33m\u001b[0m\u001b[1;33m\u001b[0m\u001b[0m\n\u001b[0m\u001b[0;32m    170\u001b[0m         \u001b[1;32mfinally\u001b[0m\u001b[1;33m:\u001b[0m\u001b[1;33m\u001b[0m\u001b[1;33m\u001b[0m\u001b[0m\n\u001b[0;32m    171\u001b[0m             \u001b[1;32mif\u001b[0m \u001b[0mgcold\u001b[0m\u001b[1;33m:\u001b[0m\u001b[1;33m\u001b[0m\u001b[1;33m\u001b[0m\u001b[0m\n",
      "\u001b[1;32m<magic-timeit>\u001b[0m in \u001b[0;36minner\u001b[1;34m(_it, _timer)\u001b[0m\n",
      "\u001b[1;31mNameError\u001b[0m: name 'average_cy1' is not defined"
     ]
    }
   ],
   "source": [
    "%timeit average_cy1(n)"
   ]
  },
  {
   "cell_type": "code",
   "execution_count": 19,
   "metadata": {},
   "outputs": [],
   "source": [
    "%%cython\n",
    "from libc.stdlib cimport rand  # Imports a random number generator from C.\n",
    "cdef extern from 'limits.h':  # Imports a constant value for the scaling of the random numbers.\n",
    "    int RAND_MAX  \n",
    "cdef int i\n",
    "cdef float rn\n",
    "for i in range(5):\n",
    "    rn = rand() / RAND_MAX  \n",
    "    print(rn)"
   ]
  },
  {
   "cell_type": "code",
   "execution_count": 20,
   "metadata": {},
   "outputs": [],
   "source": [
    "%%cython -a\n",
    "from libc.stdlib cimport rand  \n",
    "cdef extern from 'limits.h':  \n",
    "    int RAND_MAX  \n",
    "def average_cy2(int n):\n",
    "    cdef int i\n",
    "    cdef float s = 0\n",
    "    for i in range(n):\n",
    "        s += rand() / RAND_MAX  \n",
    "    return s / n"
   ]
  },
  {
   "cell_type": "code",
   "execution_count": 21,
   "metadata": {},
   "outputs": [
    {
     "ename": "NameError",
     "evalue": "name 'average_cy2' is not defined",
     "output_type": "error",
     "traceback": [
      "\u001b[1;31m---------------------------------------------------------------------------\u001b[0m",
      "\u001b[1;31mNameError\u001b[0m                                 Traceback (most recent call last)",
      "\u001b[1;32m<timed eval>\u001b[0m in \u001b[0;36m<module>\u001b[1;34m\u001b[0m\n",
      "\u001b[1;31mNameError\u001b[0m: name 'average_cy2' is not defined"
     ]
    }
   ],
   "source": [
    "%time average_cy2(n)"
   ]
  },
  {
   "cell_type": "code",
   "execution_count": 22,
   "metadata": {
    "scrolled": true
   },
   "outputs": [
    {
     "ename": "NameError",
     "evalue": "name 'average_cy2' is not defined",
     "output_type": "error",
     "traceback": [
      "\u001b[1;31m---------------------------------------------------------------------------\u001b[0m",
      "\u001b[1;31mNameError\u001b[0m                                 Traceback (most recent call last)",
      "\u001b[1;32m<ipython-input-22-2b62085ec662>\u001b[0m in \u001b[0;36m<module>\u001b[1;34m\u001b[0m\n\u001b[1;32m----> 1\u001b[1;33m \u001b[0mget_ipython\u001b[0m\u001b[1;33m(\u001b[0m\u001b[1;33m)\u001b[0m\u001b[1;33m.\u001b[0m\u001b[0mrun_line_magic\u001b[0m\u001b[1;33m(\u001b[0m\u001b[1;34m'timeit'\u001b[0m\u001b[1;33m,\u001b[0m \u001b[1;34m'average_cy2(n)'\u001b[0m\u001b[1;33m)\u001b[0m\u001b[1;33m\u001b[0m\u001b[1;33m\u001b[0m\u001b[0m\n\u001b[0m",
      "\u001b[1;32mC:\\Programs\\Anaconda\\lib\\site-packages\\IPython\\core\\interactiveshell.py\u001b[0m in \u001b[0;36mrun_line_magic\u001b[1;34m(self, magic_name, line, _stack_depth)\u001b[0m\n\u001b[0;32m   2315\u001b[0m                 \u001b[0mkwargs\u001b[0m\u001b[1;33m[\u001b[0m\u001b[1;34m'local_ns'\u001b[0m\u001b[1;33m]\u001b[0m \u001b[1;33m=\u001b[0m \u001b[0msys\u001b[0m\u001b[1;33m.\u001b[0m\u001b[0m_getframe\u001b[0m\u001b[1;33m(\u001b[0m\u001b[0mstack_depth\u001b[0m\u001b[1;33m)\u001b[0m\u001b[1;33m.\u001b[0m\u001b[0mf_locals\u001b[0m\u001b[1;33m\u001b[0m\u001b[1;33m\u001b[0m\u001b[0m\n\u001b[0;32m   2316\u001b[0m             \u001b[1;32mwith\u001b[0m \u001b[0mself\u001b[0m\u001b[1;33m.\u001b[0m\u001b[0mbuiltin_trap\u001b[0m\u001b[1;33m:\u001b[0m\u001b[1;33m\u001b[0m\u001b[1;33m\u001b[0m\u001b[0m\n\u001b[1;32m-> 2317\u001b[1;33m                 \u001b[0mresult\u001b[0m \u001b[1;33m=\u001b[0m \u001b[0mfn\u001b[0m\u001b[1;33m(\u001b[0m\u001b[1;33m*\u001b[0m\u001b[0margs\u001b[0m\u001b[1;33m,\u001b[0m \u001b[1;33m**\u001b[0m\u001b[0mkwargs\u001b[0m\u001b[1;33m)\u001b[0m\u001b[1;33m\u001b[0m\u001b[1;33m\u001b[0m\u001b[0m\n\u001b[0m\u001b[0;32m   2318\u001b[0m             \u001b[1;32mreturn\u001b[0m \u001b[0mresult\u001b[0m\u001b[1;33m\u001b[0m\u001b[1;33m\u001b[0m\u001b[0m\n\u001b[0;32m   2319\u001b[0m \u001b[1;33m\u001b[0m\u001b[0m\n",
      "\u001b[1;32m<C:\\Programs\\Anaconda\\lib\\site-packages\\decorator.py:decorator-gen-61>\u001b[0m in \u001b[0;36mtimeit\u001b[1;34m(self, line, cell, local_ns)\u001b[0m\n",
      "\u001b[1;32mC:\\Programs\\Anaconda\\lib\\site-packages\\IPython\\core\\magic.py\u001b[0m in \u001b[0;36m<lambda>\u001b[1;34m(f, *a, **k)\u001b[0m\n\u001b[0;32m    185\u001b[0m     \u001b[1;31m# but it's overkill for just that one bit of state.\u001b[0m\u001b[1;33m\u001b[0m\u001b[1;33m\u001b[0m\u001b[1;33m\u001b[0m\u001b[0m\n\u001b[0;32m    186\u001b[0m     \u001b[1;32mdef\u001b[0m \u001b[0mmagic_deco\u001b[0m\u001b[1;33m(\u001b[0m\u001b[0marg\u001b[0m\u001b[1;33m)\u001b[0m\u001b[1;33m:\u001b[0m\u001b[1;33m\u001b[0m\u001b[1;33m\u001b[0m\u001b[0m\n\u001b[1;32m--> 187\u001b[1;33m         \u001b[0mcall\u001b[0m \u001b[1;33m=\u001b[0m \u001b[1;32mlambda\u001b[0m \u001b[0mf\u001b[0m\u001b[1;33m,\u001b[0m \u001b[1;33m*\u001b[0m\u001b[0ma\u001b[0m\u001b[1;33m,\u001b[0m \u001b[1;33m**\u001b[0m\u001b[0mk\u001b[0m\u001b[1;33m:\u001b[0m \u001b[0mf\u001b[0m\u001b[1;33m(\u001b[0m\u001b[1;33m*\u001b[0m\u001b[0ma\u001b[0m\u001b[1;33m,\u001b[0m \u001b[1;33m**\u001b[0m\u001b[0mk\u001b[0m\u001b[1;33m)\u001b[0m\u001b[1;33m\u001b[0m\u001b[1;33m\u001b[0m\u001b[0m\n\u001b[0m\u001b[0;32m    188\u001b[0m \u001b[1;33m\u001b[0m\u001b[0m\n\u001b[0;32m    189\u001b[0m         \u001b[1;32mif\u001b[0m \u001b[0mcallable\u001b[0m\u001b[1;33m(\u001b[0m\u001b[0marg\u001b[0m\u001b[1;33m)\u001b[0m\u001b[1;33m:\u001b[0m\u001b[1;33m\u001b[0m\u001b[1;33m\u001b[0m\u001b[0m\n",
      "\u001b[1;32mC:\\Programs\\Anaconda\\lib\\site-packages\\IPython\\core\\magics\\execution.py\u001b[0m in \u001b[0;36mtimeit\u001b[1;34m(self, line, cell, local_ns)\u001b[0m\n\u001b[0;32m   1158\u001b[0m             \u001b[1;32mfor\u001b[0m \u001b[0mindex\u001b[0m \u001b[1;32min\u001b[0m \u001b[0mrange\u001b[0m\u001b[1;33m(\u001b[0m\u001b[1;36m0\u001b[0m\u001b[1;33m,\u001b[0m \u001b[1;36m10\u001b[0m\u001b[1;33m)\u001b[0m\u001b[1;33m:\u001b[0m\u001b[1;33m\u001b[0m\u001b[1;33m\u001b[0m\u001b[0m\n\u001b[0;32m   1159\u001b[0m                 \u001b[0mnumber\u001b[0m \u001b[1;33m=\u001b[0m \u001b[1;36m10\u001b[0m \u001b[1;33m**\u001b[0m \u001b[0mindex\u001b[0m\u001b[1;33m\u001b[0m\u001b[1;33m\u001b[0m\u001b[0m\n\u001b[1;32m-> 1160\u001b[1;33m                 \u001b[0mtime_number\u001b[0m \u001b[1;33m=\u001b[0m \u001b[0mtimer\u001b[0m\u001b[1;33m.\u001b[0m\u001b[0mtimeit\u001b[0m\u001b[1;33m(\u001b[0m\u001b[0mnumber\u001b[0m\u001b[1;33m)\u001b[0m\u001b[1;33m\u001b[0m\u001b[1;33m\u001b[0m\u001b[0m\n\u001b[0m\u001b[0;32m   1161\u001b[0m                 \u001b[1;32mif\u001b[0m \u001b[0mtime_number\u001b[0m \u001b[1;33m>=\u001b[0m \u001b[1;36m0.2\u001b[0m\u001b[1;33m:\u001b[0m\u001b[1;33m\u001b[0m\u001b[1;33m\u001b[0m\u001b[0m\n\u001b[0;32m   1162\u001b[0m                     \u001b[1;32mbreak\u001b[0m\u001b[1;33m\u001b[0m\u001b[1;33m\u001b[0m\u001b[0m\n",
      "\u001b[1;32mC:\\Programs\\Anaconda\\lib\\site-packages\\IPython\\core\\magics\\execution.py\u001b[0m in \u001b[0;36mtimeit\u001b[1;34m(self, number)\u001b[0m\n\u001b[0;32m    167\u001b[0m         \u001b[0mgc\u001b[0m\u001b[1;33m.\u001b[0m\u001b[0mdisable\u001b[0m\u001b[1;33m(\u001b[0m\u001b[1;33m)\u001b[0m\u001b[1;33m\u001b[0m\u001b[1;33m\u001b[0m\u001b[0m\n\u001b[0;32m    168\u001b[0m         \u001b[1;32mtry\u001b[0m\u001b[1;33m:\u001b[0m\u001b[1;33m\u001b[0m\u001b[1;33m\u001b[0m\u001b[0m\n\u001b[1;32m--> 169\u001b[1;33m             \u001b[0mtiming\u001b[0m \u001b[1;33m=\u001b[0m \u001b[0mself\u001b[0m\u001b[1;33m.\u001b[0m\u001b[0minner\u001b[0m\u001b[1;33m(\u001b[0m\u001b[0mit\u001b[0m\u001b[1;33m,\u001b[0m \u001b[0mself\u001b[0m\u001b[1;33m.\u001b[0m\u001b[0mtimer\u001b[0m\u001b[1;33m)\u001b[0m\u001b[1;33m\u001b[0m\u001b[1;33m\u001b[0m\u001b[0m\n\u001b[0m\u001b[0;32m    170\u001b[0m         \u001b[1;32mfinally\u001b[0m\u001b[1;33m:\u001b[0m\u001b[1;33m\u001b[0m\u001b[1;33m\u001b[0m\u001b[0m\n\u001b[0;32m    171\u001b[0m             \u001b[1;32mif\u001b[0m \u001b[0mgcold\u001b[0m\u001b[1;33m:\u001b[0m\u001b[1;33m\u001b[0m\u001b[1;33m\u001b[0m\u001b[0m\n",
      "\u001b[1;32m<magic-timeit>\u001b[0m in \u001b[0;36minner\u001b[1;34m(_it, _timer)\u001b[0m\n",
      "\u001b[1;31mNameError\u001b[0m: name 'average_cy2' is not defined"
     ]
    }
   ],
   "source": [
    "%timeit average_cy2(n)"
   ]
  },
  {
   "cell_type": "markdown",
   "metadata": {},
   "source": [
    "# Algorithms"
   ]
  },
  {
   "cell_type": "markdown",
   "metadata": {},
   "source": [
    "## Prime Numbers"
   ]
  },
  {
   "cell_type": "markdown",
   "metadata": {},
   "source": [
    "### Pure Python"
   ]
  },
  {
   "cell_type": "code",
   "execution_count": 23,
   "metadata": {},
   "outputs": [],
   "source": [
    "def is_prime(I):\n",
    "    if I % 2 == 0: \n",
    "        print(2)\n",
    "        return False  \n",
    "    for i in range(3, int(I ** 0.5) + 1, 2):  \n",
    "        if I % i == 0: \n",
    "            print(i)\n",
    "            return False  \n",
    "    return True  "
   ]
  },
  {
   "cell_type": "code",
   "execution_count": 24,
   "metadata": {},
   "outputs": [
    {
     "data": {
      "text/plain": [
       "100000003"
      ]
     },
     "execution_count": 24,
     "metadata": {},
     "output_type": "execute_result"
    }
   ],
   "source": [
    "n = int(1e8 + 3)  \n",
    "n"
   ]
  },
  {
   "cell_type": "code",
   "execution_count": 25,
   "metadata": {},
   "outputs": [
    {
     "name": "stdout",
     "output_type": "stream",
     "text": [
      "643\n",
      "Wall time: 0 ns\n"
     ]
    },
    {
     "data": {
      "text/plain": [
       "False"
      ]
     },
     "execution_count": 25,
     "metadata": {},
     "output_type": "execute_result"
    }
   ],
   "source": [
    "%time is_prime(n)"
   ]
  },
  {
   "cell_type": "code",
   "execution_count": 26,
   "metadata": {},
   "outputs": [
    {
     "data": {
      "text/plain": [
       "100000007"
      ]
     },
     "execution_count": 26,
     "metadata": {},
     "output_type": "execute_result"
    }
   ],
   "source": [
    "p1 = int(1e8 + 7)  \n",
    "p1"
   ]
  },
  {
   "cell_type": "code",
   "execution_count": 27,
   "metadata": {},
   "outputs": [
    {
     "name": "stdout",
     "output_type": "stream",
     "text": [
      "Wall time: 999 µs\n"
     ]
    },
    {
     "data": {
      "text/plain": [
       "True"
      ]
     },
     "execution_count": 27,
     "metadata": {},
     "output_type": "execute_result"
    }
   ],
   "source": [
    "%time is_prime(p1)"
   ]
  },
  {
   "cell_type": "code",
   "execution_count": 28,
   "metadata": {},
   "outputs": [],
   "source": [
    "p2 = 100109100129162907  "
   ]
  },
  {
   "cell_type": "code",
   "execution_count": 29,
   "metadata": {},
   "outputs": [
    {
     "data": {
      "text/plain": [
       "57"
      ]
     },
     "execution_count": 29,
     "metadata": {},
     "output_type": "execute_result"
    }
   ],
   "source": [
    "p2.bit_length()  "
   ]
  },
  {
   "cell_type": "code",
   "execution_count": 30,
   "metadata": {},
   "outputs": [
    {
     "data": {
      "text/plain": [
       "56.4743507372539"
      ]
     },
     "execution_count": 30,
     "metadata": {},
     "output_type": "execute_result"
    }
   ],
   "source": [
    "np.log(p2) / np.log(2)"
   ]
  },
  {
   "cell_type": "code",
   "execution_count": 31,
   "metadata": {},
   "outputs": [
    {
     "name": "stdout",
     "output_type": "stream",
     "text": [
      "Wall time: 24.4 s\n"
     ]
    },
    {
     "data": {
      "text/plain": [
       "True"
      ]
     },
     "execution_count": 31,
     "metadata": {},
     "output_type": "execute_result"
    }
   ],
   "source": [
    "%time is_prime(p2)"
   ]
  },
  {
   "cell_type": "markdown",
   "metadata": {},
   "source": [
    "### Numba"
   ]
  },
  {
   "cell_type": "code",
   "execution_count": 32,
   "metadata": {},
   "outputs": [],
   "source": [
    "is_prime_nb = numba.jit(is_prime)"
   ]
  },
  {
   "cell_type": "code",
   "execution_count": 33,
   "metadata": {},
   "outputs": [
    {
     "name": "stdout",
     "output_type": "stream",
     "text": [
      "643\n",
      "Wall time: 219 ms\n"
     ]
    },
    {
     "data": {
      "text/plain": [
       "False"
      ]
     },
     "execution_count": 33,
     "metadata": {},
     "output_type": "execute_result"
    }
   ],
   "source": [
    "%time is_prime_nb(n)  "
   ]
  },
  {
   "cell_type": "code",
   "execution_count": 34,
   "metadata": {},
   "outputs": [
    {
     "name": "stdout",
     "output_type": "stream",
     "text": [
      "643\n",
      "Wall time: 0 ns\n"
     ]
    },
    {
     "data": {
      "text/plain": [
       "False"
      ]
     },
     "execution_count": 34,
     "metadata": {},
     "output_type": "execute_result"
    }
   ],
   "source": [
    "%time is_prime_nb(n)  "
   ]
  },
  {
   "cell_type": "code",
   "execution_count": 35,
   "metadata": {},
   "outputs": [
    {
     "name": "stdout",
     "output_type": "stream",
     "text": [
      "Wall time: 0 ns\n"
     ]
    },
    {
     "data": {
      "text/plain": [
       "True"
      ]
     },
     "execution_count": 35,
     "metadata": {},
     "output_type": "execute_result"
    }
   ],
   "source": [
    "%time is_prime_nb(p1)"
   ]
  },
  {
   "cell_type": "code",
   "execution_count": 36,
   "metadata": {},
   "outputs": [
    {
     "name": "stdout",
     "output_type": "stream",
     "text": [
      "Wall time: 1.89 s\n"
     ]
    },
    {
     "data": {
      "text/plain": [
       "True"
      ]
     },
     "execution_count": 36,
     "metadata": {},
     "output_type": "execute_result"
    }
   ],
   "source": [
    "%time is_prime_nb(p2)  "
   ]
  },
  {
   "cell_type": "markdown",
   "metadata": {},
   "source": [
    "### Cython"
   ]
  },
  {
   "cell_type": "code",
   "execution_count": null,
   "metadata": {},
   "outputs": [],
   "source": [
    "%%cython\n",
    "def is_prime_cy1(I):\n",
    "    if I % 2 == 0: return False\n",
    "    for i in range(3, int(I ** 0.5) + 1, 2):\n",
    "        if I % i == 0: return False\n",
    "    return True"
   ]
  },
  {
   "cell_type": "code",
   "execution_count": null,
   "metadata": {},
   "outputs": [],
   "source": [
    "%load_ext cython"
   ]
  },
  {
   "cell_type": "code",
   "execution_count": null,
   "metadata": {},
   "outputs": [],
   "source": [
    "%%cython\n",
    "\n",
    "cdef int a = 0\n",
    "for i in range(10):\n",
    "    a += i\n",
    "print(a)"
   ]
  },
  {
   "cell_type": "code",
   "execution_count": 38,
   "metadata": {},
   "outputs": [
    {
     "name": "stdout",
     "output_type": "stream",
     "text": [
      "570 µs ± 13.4 µs per loop (mean ± std. dev. of 7 runs, 1000 loops each)\n"
     ]
    }
   ],
   "source": [
    "%timeit is_prime(p1)"
   ]
  },
  {
   "cell_type": "code",
   "execution_count": 39,
   "metadata": {},
   "outputs": [
    {
     "ename": "NameError",
     "evalue": "name 'is_prime_cy1' is not defined",
     "output_type": "error",
     "traceback": [
      "\u001b[1;31m---------------------------------------------------------------------------\u001b[0m",
      "\u001b[1;31mNameError\u001b[0m                                 Traceback (most recent call last)",
      "\u001b[1;32m<ipython-input-39-aec08085ba00>\u001b[0m in \u001b[0;36m<module>\u001b[1;34m\u001b[0m\n\u001b[1;32m----> 1\u001b[1;33m \u001b[0mget_ipython\u001b[0m\u001b[1;33m(\u001b[0m\u001b[1;33m)\u001b[0m\u001b[1;33m.\u001b[0m\u001b[0mrun_line_magic\u001b[0m\u001b[1;33m(\u001b[0m\u001b[1;34m'timeit'\u001b[0m\u001b[1;33m,\u001b[0m \u001b[1;34m'is_prime_cy1(p1)'\u001b[0m\u001b[1;33m)\u001b[0m\u001b[1;33m\u001b[0m\u001b[1;33m\u001b[0m\u001b[0m\n\u001b[0m",
      "\u001b[1;32mC:\\Programs\\Anaconda\\lib\\site-packages\\IPython\\core\\interactiveshell.py\u001b[0m in \u001b[0;36mrun_line_magic\u001b[1;34m(self, magic_name, line, _stack_depth)\u001b[0m\n\u001b[0;32m   2315\u001b[0m                 \u001b[0mkwargs\u001b[0m\u001b[1;33m[\u001b[0m\u001b[1;34m'local_ns'\u001b[0m\u001b[1;33m]\u001b[0m \u001b[1;33m=\u001b[0m \u001b[0msys\u001b[0m\u001b[1;33m.\u001b[0m\u001b[0m_getframe\u001b[0m\u001b[1;33m(\u001b[0m\u001b[0mstack_depth\u001b[0m\u001b[1;33m)\u001b[0m\u001b[1;33m.\u001b[0m\u001b[0mf_locals\u001b[0m\u001b[1;33m\u001b[0m\u001b[1;33m\u001b[0m\u001b[0m\n\u001b[0;32m   2316\u001b[0m             \u001b[1;32mwith\u001b[0m \u001b[0mself\u001b[0m\u001b[1;33m.\u001b[0m\u001b[0mbuiltin_trap\u001b[0m\u001b[1;33m:\u001b[0m\u001b[1;33m\u001b[0m\u001b[1;33m\u001b[0m\u001b[0m\n\u001b[1;32m-> 2317\u001b[1;33m                 \u001b[0mresult\u001b[0m \u001b[1;33m=\u001b[0m \u001b[0mfn\u001b[0m\u001b[1;33m(\u001b[0m\u001b[1;33m*\u001b[0m\u001b[0margs\u001b[0m\u001b[1;33m,\u001b[0m \u001b[1;33m**\u001b[0m\u001b[0mkwargs\u001b[0m\u001b[1;33m)\u001b[0m\u001b[1;33m\u001b[0m\u001b[1;33m\u001b[0m\u001b[0m\n\u001b[0m\u001b[0;32m   2318\u001b[0m             \u001b[1;32mreturn\u001b[0m \u001b[0mresult\u001b[0m\u001b[1;33m\u001b[0m\u001b[1;33m\u001b[0m\u001b[0m\n\u001b[0;32m   2319\u001b[0m \u001b[1;33m\u001b[0m\u001b[0m\n",
      "\u001b[1;32m<C:\\Programs\\Anaconda\\lib\\site-packages\\decorator.py:decorator-gen-61>\u001b[0m in \u001b[0;36mtimeit\u001b[1;34m(self, line, cell, local_ns)\u001b[0m\n",
      "\u001b[1;32mC:\\Programs\\Anaconda\\lib\\site-packages\\IPython\\core\\magic.py\u001b[0m in \u001b[0;36m<lambda>\u001b[1;34m(f, *a, **k)\u001b[0m\n\u001b[0;32m    185\u001b[0m     \u001b[1;31m# but it's overkill for just that one bit of state.\u001b[0m\u001b[1;33m\u001b[0m\u001b[1;33m\u001b[0m\u001b[1;33m\u001b[0m\u001b[0m\n\u001b[0;32m    186\u001b[0m     \u001b[1;32mdef\u001b[0m \u001b[0mmagic_deco\u001b[0m\u001b[1;33m(\u001b[0m\u001b[0marg\u001b[0m\u001b[1;33m)\u001b[0m\u001b[1;33m:\u001b[0m\u001b[1;33m\u001b[0m\u001b[1;33m\u001b[0m\u001b[0m\n\u001b[1;32m--> 187\u001b[1;33m         \u001b[0mcall\u001b[0m \u001b[1;33m=\u001b[0m \u001b[1;32mlambda\u001b[0m \u001b[0mf\u001b[0m\u001b[1;33m,\u001b[0m \u001b[1;33m*\u001b[0m\u001b[0ma\u001b[0m\u001b[1;33m,\u001b[0m \u001b[1;33m**\u001b[0m\u001b[0mk\u001b[0m\u001b[1;33m:\u001b[0m \u001b[0mf\u001b[0m\u001b[1;33m(\u001b[0m\u001b[1;33m*\u001b[0m\u001b[0ma\u001b[0m\u001b[1;33m,\u001b[0m \u001b[1;33m**\u001b[0m\u001b[0mk\u001b[0m\u001b[1;33m)\u001b[0m\u001b[1;33m\u001b[0m\u001b[1;33m\u001b[0m\u001b[0m\n\u001b[0m\u001b[0;32m    188\u001b[0m \u001b[1;33m\u001b[0m\u001b[0m\n\u001b[0;32m    189\u001b[0m         \u001b[1;32mif\u001b[0m \u001b[0mcallable\u001b[0m\u001b[1;33m(\u001b[0m\u001b[0marg\u001b[0m\u001b[1;33m)\u001b[0m\u001b[1;33m:\u001b[0m\u001b[1;33m\u001b[0m\u001b[1;33m\u001b[0m\u001b[0m\n",
      "\u001b[1;32mC:\\Programs\\Anaconda\\lib\\site-packages\\IPython\\core\\magics\\execution.py\u001b[0m in \u001b[0;36mtimeit\u001b[1;34m(self, line, cell, local_ns)\u001b[0m\n\u001b[0;32m   1158\u001b[0m             \u001b[1;32mfor\u001b[0m \u001b[0mindex\u001b[0m \u001b[1;32min\u001b[0m \u001b[0mrange\u001b[0m\u001b[1;33m(\u001b[0m\u001b[1;36m0\u001b[0m\u001b[1;33m,\u001b[0m \u001b[1;36m10\u001b[0m\u001b[1;33m)\u001b[0m\u001b[1;33m:\u001b[0m\u001b[1;33m\u001b[0m\u001b[1;33m\u001b[0m\u001b[0m\n\u001b[0;32m   1159\u001b[0m                 \u001b[0mnumber\u001b[0m \u001b[1;33m=\u001b[0m \u001b[1;36m10\u001b[0m \u001b[1;33m**\u001b[0m \u001b[0mindex\u001b[0m\u001b[1;33m\u001b[0m\u001b[1;33m\u001b[0m\u001b[0m\n\u001b[1;32m-> 1160\u001b[1;33m                 \u001b[0mtime_number\u001b[0m \u001b[1;33m=\u001b[0m \u001b[0mtimer\u001b[0m\u001b[1;33m.\u001b[0m\u001b[0mtimeit\u001b[0m\u001b[1;33m(\u001b[0m\u001b[0mnumber\u001b[0m\u001b[1;33m)\u001b[0m\u001b[1;33m\u001b[0m\u001b[1;33m\u001b[0m\u001b[0m\n\u001b[0m\u001b[0;32m   1161\u001b[0m                 \u001b[1;32mif\u001b[0m \u001b[0mtime_number\u001b[0m \u001b[1;33m>=\u001b[0m \u001b[1;36m0.2\u001b[0m\u001b[1;33m:\u001b[0m\u001b[1;33m\u001b[0m\u001b[1;33m\u001b[0m\u001b[0m\n\u001b[0;32m   1162\u001b[0m                     \u001b[1;32mbreak\u001b[0m\u001b[1;33m\u001b[0m\u001b[1;33m\u001b[0m\u001b[0m\n",
      "\u001b[1;32mC:\\Programs\\Anaconda\\lib\\site-packages\\IPython\\core\\magics\\execution.py\u001b[0m in \u001b[0;36mtimeit\u001b[1;34m(self, number)\u001b[0m\n\u001b[0;32m    167\u001b[0m         \u001b[0mgc\u001b[0m\u001b[1;33m.\u001b[0m\u001b[0mdisable\u001b[0m\u001b[1;33m(\u001b[0m\u001b[1;33m)\u001b[0m\u001b[1;33m\u001b[0m\u001b[1;33m\u001b[0m\u001b[0m\n\u001b[0;32m    168\u001b[0m         \u001b[1;32mtry\u001b[0m\u001b[1;33m:\u001b[0m\u001b[1;33m\u001b[0m\u001b[1;33m\u001b[0m\u001b[0m\n\u001b[1;32m--> 169\u001b[1;33m             \u001b[0mtiming\u001b[0m \u001b[1;33m=\u001b[0m \u001b[0mself\u001b[0m\u001b[1;33m.\u001b[0m\u001b[0minner\u001b[0m\u001b[1;33m(\u001b[0m\u001b[0mit\u001b[0m\u001b[1;33m,\u001b[0m \u001b[0mself\u001b[0m\u001b[1;33m.\u001b[0m\u001b[0mtimer\u001b[0m\u001b[1;33m)\u001b[0m\u001b[1;33m\u001b[0m\u001b[1;33m\u001b[0m\u001b[0m\n\u001b[0m\u001b[0;32m    170\u001b[0m         \u001b[1;32mfinally\u001b[0m\u001b[1;33m:\u001b[0m\u001b[1;33m\u001b[0m\u001b[1;33m\u001b[0m\u001b[0m\n\u001b[0;32m    171\u001b[0m             \u001b[1;32mif\u001b[0m \u001b[0mgcold\u001b[0m\u001b[1;33m:\u001b[0m\u001b[1;33m\u001b[0m\u001b[1;33m\u001b[0m\u001b[0m\n",
      "\u001b[1;32m<magic-timeit>\u001b[0m in \u001b[0;36minner\u001b[1;34m(_it, _timer)\u001b[0m\n",
      "\u001b[1;31mNameError\u001b[0m: name 'is_prime_cy1' is not defined"
     ]
    }
   ],
   "source": [
    "%timeit is_prime_cy1(p1)"
   ]
  },
  {
   "cell_type": "code",
   "execution_count": 40,
   "metadata": {},
   "outputs": [],
   "source": [
    "%%cython\n",
    "def is_prime_cy2(long I):  \n",
    "    cdef long i  \n",
    "    if I % 2 == 0: return False\n",
    "    for i in range(3, int(I ** 0.5) + 1, 2):\n",
    "        if I % i == 0: return False\n",
    "    return True"
   ]
  },
  {
   "cell_type": "code",
   "execution_count": 41,
   "metadata": {},
   "outputs": [
    {
     "ename": "NameError",
     "evalue": "name 'is_prime_cy2' is not defined",
     "output_type": "error",
     "traceback": [
      "\u001b[1;31m---------------------------------------------------------------------------\u001b[0m",
      "\u001b[1;31mNameError\u001b[0m                                 Traceback (most recent call last)",
      "\u001b[1;32m<ipython-input-41-a936d19dfef7>\u001b[0m in \u001b[0;36m<module>\u001b[1;34m\u001b[0m\n\u001b[1;32m----> 1\u001b[1;33m \u001b[0mget_ipython\u001b[0m\u001b[1;33m(\u001b[0m\u001b[1;33m)\u001b[0m\u001b[1;33m.\u001b[0m\u001b[0mrun_line_magic\u001b[0m\u001b[1;33m(\u001b[0m\u001b[1;34m'timeit'\u001b[0m\u001b[1;33m,\u001b[0m \u001b[1;34m'is_prime_cy2(p1)'\u001b[0m\u001b[1;33m)\u001b[0m\u001b[1;33m\u001b[0m\u001b[1;33m\u001b[0m\u001b[0m\n\u001b[0m",
      "\u001b[1;32mC:\\Programs\\Anaconda\\lib\\site-packages\\IPython\\core\\interactiveshell.py\u001b[0m in \u001b[0;36mrun_line_magic\u001b[1;34m(self, magic_name, line, _stack_depth)\u001b[0m\n\u001b[0;32m   2315\u001b[0m                 \u001b[0mkwargs\u001b[0m\u001b[1;33m[\u001b[0m\u001b[1;34m'local_ns'\u001b[0m\u001b[1;33m]\u001b[0m \u001b[1;33m=\u001b[0m \u001b[0msys\u001b[0m\u001b[1;33m.\u001b[0m\u001b[0m_getframe\u001b[0m\u001b[1;33m(\u001b[0m\u001b[0mstack_depth\u001b[0m\u001b[1;33m)\u001b[0m\u001b[1;33m.\u001b[0m\u001b[0mf_locals\u001b[0m\u001b[1;33m\u001b[0m\u001b[1;33m\u001b[0m\u001b[0m\n\u001b[0;32m   2316\u001b[0m             \u001b[1;32mwith\u001b[0m \u001b[0mself\u001b[0m\u001b[1;33m.\u001b[0m\u001b[0mbuiltin_trap\u001b[0m\u001b[1;33m:\u001b[0m\u001b[1;33m\u001b[0m\u001b[1;33m\u001b[0m\u001b[0m\n\u001b[1;32m-> 2317\u001b[1;33m                 \u001b[0mresult\u001b[0m \u001b[1;33m=\u001b[0m \u001b[0mfn\u001b[0m\u001b[1;33m(\u001b[0m\u001b[1;33m*\u001b[0m\u001b[0margs\u001b[0m\u001b[1;33m,\u001b[0m \u001b[1;33m**\u001b[0m\u001b[0mkwargs\u001b[0m\u001b[1;33m)\u001b[0m\u001b[1;33m\u001b[0m\u001b[1;33m\u001b[0m\u001b[0m\n\u001b[0m\u001b[0;32m   2318\u001b[0m             \u001b[1;32mreturn\u001b[0m \u001b[0mresult\u001b[0m\u001b[1;33m\u001b[0m\u001b[1;33m\u001b[0m\u001b[0m\n\u001b[0;32m   2319\u001b[0m \u001b[1;33m\u001b[0m\u001b[0m\n",
      "\u001b[1;32m<C:\\Programs\\Anaconda\\lib\\site-packages\\decorator.py:decorator-gen-61>\u001b[0m in \u001b[0;36mtimeit\u001b[1;34m(self, line, cell, local_ns)\u001b[0m\n",
      "\u001b[1;32mC:\\Programs\\Anaconda\\lib\\site-packages\\IPython\\core\\magic.py\u001b[0m in \u001b[0;36m<lambda>\u001b[1;34m(f, *a, **k)\u001b[0m\n\u001b[0;32m    185\u001b[0m     \u001b[1;31m# but it's overkill for just that one bit of state.\u001b[0m\u001b[1;33m\u001b[0m\u001b[1;33m\u001b[0m\u001b[1;33m\u001b[0m\u001b[0m\n\u001b[0;32m    186\u001b[0m     \u001b[1;32mdef\u001b[0m \u001b[0mmagic_deco\u001b[0m\u001b[1;33m(\u001b[0m\u001b[0marg\u001b[0m\u001b[1;33m)\u001b[0m\u001b[1;33m:\u001b[0m\u001b[1;33m\u001b[0m\u001b[1;33m\u001b[0m\u001b[0m\n\u001b[1;32m--> 187\u001b[1;33m         \u001b[0mcall\u001b[0m \u001b[1;33m=\u001b[0m \u001b[1;32mlambda\u001b[0m \u001b[0mf\u001b[0m\u001b[1;33m,\u001b[0m \u001b[1;33m*\u001b[0m\u001b[0ma\u001b[0m\u001b[1;33m,\u001b[0m \u001b[1;33m**\u001b[0m\u001b[0mk\u001b[0m\u001b[1;33m:\u001b[0m \u001b[0mf\u001b[0m\u001b[1;33m(\u001b[0m\u001b[1;33m*\u001b[0m\u001b[0ma\u001b[0m\u001b[1;33m,\u001b[0m \u001b[1;33m**\u001b[0m\u001b[0mk\u001b[0m\u001b[1;33m)\u001b[0m\u001b[1;33m\u001b[0m\u001b[1;33m\u001b[0m\u001b[0m\n\u001b[0m\u001b[0;32m    188\u001b[0m \u001b[1;33m\u001b[0m\u001b[0m\n\u001b[0;32m    189\u001b[0m         \u001b[1;32mif\u001b[0m \u001b[0mcallable\u001b[0m\u001b[1;33m(\u001b[0m\u001b[0marg\u001b[0m\u001b[1;33m)\u001b[0m\u001b[1;33m:\u001b[0m\u001b[1;33m\u001b[0m\u001b[1;33m\u001b[0m\u001b[0m\n",
      "\u001b[1;32mC:\\Programs\\Anaconda\\lib\\site-packages\\IPython\\core\\magics\\execution.py\u001b[0m in \u001b[0;36mtimeit\u001b[1;34m(self, line, cell, local_ns)\u001b[0m\n\u001b[0;32m   1158\u001b[0m             \u001b[1;32mfor\u001b[0m \u001b[0mindex\u001b[0m \u001b[1;32min\u001b[0m \u001b[0mrange\u001b[0m\u001b[1;33m(\u001b[0m\u001b[1;36m0\u001b[0m\u001b[1;33m,\u001b[0m \u001b[1;36m10\u001b[0m\u001b[1;33m)\u001b[0m\u001b[1;33m:\u001b[0m\u001b[1;33m\u001b[0m\u001b[1;33m\u001b[0m\u001b[0m\n\u001b[0;32m   1159\u001b[0m                 \u001b[0mnumber\u001b[0m \u001b[1;33m=\u001b[0m \u001b[1;36m10\u001b[0m \u001b[1;33m**\u001b[0m \u001b[0mindex\u001b[0m\u001b[1;33m\u001b[0m\u001b[1;33m\u001b[0m\u001b[0m\n\u001b[1;32m-> 1160\u001b[1;33m                 \u001b[0mtime_number\u001b[0m \u001b[1;33m=\u001b[0m \u001b[0mtimer\u001b[0m\u001b[1;33m.\u001b[0m\u001b[0mtimeit\u001b[0m\u001b[1;33m(\u001b[0m\u001b[0mnumber\u001b[0m\u001b[1;33m)\u001b[0m\u001b[1;33m\u001b[0m\u001b[1;33m\u001b[0m\u001b[0m\n\u001b[0m\u001b[0;32m   1161\u001b[0m                 \u001b[1;32mif\u001b[0m \u001b[0mtime_number\u001b[0m \u001b[1;33m>=\u001b[0m \u001b[1;36m0.2\u001b[0m\u001b[1;33m:\u001b[0m\u001b[1;33m\u001b[0m\u001b[1;33m\u001b[0m\u001b[0m\n\u001b[0;32m   1162\u001b[0m                     \u001b[1;32mbreak\u001b[0m\u001b[1;33m\u001b[0m\u001b[1;33m\u001b[0m\u001b[0m\n",
      "\u001b[1;32mC:\\Programs\\Anaconda\\lib\\site-packages\\IPython\\core\\magics\\execution.py\u001b[0m in \u001b[0;36mtimeit\u001b[1;34m(self, number)\u001b[0m\n\u001b[0;32m    167\u001b[0m         \u001b[0mgc\u001b[0m\u001b[1;33m.\u001b[0m\u001b[0mdisable\u001b[0m\u001b[1;33m(\u001b[0m\u001b[1;33m)\u001b[0m\u001b[1;33m\u001b[0m\u001b[1;33m\u001b[0m\u001b[0m\n\u001b[0;32m    168\u001b[0m         \u001b[1;32mtry\u001b[0m\u001b[1;33m:\u001b[0m\u001b[1;33m\u001b[0m\u001b[1;33m\u001b[0m\u001b[0m\n\u001b[1;32m--> 169\u001b[1;33m             \u001b[0mtiming\u001b[0m \u001b[1;33m=\u001b[0m \u001b[0mself\u001b[0m\u001b[1;33m.\u001b[0m\u001b[0minner\u001b[0m\u001b[1;33m(\u001b[0m\u001b[0mit\u001b[0m\u001b[1;33m,\u001b[0m \u001b[0mself\u001b[0m\u001b[1;33m.\u001b[0m\u001b[0mtimer\u001b[0m\u001b[1;33m)\u001b[0m\u001b[1;33m\u001b[0m\u001b[1;33m\u001b[0m\u001b[0m\n\u001b[0m\u001b[0;32m    170\u001b[0m         \u001b[1;32mfinally\u001b[0m\u001b[1;33m:\u001b[0m\u001b[1;33m\u001b[0m\u001b[1;33m\u001b[0m\u001b[0m\n\u001b[0;32m    171\u001b[0m             \u001b[1;32mif\u001b[0m \u001b[0mgcold\u001b[0m\u001b[1;33m:\u001b[0m\u001b[1;33m\u001b[0m\u001b[1;33m\u001b[0m\u001b[0m\n",
      "\u001b[1;32m<magic-timeit>\u001b[0m in \u001b[0;36minner\u001b[1;34m(_it, _timer)\u001b[0m\n",
      "\u001b[1;31mNameError\u001b[0m: name 'is_prime_cy2' is not defined"
     ]
    }
   ],
   "source": [
    "%timeit is_prime_cy2(p1)"
   ]
  },
  {
   "cell_type": "code",
   "execution_count": 42,
   "metadata": {},
   "outputs": [
    {
     "name": "stdout",
     "output_type": "stream",
     "text": [
      "Wall time: 1.64 s\n"
     ]
    },
    {
     "data": {
      "text/plain": [
       "True"
      ]
     },
     "execution_count": 42,
     "metadata": {},
     "output_type": "execute_result"
    }
   ],
   "source": [
    "%time is_prime_nb(p2)"
   ]
  },
  {
   "cell_type": "code",
   "execution_count": 43,
   "metadata": {},
   "outputs": [
    {
     "ename": "NameError",
     "evalue": "name 'is_prime_cy2' is not defined",
     "output_type": "error",
     "traceback": [
      "\u001b[1;31m---------------------------------------------------------------------------\u001b[0m",
      "\u001b[1;31mNameError\u001b[0m                                 Traceback (most recent call last)",
      "\u001b[1;32m<timed eval>\u001b[0m in \u001b[0;36m<module>\u001b[1;34m\u001b[0m\n",
      "\u001b[1;31mNameError\u001b[0m: name 'is_prime_cy2' is not defined"
     ]
    }
   ],
   "source": [
    "%time is_prime_cy2(p2)"
   ]
  },
  {
   "cell_type": "markdown",
   "metadata": {},
   "source": [
    "### Multiprocessing"
   ]
  },
  {
   "cell_type": "code",
   "execution_count": 44,
   "metadata": {},
   "outputs": [],
   "source": [
    "import multiprocessing as mp"
   ]
  },
  {
   "cell_type": "code",
   "execution_count": 45,
   "metadata": {},
   "outputs": [],
   "source": [
    "pool = mp.Pool(processes=4)  "
   ]
  },
  {
   "cell_type": "code",
   "execution_count": 46,
   "metadata": {},
   "outputs": [],
   "source": [
    "mp.Pool?"
   ]
  },
  {
   "cell_type": "code",
   "execution_count": 47,
   "metadata": {},
   "outputs": [],
   "source": [
    "pool.map?"
   ]
  },
  {
   "cell_type": "code",
   "execution_count": null,
   "metadata": {},
   "outputs": [],
   "source": [
    "%time pool.map(is_prime, 10 * [p1])  "
   ]
  },
  {
   "cell_type": "code",
   "execution_count": null,
   "metadata": {},
   "outputs": [],
   "source": [
    "%time pool.map(is_prime_nb, 10 * [p2])  "
   ]
  },
  {
   "cell_type": "code",
   "execution_count": null,
   "metadata": {},
   "outputs": [],
   "source": [
    "%time pool.map(is_prime_cy2, 10 * [p2])  "
   ]
  },
  {
   "cell_type": "markdown",
   "metadata": {},
   "source": [
    "## Fibonacci Numbers"
   ]
  },
  {
   "cell_type": "markdown",
   "metadata": {},
   "source": [
    "### Recursive Algorithm"
   ]
  },
  {
   "cell_type": "code",
   "execution_count": 1,
   "metadata": {},
   "outputs": [],
   "source": [
    "def fib_rec_py1(n):\n",
    "    if n < 2:\n",
    "        return n\n",
    "    else:\n",
    "        return fib_rec_py1(n - 1) + fib_rec_py1(n - 2)"
   ]
  },
  {
   "cell_type": "code",
   "execution_count": 2,
   "metadata": {},
   "outputs": [
    {
     "name": "stdout",
     "output_type": "stream",
     "text": [
      "Wall time: 4.71 s\n"
     ]
    },
    {
     "data": {
      "text/plain": [
       "9227465"
      ]
     },
     "execution_count": 2,
     "metadata": {},
     "output_type": "execute_result"
    }
   ],
   "source": [
    "%time fib_rec_py1(35)"
   ]
  },
  {
   "cell_type": "code",
   "execution_count": 5,
   "metadata": {},
   "outputs": [],
   "source": [
    "fib_rec_nb = numba.jit(fib_rec_py1)"
   ]
  },
  {
   "cell_type": "code",
   "execution_count": 8,
   "metadata": {},
   "outputs": [
    {
     "name": "stdout",
     "output_type": "stream",
     "text": [
      "Wall time: 4.57 s\n"
     ]
    },
    {
     "data": {
      "text/plain": [
       "9227465"
      ]
     },
     "execution_count": 8,
     "metadata": {},
     "output_type": "execute_result"
    }
   ],
   "source": [
    "%time fib_rec_nb(35)"
   ]
  },
  {
   "cell_type": "code",
   "execution_count": null,
   "metadata": {},
   "outputs": [],
   "source": [
    "%%cython\n",
    "def fib_rec_cy(int n):\n",
    "    if n < 2:\n",
    "        return n\n",
    "    else:\n",
    "        return fib_rec_cy(n - 1) + fib_rec_cy(n - 2)"
   ]
  },
  {
   "cell_type": "code",
   "execution_count": null,
   "metadata": {},
   "outputs": [],
   "source": [
    "%time fib_rec_cy(35)"
   ]
  },
  {
   "cell_type": "code",
   "execution_count": 9,
   "metadata": {},
   "outputs": [],
   "source": [
    "from functools import lru_cache as cache"
   ]
  },
  {
   "cell_type": "code",
   "execution_count": 10,
   "metadata": {},
   "outputs": [],
   "source": [
    "@cache(maxsize=None)  \n",
    "def fib_rec_py2(n):\n",
    "    if n < 2:\n",
    "        return n\n",
    "    else:\n",
    "        return fib_rec_py2(n - 1) + fib_rec_py2(n - 2)"
   ]
  },
  {
   "cell_type": "code",
   "execution_count": 11,
   "metadata": {},
   "outputs": [
    {
     "name": "stdout",
     "output_type": "stream",
     "text": [
      "Wall time: 0 ns\n"
     ]
    },
    {
     "data": {
      "text/plain": [
       "9227465"
      ]
     },
     "execution_count": 11,
     "metadata": {},
     "output_type": "execute_result"
    }
   ],
   "source": [
    "%time fib_rec_py2(35)  "
   ]
  },
  {
   "cell_type": "code",
   "execution_count": 12,
   "metadata": {},
   "outputs": [
    {
     "name": "stdout",
     "output_type": "stream",
     "text": [
      "Wall time: 0 ns\n"
     ]
    },
    {
     "data": {
      "text/plain": [
       "23416728348467685"
      ]
     },
     "execution_count": 12,
     "metadata": {},
     "output_type": "execute_result"
    }
   ],
   "source": [
    "%time fib_rec_py2(80)  "
   ]
  },
  {
   "cell_type": "markdown",
   "metadata": {},
   "source": [
    "### Iterative Algorithm "
   ]
  },
  {
   "cell_type": "code",
   "execution_count": 13,
   "metadata": {},
   "outputs": [],
   "source": [
    "def fib_it_py(n):\n",
    "    x, y = 0, 1\n",
    "    for i in range(1, n + 1):\n",
    "        x, y = y, x + y\n",
    "    return x"
   ]
  },
  {
   "cell_type": "code",
   "execution_count": 14,
   "metadata": {},
   "outputs": [
    {
     "name": "stdout",
     "output_type": "stream",
     "text": [
      "Wall time: 0 ns\n"
     ]
    },
    {
     "data": {
      "text/plain": [
       "23416728348467685"
      ]
     },
     "execution_count": 14,
     "metadata": {},
     "output_type": "execute_result"
    }
   ],
   "source": [
    "%time fib_it_py(80)"
   ]
  },
  {
   "cell_type": "code",
   "execution_count": 15,
   "metadata": {},
   "outputs": [],
   "source": [
    "fib_it_nb = numba.jit(fib_it_py)"
   ]
  },
  {
   "cell_type": "code",
   "execution_count": 16,
   "metadata": {},
   "outputs": [
    {
     "name": "stdout",
     "output_type": "stream",
     "text": [
      "Wall time: 105 ms\n"
     ]
    },
    {
     "data": {
      "text/plain": [
       "23416728348467685"
      ]
     },
     "execution_count": 16,
     "metadata": {},
     "output_type": "execute_result"
    }
   ],
   "source": [
    "%time fib_it_nb(80)"
   ]
  },
  {
   "cell_type": "code",
   "execution_count": 17,
   "metadata": {},
   "outputs": [
    {
     "name": "stdout",
     "output_type": "stream",
     "text": [
      "Wall time: 0 ns\n"
     ]
    },
    {
     "data": {
      "text/plain": [
       "23416728348467685"
      ]
     },
     "execution_count": 17,
     "metadata": {},
     "output_type": "execute_result"
    }
   ],
   "source": [
    "%time fib_it_nb(80)"
   ]
  },
  {
   "cell_type": "code",
   "execution_count": 18,
   "metadata": {},
   "outputs": [
    {
     "name": "stderr",
     "output_type": "stream",
     "text": [
      "UsageError: Cell magic `%%cython` not found.\n"
     ]
    }
   ],
   "source": [
    "%%cython\n",
    "def fib_it_cy1(int n):\n",
    "    cdef long i\n",
    "    cdef long x = 0, y = 1\n",
    "    for i in range(1, n + 1):\n",
    "        x, y = y, x + y\n",
    "    return x"
   ]
  },
  {
   "cell_type": "code",
   "execution_count": null,
   "metadata": {},
   "outputs": [],
   "source": [
    "%time fib_it_cy1(80)"
   ]
  },
  {
   "cell_type": "code",
   "execution_count": 19,
   "metadata": {},
   "outputs": [
    {
     "name": "stdout",
     "output_type": "stream",
     "text": [
      "9969216677189303386214405760200\n",
      "Wall time: 0 ns\n"
     ]
    }
   ],
   "source": [
    "%%time\n",
    "fn = fib_rec_py2(150)  \n",
    "print(fn)  "
   ]
  },
  {
   "cell_type": "code",
   "execution_count": 20,
   "metadata": {},
   "outputs": [
    {
     "data": {
      "text/plain": [
       "103"
      ]
     },
     "execution_count": 20,
     "metadata": {},
     "output_type": "execute_result"
    }
   ],
   "source": [
    "fn.bit_length()  "
   ]
  },
  {
   "cell_type": "code",
   "execution_count": 21,
   "metadata": {},
   "outputs": [
    {
     "name": "stdout",
     "output_type": "stream",
     "text": [
      "6792540214324356296\n",
      "Wall time: 0 ns\n"
     ]
    }
   ],
   "source": [
    "%%time \n",
    "fn = fib_it_nb(150)  \n",
    "print(fn)  "
   ]
  },
  {
   "cell_type": "code",
   "execution_count": 22,
   "metadata": {},
   "outputs": [
    {
     "data": {
      "text/plain": [
       "63"
      ]
     },
     "execution_count": 22,
     "metadata": {},
     "output_type": "execute_result"
    }
   ],
   "source": [
    "fn.bit_length()  "
   ]
  },
  {
   "cell_type": "code",
   "execution_count": null,
   "metadata": {},
   "outputs": [],
   "source": [
    "%%time\n",
    "fn = fib_it_cy1(150)  \n",
    "print(fn)  "
   ]
  },
  {
   "cell_type": "code",
   "execution_count": null,
   "metadata": {},
   "outputs": [],
   "source": [
    "fn.bit_length()  "
   ]
  },
  {
   "cell_type": "code",
   "execution_count": null,
   "metadata": {},
   "outputs": [],
   "source": [
    "%%cython\n",
    "cdef extern from *:\n",
    "    ctypedef int int128 '__int128_t'  \n",
    "def fib_it_cy2(int n):\n",
    "    cdef int128 i  \n",
    "    cdef int128 x = 0, y = 1  \n",
    "    for i in range(1, n + 1):\n",
    "        x, y = y, x + y\n",
    "    return x"
   ]
  },
  {
   "cell_type": "code",
   "execution_count": null,
   "metadata": {},
   "outputs": [],
   "source": [
    "%%time\n",
    "fn = fib_it_cy2(150)  \n",
    "print(fn)  "
   ]
  },
  {
   "cell_type": "code",
   "execution_count": null,
   "metadata": {},
   "outputs": [],
   "source": [
    "fn.bit_length()  "
   ]
  },
  {
   "cell_type": "markdown",
   "metadata": {},
   "source": [
    "## The Number Pi"
   ]
  },
  {
   "cell_type": "markdown",
   "metadata": {},
   "source": [
    "The code example is taken from [StackExchange](https://codereview.stackexchange.com/questions/69370/monte-carlo-pi-calculation)."
   ]
  },
  {
   "cell_type": "code",
   "execution_count": 23,
   "metadata": {},
   "outputs": [],
   "source": [
    "import random\n",
    "import numpy as np\n",
    "from pylab import mpl, plt\n",
    "plt.style.use('seaborn')\n",
    "mpl.rcParams['font.family'] = 'serif'\n",
    "%matplotlib inline"
   ]
  },
  {
   "cell_type": "code",
   "execution_count": 24,
   "metadata": {},
   "outputs": [],
   "source": [
    "rn = [(random.random() * 2 - 1, random.random() * 2 - 1)\n",
    "      for _ in range(500)]"
   ]
  },
  {
   "cell_type": "code",
   "execution_count": 25,
   "metadata": {},
   "outputs": [
    {
     "data": {
      "text/plain": [
       "array([[-0.91399021,  0.59639708],\n",
       "       [ 0.39568031, -0.26565309],\n",
       "       [ 0.46726652,  0.89599203],\n",
       "       [ 0.94852059,  0.00270209],\n",
       "       [ 0.34399832, -0.16464281]])"
      ]
     },
     "execution_count": 25,
     "metadata": {},
     "output_type": "execute_result"
    }
   ],
   "source": [
    "rn = np.array(rn)\n",
    "rn[:5]"
   ]
  },
  {
   "cell_type": "code",
   "execution_count": 26,
   "metadata": {},
   "outputs": [
    {
     "data": {
      "text/plain": [
       "(-1.1, 1.1)"
      ]
     },
     "execution_count": 26,
     "metadata": {},
     "output_type": "execute_result"
    },
    {
     "data": {
      "image/png": "[encoded data removed]",
      "text/plain": [
       "<Figure size 504x504 with 1 Axes>"
      ]
     },
     "metadata": {
      "needs_background": "light"
     },
     "output_type": "display_data"
    }
   ],
   "source": [
    "fig = plt.figure(figsize=(7, 7))\n",
    "\n",
    "ax = fig.add_subplot(1, 1, 1)\n",
    "\n",
    "circ = plt.Circle((0, 0), radius=1, edgecolor='g', lw=2.0,\n",
    "                  facecolor='None')  \n",
    "\n",
    "box = plt.Rectangle((-1, -1), 2, 2, edgecolor='b', alpha=0.3)  \n",
    "\n",
    "ax.add_patch(circ)  \n",
    "ax.add_patch(box)  \n",
    "plt.plot(rn[:, 0], rn[:, 1], 'r.')  \n",
    "plt.ylim(-1.1, 1.1)\n",
    "plt.xlim(-1.1, 1.1)\n",
    "# plt.savefig('../../images/ch10/perf_01.png');"
   ]
  },
  {
   "cell_type": "code",
   "execution_count": 39,
   "metadata": {},
   "outputs": [],
   "source": [
    "n = int(1e7)"
   ]
  },
  {
   "cell_type": "code",
   "execution_count": 28,
   "metadata": {},
   "outputs": [
    {
     "name": "stdout",
     "output_type": "stream",
     "text": [
      "Wall time: 489 ms\n"
     ]
    }
   ],
   "source": [
    "%time rn = np.random.random((n, 2)) * 2 - 1"
   ]
  },
  {
   "cell_type": "code",
   "execution_count": 29,
   "metadata": {},
   "outputs": [
    {
     "data": {
      "text/plain": [
       "160000000"
      ]
     },
     "execution_count": 29,
     "metadata": {},
     "output_type": "execute_result"
    }
   ],
   "source": [
    "rn.nbytes"
   ]
  },
  {
   "cell_type": "code",
   "execution_count": 30,
   "metadata": {},
   "outputs": [
    {
     "name": "stdout",
     "output_type": "stream",
     "text": [
      "Wall time: 366 ms\n"
     ]
    },
    {
     "data": {
      "text/plain": [
       "array([0.926, 0.879, 0.24 , 0.903, 0.685, 0.911, 0.318, 0.177])"
      ]
     },
     "execution_count": 30,
     "metadata": {},
     "output_type": "execute_result"
    }
   ],
   "source": [
    "%time distance = np.sqrt((rn ** 2).sum(axis=1))  \n",
    "distance[:8].round(3)"
   ]
  },
  {
   "cell_type": "code",
   "execution_count": 31,
   "metadata": {},
   "outputs": [
    {
     "name": "stdout",
     "output_type": "stream",
     "text": [
      "Wall time: 30 ms\n"
     ]
    }
   ],
   "source": [
    "%time frac = (distance <= 1.0).sum() / len(distance)  "
   ]
  },
  {
   "cell_type": "code",
   "execution_count": 32,
   "metadata": {},
   "outputs": [
    {
     "data": {
      "text/plain": [
       "3.1415564"
      ]
     },
     "execution_count": 32,
     "metadata": {},
     "output_type": "execute_result"
    }
   ],
   "source": [
    "pi_mcs = frac * 4  \n",
    "pi_mcs  "
   ]
  },
  {
   "cell_type": "code",
   "execution_count": 33,
   "metadata": {},
   "outputs": [],
   "source": [
    "def mcs_pi_py(n):\n",
    "    circle = 0\n",
    "    for _ in range(n):\n",
    "        x, y = random.random(), random.random()\n",
    "        if (x ** 2 + y ** 2) ** 0.5 <= 1:\n",
    "            circle += 1\n",
    "    return (4 * circle) / n"
   ]
  },
  {
   "cell_type": "code",
   "execution_count": 34,
   "metadata": {},
   "outputs": [
    {
     "name": "stdout",
     "output_type": "stream",
     "text": [
      "Wall time: 9.37 s\n"
     ]
    },
    {
     "data": {
      "text/plain": [
       "3.1413632"
      ]
     },
     "execution_count": 34,
     "metadata": {},
     "output_type": "execute_result"
    }
   ],
   "source": [
    "%time mcs_pi_py(n)"
   ]
  },
  {
   "cell_type": "code",
   "execution_count": 35,
   "metadata": {},
   "outputs": [],
   "source": [
    "mcs_pi_nb = numba.jit(mcs_pi_py)"
   ]
  },
  {
   "cell_type": "code",
   "execution_count": 36,
   "metadata": {},
   "outputs": [
    {
     "name": "stdout",
     "output_type": "stream",
     "text": [
      "Wall time: 630 ms\n"
     ]
    },
    {
     "data": {
      "text/plain": [
       "3.1416688"
      ]
     },
     "execution_count": 36,
     "metadata": {},
     "output_type": "execute_result"
    }
   ],
   "source": [
    "%time mcs_pi_nb(n)"
   ]
  },
  {
   "cell_type": "code",
   "execution_count": 37,
   "metadata": {},
   "outputs": [
    {
     "name": "stdout",
     "output_type": "stream",
     "text": [
      "Wall time: 234 ms\n"
     ]
    },
    {
     "data": {
      "text/plain": [
       "3.1405428"
      ]
     },
     "execution_count": 37,
     "metadata": {},
     "output_type": "execute_result"
    }
   ],
   "source": [
    "%time mcs_pi_nb(n)"
   ]
  },
  {
   "cell_type": "code",
   "execution_count": null,
   "metadata": {},
   "outputs": [],
   "source": [
    "%%cython -a\n",
    "import random\n",
    "def mcs_pi_cy1(int n):\n",
    "    cdef int i, circle = 0\n",
    "    cdef float x, y\n",
    "    for i in range(n):\n",
    "        x, y = random.random(), random.random()\n",
    "        if (x ** 2 + y ** 2) ** 0.5 <= 1:\n",
    "            circle += 1\n",
    "    return (4 * circle) / n"
   ]
  },
  {
   "cell_type": "code",
   "execution_count": null,
   "metadata": {},
   "outputs": [],
   "source": [
    "%time mcs_pi_cy1(n)"
   ]
  },
  {
   "cell_type": "code",
   "execution_count": null,
   "metadata": {},
   "outputs": [],
   "source": [
    "%%cython -a\n",
    "from libc.stdlib cimport rand\n",
    "cdef extern from 'limits.h':\n",
    "    int INT_MAX\n",
    "def mcs_pi_cy2(int n):\n",
    "    cdef int i, circle = 0\n",
    "    cdef float x, y\n",
    "    for i in range(n):\n",
    "        x, y = rand() / INT_MAX, rand() / INT_MAX\n",
    "        if (x ** 2 + y ** 2) ** 0.5 <= 1:\n",
    "            circle += 1\n",
    "    return (4 * circle) / n"
   ]
  },
  {
   "cell_type": "code",
   "execution_count": null,
   "metadata": {},
   "outputs": [],
   "source": [
    "%time mcs_pi_cy2(n)"
   ]
  },
  {
   "cell_type": "markdown",
   "metadata": {},
   "source": [
    "## Binomial Trees"
   ]
  },
  {
   "cell_type": "markdown",
   "metadata": {},
   "source": [
    "### Python"
   ]
  },
  {
   "cell_type": "code",
   "execution_count": 40,
   "metadata": {},
   "outputs": [],
   "source": [
    "import math"
   ]
  },
  {
   "cell_type": "code",
   "execution_count": 41,
   "metadata": {},
   "outputs": [],
   "source": [
    "S0 = 36.  \n",
    "T = 1.0  \n",
    "r = 0.06  \n",
    "sigma = 0.2  "
   ]
  },
  {
   "cell_type": "code",
   "execution_count": 42,
   "metadata": {},
   "outputs": [],
   "source": [
    "def simulate_tree(M):\n",
    "    dt = T / M  \n",
    "    u = math.exp(sigma * math.sqrt(dt))  \n",
    "    d = 1 / u  \n",
    "    S = np.zeros((M + 1, M + 1))\n",
    "    S[0, 0] = S0\n",
    "    z = 1\n",
    "    for t in range(1, M + 1):\n",
    "        for i in range(z):\n",
    "            S[i, t] = S[i, t-1] * u\n",
    "            S[i+1, t] = S[i, t-1] * d\n",
    "        z += 1\n",
    "    return S"
   ]
  },
  {
   "cell_type": "code",
   "execution_count": 43,
   "metadata": {},
   "outputs": [],
   "source": [
    "np.set_printoptions?"
   ]
  },
  {
   "cell_type": "code",
   "execution_count": 44,
   "metadata": {},
   "outputs": [],
   "source": [
    "np.set_printoptions(formatter={'float':\n",
    "                               lambda x: '%6.2f' % x})  "
   ]
  },
  {
   "cell_type": "code",
   "execution_count": 45,
   "metadata": {},
   "outputs": [
    {
     "data": {
      "text/plain": [
       "array([[ 36.00,  39.79,  43.97,  48.59,  53.71],\n",
       "       [  0.00,  32.57,  36.00,  39.79,  43.97],\n",
       "       [  0.00,   0.00,  29.47,  32.57,  36.00],\n",
       "       [  0.00,   0.00,   0.00,  26.67,  29.47],\n",
       "       [  0.00,   0.00,   0.00,   0.00,  24.13]])"
      ]
     },
     "execution_count": 45,
     "metadata": {},
     "output_type": "execute_result"
    }
   ],
   "source": [
    "simulate_tree(4)  "
   ]
  },
  {
   "cell_type": "code",
   "execution_count": 46,
   "metadata": {},
   "outputs": [
    {
     "name": "stdout",
     "output_type": "stream",
     "text": [
      "Wall time: 192 ms\n"
     ]
    },
    {
     "data": {
      "text/plain": [
       "array([[ 36.00,  36.32,  36.65, ..., 3095.69, 3123.50, 3151.57],\n",
       "       [  0.00,  35.68,  36.00, ..., 3040.81, 3068.13, 3095.69],\n",
       "       [  0.00,   0.00,  35.36, ..., 2986.89, 3013.73, 3040.81],\n",
       "       ...,\n",
       "       [  0.00,   0.00,   0.00, ...,   0.42,   0.42,   0.43],\n",
       "       [  0.00,   0.00,   0.00, ...,   0.00,   0.41,   0.42],\n",
       "       [  0.00,   0.00,   0.00, ...,   0.00,   0.00,   0.41]])"
      ]
     },
     "execution_count": 46,
     "metadata": {},
     "output_type": "execute_result"
    }
   ],
   "source": [
    "%time simulate_tree(500)  "
   ]
  },
  {
   "cell_type": "markdown",
   "metadata": {},
   "source": [
    "### NumPy"
   ]
  },
  {
   "cell_type": "code",
   "execution_count": 47,
   "metadata": {},
   "outputs": [],
   "source": [
    "M = 4"
   ]
  },
  {
   "cell_type": "code",
   "execution_count": 48,
   "metadata": {},
   "outputs": [
    {
     "data": {
      "text/plain": [
       "array([[0, 1, 2, 3, 4],\n",
       "       [0, 1, 2, 3, 4],\n",
       "       [0, 1, 2, 3, 4],\n",
       "       [0, 1, 2, 3, 4],\n",
       "       [0, 1, 2, 3, 4]])"
      ]
     },
     "execution_count": 48,
     "metadata": {},
     "output_type": "execute_result"
    }
   ],
   "source": [
    "up = np.arange(M + 1)\n",
    "up = np.resize(up, (M + 1, M + 1))  \n",
    "up"
   ]
  },
  {
   "cell_type": "code",
   "execution_count": 49,
   "metadata": {},
   "outputs": [
    {
     "data": {
      "text/plain": [
       "array([[0, 0, 0, 0, 0],\n",
       "       [2, 2, 2, 2, 2],\n",
       "       [4, 4, 4, 4, 4],\n",
       "       [6, 6, 6, 6, 6],\n",
       "       [8, 8, 8, 8, 8]])"
      ]
     },
     "execution_count": 49,
     "metadata": {},
     "output_type": "execute_result"
    }
   ],
   "source": [
    "down = up.T * 2  \n",
    "down"
   ]
  },
  {
   "cell_type": "code",
   "execution_count": 50,
   "metadata": {},
   "outputs": [
    {
     "data": {
      "text/plain": [
       "array([[ 0,  1,  2,  3,  4],\n",
       "       [-2, -1,  0,  1,  2],\n",
       "       [-4, -3, -2, -1,  0],\n",
       "       [-6, -5, -4, -3, -2],\n",
       "       [-8, -7, -6, -5, -4]])"
      ]
     },
     "execution_count": 50,
     "metadata": {},
     "output_type": "execute_result"
    }
   ],
   "source": [
    "up - down  "
   ]
  },
  {
   "cell_type": "code",
   "execution_count": 51,
   "metadata": {},
   "outputs": [],
   "source": [
    "dt = T / M"
   ]
  },
  {
   "cell_type": "code",
   "execution_count": 52,
   "metadata": {},
   "outputs": [
    {
     "data": {
      "text/plain": [
       "array([[ 36.00,  39.79,  43.97,  48.59,  53.71],\n",
       "       [ 29.47,  32.57,  36.00,  39.79,  43.97],\n",
       "       [ 24.13,  26.67,  29.47,  32.57,  36.00],\n",
       "       [ 19.76,  21.84,  24.13,  26.67,  29.47],\n",
       "       [ 16.18,  17.88,  19.76,  21.84,  24.13]])"
      ]
     },
     "execution_count": 52,
     "metadata": {},
     "output_type": "execute_result"
    }
   ],
   "source": [
    "S0 * np.exp(sigma * math.sqrt(dt) * (up - down))  "
   ]
  },
  {
   "cell_type": "code",
   "execution_count": 53,
   "metadata": {},
   "outputs": [],
   "source": [
    "def simulate_tree_np(M):\n",
    "    dt = T / M\n",
    "    up = np.arange(M + 1)\n",
    "    up = np.resize(up, (M + 1, M + 1))\n",
    "    down = up.transpose() * 2\n",
    "    S = S0 * np.exp(sigma * math.sqrt(dt) * (up - down))\n",
    "    return S"
   ]
  },
  {
   "cell_type": "code",
   "execution_count": 54,
   "metadata": {},
   "outputs": [
    {
     "data": {
      "text/plain": [
       "array([[ 36.00,  39.79,  43.97,  48.59,  53.71],\n",
       "       [ 29.47,  32.57,  36.00,  39.79,  43.97],\n",
       "       [ 24.13,  26.67,  29.47,  32.57,  36.00],\n",
       "       [ 19.76,  21.84,  24.13,  26.67,  29.47],\n",
       "       [ 16.18,  17.88,  19.76,  21.84,  24.13]])"
      ]
     },
     "execution_count": 54,
     "metadata": {},
     "output_type": "execute_result"
    }
   ],
   "source": [
    "simulate_tree_np(4)"
   ]
  },
  {
   "cell_type": "code",
   "execution_count": 66,
   "metadata": {},
   "outputs": [
    {
     "name": "stdout",
     "output_type": "stream",
     "text": [
      "Wall time: 12 ms\n"
     ]
    },
    {
     "data": {
      "text/plain": [
       "array([[ 36.00,  36.32,  36.65, ..., 3095.69, 3123.50, 3151.57],\n",
       "       [ 35.36,  35.68,  36.00, ..., 3040.81, 3068.13, 3095.69],\n",
       "       [ 34.73,  35.05,  35.36, ..., 2986.89, 3013.73, 3040.81],\n",
       "       ...,\n",
       "       [  0.00,   0.00,   0.00, ...,   0.42,   0.42,   0.43],\n",
       "       [  0.00,   0.00,   0.00, ...,   0.41,   0.41,   0.42],\n",
       "       [  0.00,   0.00,   0.00, ...,   0.40,   0.41,   0.41]])"
      ]
     },
     "execution_count": 66,
     "metadata": {},
     "output_type": "execute_result"
    }
   ],
   "source": [
    "%time simulate_tree_np(500)"
   ]
  },
  {
   "cell_type": "markdown",
   "metadata": {},
   "source": [
    "### Numba"
   ]
  },
  {
   "cell_type": "code",
   "execution_count": 67,
   "metadata": {},
   "outputs": [],
   "source": [
    "simulate_tree_nb = numba.jit(simulate_tree)"
   ]
  },
  {
   "cell_type": "code",
   "execution_count": 68,
   "metadata": {},
   "outputs": [
    {
     "data": {
      "text/plain": [
       "array([[ 36.00,  39.79,  43.97,  48.59,  53.71],\n",
       "       [  0.00,  32.57,  36.00,  39.79,  43.97],\n",
       "       [  0.00,   0.00,  29.47,  32.57,  36.00],\n",
       "       [  0.00,   0.00,   0.00,  26.67,  29.47],\n",
       "       [  0.00,   0.00,   0.00,   0.00,  24.13]])"
      ]
     },
     "execution_count": 68,
     "metadata": {},
     "output_type": "execute_result"
    }
   ],
   "source": [
    "simulate_tree_nb(4)"
   ]
  },
  {
   "cell_type": "code",
   "execution_count": 78,
   "metadata": {},
   "outputs": [
    {
     "name": "stdout",
     "output_type": "stream",
     "text": [
      "Wall time: 999 µs\n"
     ]
    },
    {
     "data": {
      "text/plain": [
       "array([[ 36.00,  36.32,  36.65, ..., 3095.69, 3123.50, 3151.57],\n",
       "       [  0.00,  35.68,  36.00, ..., 3040.81, 3068.13, 3095.69],\n",
       "       [  0.00,   0.00,  35.36, ..., 2986.89, 3013.73, 3040.81],\n",
       "       ...,\n",
       "       [  0.00,   0.00,   0.00, ...,   0.42,   0.42,   0.43],\n",
       "       [  0.00,   0.00,   0.00, ...,   0.00,   0.41,   0.42],\n",
       "       [  0.00,   0.00,   0.00, ...,   0.00,   0.00,   0.41]])"
      ]
     },
     "execution_count": 78,
     "metadata": {},
     "output_type": "execute_result"
    }
   ],
   "source": [
    "%time simulate_tree_nb(500)"
   ]
  },
  {
   "cell_type": "code",
   "execution_count": 79,
   "metadata": {},
   "outputs": [
    {
     "name": "stdout",
     "output_type": "stream",
     "text": [
      "1.08 ms ± 24.1 µs per loop (mean ± std. dev. of 7 runs, 1000 loops each)\n"
     ]
    }
   ],
   "source": [
    "%timeit simulate_tree_nb(500)"
   ]
  },
  {
   "cell_type": "markdown",
   "metadata": {},
   "source": [
    "### Cython"
   ]
  },
  {
   "cell_type": "code",
   "execution_count": null,
   "metadata": {},
   "outputs": [],
   "source": [
    "%%cython -a\n",
    "import numpy as np\n",
    "cimport cython\n",
    "from libc.math cimport exp, sqrt\n",
    "cdef float S0 = 36.\n",
    "cdef float T = 1.0\n",
    "cdef float r = 0.06\n",
    "cdef float sigma = 0.2\n",
    "def simulate_tree_cy(int M):\n",
    "    cdef int z, t, i\n",
    "    cdef float dt, u, d\n",
    "    cdef float[:, :] S = np.zeros((M + 1, M + 1),\n",
    "                                  dtype=np.float32)  \n",
    "    dt = T / M\n",
    "    u = exp(sigma * sqrt(dt))\n",
    "    d = 1 / u\n",
    "    S[0, 0] = S0\n",
    "    z = 1\n",
    "    for t in range(1, M + 1):\n",
    "        for i in range(z):\n",
    "            S[i, t] = S[i, t-1] * u\n",
    "            S[i+1, t] = S[i, t-1] * d\n",
    "        z += 1\n",
    "    return np.array(S)"
   ]
  },
  {
   "cell_type": "code",
   "execution_count": null,
   "metadata": {},
   "outputs": [],
   "source": [
    "simulate_tree_cy(4)"
   ]
  },
  {
   "cell_type": "code",
   "execution_count": null,
   "metadata": {},
   "outputs": [],
   "source": [
    "%time simulate_tree_cy(500)"
   ]
  },
  {
   "cell_type": "code",
   "execution_count": null,
   "metadata": {},
   "outputs": [],
   "source": [
    "%timeit S = simulate_tree_cy(500)"
   ]
  },
  {
   "cell_type": "markdown",
   "metadata": {},
   "source": [
    "## Monte Carlo Simulation"
   ]
  },
  {
   "cell_type": "markdown",
   "metadata": {},
   "source": [
    "### Python"
   ]
  },
  {
   "cell_type": "code",
   "execution_count": 80,
   "metadata": {},
   "outputs": [],
   "source": [
    "M = 100  \n",
    "I = 50000  "
   ]
  },
  {
   "cell_type": "code",
   "execution_count": 81,
   "metadata": {},
   "outputs": [],
   "source": [
    "def mcs_simulation_py(p):\n",
    "    M, I = p\n",
    "    dt = T / M\n",
    "    S = np.zeros((M + 1, I))\n",
    "    S[0] = S0\n",
    "    rn = np.random.standard_normal(S.shape)  \n",
    "    for t in range(1, M + 1):  \n",
    "        for i in range(I):  \n",
    "            S[t, i] = S[t-1, i] * math.exp((r - sigma ** 2 / 2) * dt +\n",
    "                                         sigma * math.sqrt(dt) * rn[t, i])  \n",
    "    return S      "
   ]
  },
  {
   "cell_type": "code",
   "execution_count": 82,
   "metadata": {},
   "outputs": [
    {
     "name": "stdout",
     "output_type": "stream",
     "text": [
      "Wall time: 11.5 s\n"
     ]
    }
   ],
   "source": [
    "%time S = mcs_simulation_py((M, I))"
   ]
  },
  {
   "cell_type": "code",
   "execution_count": 84,
   "metadata": {},
   "outputs": [
    {
     "data": {
      "text/plain": [
       "array([[ 36.00,  36.00,  36.00, ...,  36.00,  36.00,  36.00],\n",
       "       [ 36.34,  36.98,  35.39, ...,  36.81,  34.96,  36.64],\n",
       "       [ 36.11,  36.78,  35.49, ...,  37.65,  34.33,  37.14],\n",
       "       ...,\n",
       "       [ 57.33,  38.38,  43.04, ...,  36.58,  35.03,  40.69],\n",
       "       [ 57.51,  39.57,  42.16, ...,  36.20,  34.70,  39.62],\n",
       "       [ 55.89,  38.99,  42.64, ...,  36.35,  34.48,  40.01]])"
      ]
     },
     "execution_count": 84,
     "metadata": {},
     "output_type": "execute_result"
    }
   ],
   "source": [
    "S"
   ]
  },
  {
   "cell_type": "code",
   "execution_count": 85,
   "metadata": {},
   "outputs": [
    {
     "data": {
      "text/plain": [
       "38.13298391866131"
      ]
     },
     "execution_count": 85,
     "metadata": {},
     "output_type": "execute_result"
    }
   ],
   "source": [
    "S[-1].mean()  "
   ]
  },
  {
   "cell_type": "code",
   "execution_count": 86,
   "metadata": {},
   "outputs": [
    {
     "data": {
      "text/plain": [
       "38.22611567563295"
      ]
     },
     "execution_count": 86,
     "metadata": {},
     "output_type": "execute_result"
    }
   ],
   "source": [
    "S0 * math.exp(r * T)  "
   ]
  },
  {
   "cell_type": "code",
   "execution_count": 87,
   "metadata": {},
   "outputs": [],
   "source": [
    "K = 40.  "
   ]
  },
  {
   "cell_type": "code",
   "execution_count": 88,
   "metadata": {},
   "outputs": [],
   "source": [
    "C0 = math.exp(-r * T) * np.maximum(K - S[-1], 0).mean()  "
   ]
  },
  {
   "cell_type": "code",
   "execution_count": 89,
   "metadata": {},
   "outputs": [
    {
     "data": {
      "text/plain": [
       "3.8855360254339826"
      ]
     },
     "execution_count": 89,
     "metadata": {},
     "output_type": "execute_result"
    }
   ],
   "source": [
    "C0  #  <8>"
   ]
  },
  {
   "cell_type": "code",
   "execution_count": 90,
   "metadata": {},
   "outputs": [
    {
     "data": {
      "text/plain": [
       "<matplotlib.legend.Legend at 0x252ea496f08>"
      ]
     },
     "execution_count": 90,
     "metadata": {},
     "output_type": "execute_result"
    },
    {
     "data": {
      "image/png": "[encoded data removed]",
      "text/plain": [
       "<Figure size 720x432 with 1 Axes>"
      ]
     },
     "metadata": {
      "needs_background": "light"
     },
     "output_type": "display_data"
    }
   ],
   "source": [
    "plt.figure(figsize=(10, 6))\n",
    "plt.hist(S[-1], bins=35, label='frequency')\n",
    "plt.axvline(S[-1].mean(), color='r', label='mean value')\n",
    "plt.legend(loc=0)\n",
    "# plt.savefig('../../images/ch10/perf_02.png');"
   ]
  },
  {
   "cell_type": "markdown",
   "metadata": {},
   "source": [
    "### NumPy"
   ]
  },
  {
   "cell_type": "code",
   "execution_count": 91,
   "metadata": {},
   "outputs": [],
   "source": [
    "def mcs_simulation_np(p):\n",
    "    M, I = p\n",
    "    dt = T / M\n",
    "    S = np.zeros((M + 1, I))\n",
    "    S[0] = S0\n",
    "    rn = np.random.standard_normal(S.shape)\n",
    "    for t in range(1, M + 1):  \n",
    "        S[t] = S[t-1] * np.exp((r - sigma ** 2 / 2) * dt +\n",
    "                               sigma * math.sqrt(dt) * rn[t]) \n",
    "    return S      "
   ]
  },
  {
   "cell_type": "code",
   "execution_count": 92,
   "metadata": {},
   "outputs": [
    {
     "name": "stdout",
     "output_type": "stream",
     "text": [
      "Wall time: 331 ms\n"
     ]
    }
   ],
   "source": [
    "%time S = mcs_simulation_np((M, I))"
   ]
  },
  {
   "cell_type": "code",
   "execution_count": 93,
   "metadata": {},
   "outputs": [
    {
     "data": {
      "text/plain": [
       "38.20252967224342"
      ]
     },
     "execution_count": 93,
     "metadata": {},
     "output_type": "execute_result"
    }
   ],
   "source": [
    "S[-1].mean()"
   ]
  },
  {
   "cell_type": "code",
   "execution_count": 94,
   "metadata": {},
   "outputs": [
    {
     "name": "stdout",
     "output_type": "stream",
     "text": [
      "293 ms ± 13.2 ms per loop (mean ± std. dev. of 7 runs, 1 loop each)\n"
     ]
    }
   ],
   "source": [
    "%timeit S = mcs_simulation_np((M, I))"
   ]
  },
  {
   "cell_type": "markdown",
   "metadata": {},
   "source": [
    "### Numba "
   ]
  },
  {
   "cell_type": "code",
   "execution_count": 95,
   "metadata": {},
   "outputs": [],
   "source": [
    "mcs_simulation_nb = numba.jit(mcs_simulation_py)"
   ]
  },
  {
   "cell_type": "code",
   "execution_count": 96,
   "metadata": {},
   "outputs": [
    {
     "name": "stdout",
     "output_type": "stream",
     "text": [
      "Wall time: 823 ms\n"
     ]
    }
   ],
   "source": [
    "%time S = mcs_simulation_nb((M, I))  "
   ]
  },
  {
   "cell_type": "code",
   "execution_count": 97,
   "metadata": {},
   "outputs": [
    {
     "name": "stdout",
     "output_type": "stream",
     "text": [
      "Wall time: 263 ms\n"
     ]
    }
   ],
   "source": [
    "%time S = mcs_simulation_nb((M, I))  "
   ]
  },
  {
   "cell_type": "code",
   "execution_count": 98,
   "metadata": {},
   "outputs": [
    {
     "data": {
      "text/plain": [
       "38.237851259304016"
      ]
     },
     "execution_count": 98,
     "metadata": {},
     "output_type": "execute_result"
    }
   ],
   "source": [
    "S[-1].mean()"
   ]
  },
  {
   "cell_type": "code",
   "execution_count": 99,
   "metadata": {},
   "outputs": [],
   "source": [
    "C0 = math.exp(-r * T) * np.maximum(K - S[-1], 0).mean()"
   ]
  },
  {
   "cell_type": "code",
   "execution_count": 100,
   "metadata": {},
   "outputs": [
    {
     "data": {
      "text/plain": [
       "3.8378282328485236"
      ]
     },
     "execution_count": 100,
     "metadata": {},
     "output_type": "execute_result"
    }
   ],
   "source": [
    "C0"
   ]
  },
  {
   "cell_type": "code",
   "execution_count": 101,
   "metadata": {},
   "outputs": [
    {
     "name": "stdout",
     "output_type": "stream",
     "text": [
      "275 ms ± 20.9 ms per loop (mean ± std. dev. of 7 runs, 1 loop each)\n"
     ]
    }
   ],
   "source": [
    "%timeit S = mcs_simulation_nb((M, I))  "
   ]
  },
  {
   "cell_type": "markdown",
   "metadata": {},
   "source": [
    "### Cython &mdash; Sequential"
   ]
  },
  {
   "cell_type": "code",
   "execution_count": null,
   "metadata": {},
   "outputs": [],
   "source": [
    "%%cython\n",
    "import numpy as np\n",
    "cimport numpy as np\n",
    "cimport cython\n",
    "from libc.math cimport exp, sqrt\n",
    "cdef float S0 = 36.\n",
    "cdef float T = 1.0\n",
    "cdef float r = 0.06\n",
    "cdef float sigma = 0.2\n",
    "@cython.boundscheck(False)\n",
    "@cython.wraparound(False)\n",
    "def mcs_simulation_cy(p):\n",
    "    cdef int M, I\n",
    "    M, I = p\n",
    "    cdef int t, i\n",
    "    cdef float dt = T / M\n",
    "    cdef double[:, :] S = np.zeros((M + 1, I))\n",
    "    cdef double[:, :] rn = np.random.standard_normal((M + 1, I))\n",
    "    S[0] = S0\n",
    "    for t in range(1, M + 1):\n",
    "        for i in range(I):\n",
    "            S[t, i] = S[t-1, i] * exp((r - sigma ** 2 / 2) * dt +\n",
    "                                         sigma * sqrt(dt) * rn[t, i])\n",
    "    return np.array(S) "
   ]
  },
  {
   "cell_type": "code",
   "execution_count": null,
   "metadata": {},
   "outputs": [],
   "source": [
    "%time S = mcs_simulation_cy((M, I))"
   ]
  },
  {
   "cell_type": "code",
   "execution_count": null,
   "metadata": {},
   "outputs": [],
   "source": [
    "S[-1].mean()"
   ]
  },
  {
   "cell_type": "code",
   "execution_count": null,
   "metadata": {},
   "outputs": [],
   "source": [
    "%timeit S = mcs_simulation_cy((M, I))"
   ]
  },
  {
   "cell_type": "markdown",
   "metadata": {},
   "source": [
    "### Multiprocessing"
   ]
  },
  {
   "cell_type": "code",
   "execution_count": 102,
   "metadata": {},
   "outputs": [],
   "source": [
    "import multiprocessing as mp"
   ]
  },
  {
   "cell_type": "code",
   "execution_count": 103,
   "metadata": {},
   "outputs": [],
   "source": [
    "pool = mp.Pool(processes=4)  "
   ]
  },
  {
   "cell_type": "code",
   "execution_count": 104,
   "metadata": {},
   "outputs": [],
   "source": [
    "p = 20  "
   ]
  },
  {
   "cell_type": "code",
   "execution_count": null,
   "metadata": {},
   "outputs": [],
   "source": [
    "%timeit S = np.hstack(pool.map(mcs_simulation_np, p * [(M, int(I / p))]))"
   ]
  },
  {
   "cell_type": "code",
   "execution_count": null,
   "metadata": {},
   "outputs": [],
   "source": [
    "%timeit S = np.hstack(pool.map(mcs_simulation_nb, p * [(M, int(I / p))]))"
   ]
  },
  {
   "cell_type": "code",
   "execution_count": null,
   "metadata": {},
   "outputs": [],
   "source": [
    "%timeit S = np.hstack(pool.map(mcs_simulation_cy, p * [(M, int(I / p))]))"
   ]
  },
  {
   "cell_type": "markdown",
   "metadata": {},
   "source": [
    "## Recursive pandas Algorithm"
   ]
  },
  {
   "cell_type": "markdown",
   "metadata": {},
   "source": [
    "### Data and Formula"
   ]
  },
  {
   "cell_type": "code",
   "execution_count": 1,
   "metadata": {},
   "outputs": [],
   "source": [
    "import pandas as pd"
   ]
  },
  {
   "cell_type": "code",
   "execution_count": 2,
   "metadata": {},
   "outputs": [],
   "source": [
    "sym = 'SPY'"
   ]
  },
  {
   "cell_type": "code",
   "execution_count": 3,
   "metadata": {},
   "outputs": [],
   "source": [
    "data = pd.DataFrame(pd.read_csv('tr_eikon_eod_data.csv',\n",
    "                               index_col=0, parse_dates=True)[sym]).dropna()"
   ]
  },
  {
   "cell_type": "code",
   "execution_count": 4,
   "metadata": {},
   "outputs": [
    {
     "data": {
      "text/html": [
       "<div>\n",
       "<style scoped>\n",
       "    .dataframe tbody tr th:only-of-type {\n",
       "        vertical-align: middle;\n",
       "    }\n",
       "\n",
       "    .dataframe tbody tr th {\n",
       "        vertical-align: top;\n",
       "    }\n",
       "\n",
       "    .dataframe thead th {\n",
       "        text-align: right;\n",
       "    }\n",
       "</style>\n",
       "<table border=\"1\" class=\"dataframe\">\n",
       "  <thead>\n",
       "    <tr style=\"text-align: right;\">\n",
       "      <th></th>\n",
       "      <th>SPY</th>\n",
       "    </tr>\n",
       "    <tr>\n",
       "      <th>Date</th>\n",
       "      <th></th>\n",
       "    </tr>\n",
       "  </thead>\n",
       "  <tbody>\n",
       "    <tr>\n",
       "      <th>2010-01-04</th>\n",
       "      <td>113.33</td>\n",
       "    </tr>\n",
       "    <tr>\n",
       "      <th>2010-01-05</th>\n",
       "      <td>113.63</td>\n",
       "    </tr>\n",
       "    <tr>\n",
       "      <th>2010-01-06</th>\n",
       "      <td>113.71</td>\n",
       "    </tr>\n",
       "    <tr>\n",
       "      <th>2010-01-07</th>\n",
       "      <td>114.19</td>\n",
       "    </tr>\n",
       "    <tr>\n",
       "      <th>2010-01-08</th>\n",
       "      <td>114.57</td>\n",
       "    </tr>\n",
       "    <tr>\n",
       "      <th>...</th>\n",
       "      <td>...</td>\n",
       "    </tr>\n",
       "    <tr>\n",
       "      <th>2018-06-25</th>\n",
       "      <td>271.00</td>\n",
       "    </tr>\n",
       "    <tr>\n",
       "      <th>2018-06-26</th>\n",
       "      <td>271.60</td>\n",
       "    </tr>\n",
       "    <tr>\n",
       "      <th>2018-06-27</th>\n",
       "      <td>269.35</td>\n",
       "    </tr>\n",
       "    <tr>\n",
       "      <th>2018-06-28</th>\n",
       "      <td>270.89</td>\n",
       "    </tr>\n",
       "    <tr>\n",
       "      <th>2018-06-29</th>\n",
       "      <td>271.28</td>\n",
       "    </tr>\n",
       "  </tbody>\n",
       "</table>\n",
       "<p>2138 rows × 1 columns</p>\n",
       "</div>"
      ],
      "text/plain": [
       "               SPY\n",
       "Date              \n",
       "2010-01-04  113.33\n",
       "2010-01-05  113.63\n",
       "2010-01-06  113.71\n",
       "2010-01-07  114.19\n",
       "2010-01-08  114.57\n",
       "...            ...\n",
       "2018-06-25  271.00\n",
       "2018-06-26  271.60\n",
       "2018-06-27  269.35\n",
       "2018-06-28  270.89\n",
       "2018-06-29  271.28\n",
       "\n",
       "[2138 rows x 1 columns]"
      ]
     },
     "execution_count": 4,
     "metadata": {},
     "output_type": "execute_result"
    }
   ],
   "source": [
    "data"
   ]
  },
  {
   "cell_type": "code",
   "execution_count": 11,
   "metadata": {},
   "outputs": [],
   "source": [
    "alpha = 0.25"
   ]
  },
  {
   "cell_type": "code",
   "execution_count": 5,
   "metadata": {},
   "outputs": [],
   "source": [
    "data['EWMA'] = data[sym]  "
   ]
  },
  {
   "cell_type": "code",
   "execution_count": 9,
   "metadata": {
    "scrolled": true
   },
   "outputs": [
    {
     "data": {
      "text/html": [
       "<div>\n",
       "<style scoped>\n",
       "    .dataframe tbody tr th:only-of-type {\n",
       "        vertical-align: middle;\n",
       "    }\n",
       "\n",
       "    .dataframe tbody tr th {\n",
       "        vertical-align: top;\n",
       "    }\n",
       "\n",
       "    .dataframe thead th {\n",
       "        text-align: right;\n",
       "    }\n",
       "</style>\n",
       "<table border=\"1\" class=\"dataframe\">\n",
       "  <thead>\n",
       "    <tr style=\"text-align: right;\">\n",
       "      <th></th>\n",
       "      <th>SPY</th>\n",
       "      <th>EWMA</th>\n",
       "    </tr>\n",
       "    <tr>\n",
       "      <th>Date</th>\n",
       "      <th></th>\n",
       "      <th></th>\n",
       "    </tr>\n",
       "  </thead>\n",
       "  <tbody>\n",
       "    <tr>\n",
       "      <th>2010-01-04</th>\n",
       "      <td>113.33</td>\n",
       "      <td>113.33</td>\n",
       "    </tr>\n",
       "    <tr>\n",
       "      <th>2010-01-05</th>\n",
       "      <td>113.63</td>\n",
       "      <td>113.63</td>\n",
       "    </tr>\n",
       "    <tr>\n",
       "      <th>2010-01-06</th>\n",
       "      <td>113.71</td>\n",
       "      <td>113.71</td>\n",
       "    </tr>\n",
       "    <tr>\n",
       "      <th>2010-01-07</th>\n",
       "      <td>114.19</td>\n",
       "      <td>114.19</td>\n",
       "    </tr>\n",
       "    <tr>\n",
       "      <th>2010-01-08</th>\n",
       "      <td>114.57</td>\n",
       "      <td>114.57</td>\n",
       "    </tr>\n",
       "    <tr>\n",
       "      <th>...</th>\n",
       "      <td>...</td>\n",
       "      <td>...</td>\n",
       "    </tr>\n",
       "    <tr>\n",
       "      <th>2018-06-25</th>\n",
       "      <td>271.00</td>\n",
       "      <td>271.00</td>\n",
       "    </tr>\n",
       "    <tr>\n",
       "      <th>2018-06-26</th>\n",
       "      <td>271.60</td>\n",
       "      <td>271.60</td>\n",
       "    </tr>\n",
       "    <tr>\n",
       "      <th>2018-06-27</th>\n",
       "      <td>269.35</td>\n",
       "      <td>269.35</td>\n",
       "    </tr>\n",
       "    <tr>\n",
       "      <th>2018-06-28</th>\n",
       "      <td>270.89</td>\n",
       "      <td>270.89</td>\n",
       "    </tr>\n",
       "    <tr>\n",
       "      <th>2018-06-29</th>\n",
       "      <td>271.28</td>\n",
       "      <td>271.28</td>\n",
       "    </tr>\n",
       "  </tbody>\n",
       "</table>\n",
       "<p>2138 rows × 2 columns</p>\n",
       "</div>"
      ],
      "text/plain": [
       "               SPY    EWMA\n",
       "Date                      \n",
       "2010-01-04  113.33  113.33\n",
       "2010-01-05  113.63  113.63\n",
       "2010-01-06  113.71  113.71\n",
       "2010-01-07  114.19  114.19\n",
       "2010-01-08  114.57  114.57\n",
       "...            ...     ...\n",
       "2018-06-25  271.00  271.00\n",
       "2018-06-26  271.60  271.60\n",
       "2018-06-27  269.35  269.35\n",
       "2018-06-28  270.89  270.89\n",
       "2018-06-29  271.28  271.28\n",
       "\n",
       "[2138 rows x 2 columns]"
      ]
     },
     "execution_count": 9,
     "metadata": {},
     "output_type": "execute_result"
    }
   ],
   "source": [
    "data"
   ]
  },
  {
   "cell_type": "code",
   "execution_count": 6,
   "metadata": {},
   "outputs": [
    {
     "data": {
      "text/plain": [
       "DatetimeIndex(['2010-01-04', '2010-01-05', '2010-01-06', '2010-01-07',\n",
       "               '2010-01-08', '2010-01-11', '2010-01-12', '2010-01-13',\n",
       "               '2010-01-14', '2010-01-15',\n",
       "               ...\n",
       "               '2018-06-18', '2018-06-19', '2018-06-20', '2018-06-21',\n",
       "               '2018-06-22', '2018-06-25', '2018-06-26', '2018-06-27',\n",
       "               '2018-06-28', '2018-06-29'],\n",
       "              dtype='datetime64[ns]', name='Date', length=2138, freq=None)"
      ]
     },
     "execution_count": 6,
     "metadata": {},
     "output_type": "execute_result"
    }
   ],
   "source": [
    "data.index"
   ]
  },
  {
   "cell_type": "code",
   "execution_count": 7,
   "metadata": {},
   "outputs": [
    {
     "data": {
      "text/plain": [
       "DatetimeIndex(['2010-01-05', '2010-01-06', '2010-01-07', '2010-01-08',\n",
       "               '2010-01-11', '2010-01-12', '2010-01-13', '2010-01-14',\n",
       "               '2010-01-15', '2010-01-19',\n",
       "               ...\n",
       "               '2018-06-18', '2018-06-19', '2018-06-20', '2018-06-21',\n",
       "               '2018-06-22', '2018-06-25', '2018-06-26', '2018-06-27',\n",
       "               '2018-06-28', '2018-06-29'],\n",
       "              dtype='datetime64[ns]', name='Date', length=2137, freq=None)"
      ]
     },
     "execution_count": 7,
     "metadata": {},
     "output_type": "execute_result"
    }
   ],
   "source": [
    "data.index[1:]"
   ]
  },
  {
   "cell_type": "code",
   "execution_count": 8,
   "metadata": {},
   "outputs": [
    {
     "data": {
      "text/plain": [
       "[(Timestamp('2010-01-04 00:00:00'), Timestamp('2010-01-05 00:00:00')),\n",
       " (Timestamp('2010-01-05 00:00:00'), Timestamp('2010-01-06 00:00:00')),\n",
       " (Timestamp('2010-01-06 00:00:00'), Timestamp('2010-01-07 00:00:00')),\n",
       " (Timestamp('2010-01-07 00:00:00'), Timestamp('2010-01-08 00:00:00')),\n",
       " (Timestamp('2010-01-08 00:00:00'), Timestamp('2010-01-11 00:00:00')),\n",
       " (Timestamp('2010-01-11 00:00:00'), Timestamp('2010-01-12 00:00:00')),\n",
       " (Timestamp('2010-01-12 00:00:00'), Timestamp('2010-01-13 00:00:00')),\n",
       " (Timestamp('2010-01-13 00:00:00'), Timestamp('2010-01-14 00:00:00')),\n",
       " (Timestamp('2010-01-14 00:00:00'), Timestamp('2010-01-15 00:00:00')),\n",
       " (Timestamp('2010-01-15 00:00:00'), Timestamp('2010-01-19 00:00:00')),\n",
       " (Timestamp('2010-01-19 00:00:00'), Timestamp('2010-01-20 00:00:00')),\n",
       " (Timestamp('2010-01-20 00:00:00'), Timestamp('2010-01-21 00:00:00')),\n",
       " (Timestamp('2010-01-21 00:00:00'), Timestamp('2010-01-22 00:00:00')),\n",
       " (Timestamp('2010-01-22 00:00:00'), Timestamp('2010-01-25 00:00:00')),\n",
       " (Timestamp('2010-01-25 00:00:00'), Timestamp('2010-01-26 00:00:00')),\n",
       " (Timestamp('2010-01-26 00:00:00'), Timestamp('2010-01-27 00:00:00')),\n",
       " (Timestamp('2010-01-27 00:00:00'), Timestamp('2010-01-28 00:00:00')),\n",
       " (Timestamp('2010-01-28 00:00:00'), Timestamp('2010-01-29 00:00:00')),\n",
       " (Timestamp('2010-01-29 00:00:00'), Timestamp('2010-02-01 00:00:00')),\n",
       " (Timestamp('2010-02-01 00:00:00'), Timestamp('2010-02-02 00:00:00')),\n",
       " (Timestamp('2010-02-02 00:00:00'), Timestamp('2010-02-03 00:00:00')),\n",
       " (Timestamp('2010-02-03 00:00:00'), Timestamp('2010-02-04 00:00:00')),\n",
       " (Timestamp('2010-02-04 00:00:00'), Timestamp('2010-02-05 00:00:00')),\n",
       " (Timestamp('2010-02-05 00:00:00'), Timestamp('2010-02-08 00:00:00')),\n",
       " (Timestamp('2010-02-08 00:00:00'), Timestamp('2010-02-09 00:00:00')),\n",
       " (Timestamp('2010-02-09 00:00:00'), Timestamp('2010-02-10 00:00:00')),\n",
       " (Timestamp('2010-02-10 00:00:00'), Timestamp('2010-02-11 00:00:00')),\n",
       " (Timestamp('2010-02-11 00:00:00'), Timestamp('2010-02-12 00:00:00')),\n",
       " (Timestamp('2010-02-12 00:00:00'), Timestamp('2010-02-16 00:00:00')),\n",
       " (Timestamp('2010-02-16 00:00:00'), Timestamp('2010-02-17 00:00:00')),\n",
       " (Timestamp('2010-02-17 00:00:00'), Timestamp('2010-02-18 00:00:00')),\n",
       " (Timestamp('2010-02-18 00:00:00'), Timestamp('2010-02-19 00:00:00')),\n",
       " (Timestamp('2010-02-19 00:00:00'), Timestamp('2010-02-22 00:00:00')),\n",
       " (Timestamp('2010-02-22 00:00:00'), Timestamp('2010-02-23 00:00:00')),\n",
       " (Timestamp('2010-02-23 00:00:00'), Timestamp('2010-02-24 00:00:00')),\n",
       " (Timestamp('2010-02-24 00:00:00'), Timestamp('2010-02-25 00:00:00')),\n",
       " (Timestamp('2010-02-25 00:00:00'), Timestamp('2010-02-26 00:00:00')),\n",
       " (Timestamp('2010-02-26 00:00:00'), Timestamp('2010-03-01 00:00:00')),\n",
       " (Timestamp('2010-03-01 00:00:00'), Timestamp('2010-03-02 00:00:00')),\n",
       " (Timestamp('2010-03-02 00:00:00'), Timestamp('2010-03-03 00:00:00')),\n",
       " (Timestamp('2010-03-03 00:00:00'), Timestamp('2010-03-04 00:00:00')),\n",
       " (Timestamp('2010-03-04 00:00:00'), Timestamp('2010-03-05 00:00:00')),\n",
       " (Timestamp('2010-03-05 00:00:00'), Timestamp('2010-03-08 00:00:00')),\n",
       " (Timestamp('2010-03-08 00:00:00'), Timestamp('2010-03-09 00:00:00')),\n",
       " (Timestamp('2010-03-09 00:00:00'), Timestamp('2010-03-10 00:00:00')),\n",
       " (Timestamp('2010-03-10 00:00:00'), Timestamp('2010-03-11 00:00:00')),\n",
       " (Timestamp('2010-03-11 00:00:00'), Timestamp('2010-03-12 00:00:00')),\n",
       " (Timestamp('2010-03-12 00:00:00'), Timestamp('2010-03-15 00:00:00')),\n",
       " (Timestamp('2010-03-15 00:00:00'), Timestamp('2010-03-16 00:00:00')),\n",
       " (Timestamp('2010-03-16 00:00:00'), Timestamp('2010-03-17 00:00:00')),\n",
       " (Timestamp('2010-03-17 00:00:00'), Timestamp('2010-03-18 00:00:00')),\n",
       " (Timestamp('2010-03-18 00:00:00'), Timestamp('2010-03-19 00:00:00')),\n",
       " (Timestamp('2010-03-19 00:00:00'), Timestamp('2010-03-22 00:00:00')),\n",
       " (Timestamp('2010-03-22 00:00:00'), Timestamp('2010-03-23 00:00:00')),\n",
       " (Timestamp('2010-03-23 00:00:00'), Timestamp('2010-03-24 00:00:00')),\n",
       " (Timestamp('2010-03-24 00:00:00'), Timestamp('2010-03-25 00:00:00')),\n",
       " (Timestamp('2010-03-25 00:00:00'), Timestamp('2010-03-26 00:00:00')),\n",
       " (Timestamp('2010-03-26 00:00:00'), Timestamp('2010-03-29 00:00:00')),\n",
       " (Timestamp('2010-03-29 00:00:00'), Timestamp('2010-03-30 00:00:00')),\n",
       " (Timestamp('2010-03-30 00:00:00'), Timestamp('2010-03-31 00:00:00')),\n",
       " (Timestamp('2010-03-31 00:00:00'), Timestamp('2010-04-01 00:00:00')),\n",
       " (Timestamp('2010-04-01 00:00:00'), Timestamp('2010-04-05 00:00:00')),\n",
       " (Timestamp('2010-04-05 00:00:00'), Timestamp('2010-04-06 00:00:00')),\n",
       " (Timestamp('2010-04-06 00:00:00'), Timestamp('2010-04-07 00:00:00')),\n",
       " (Timestamp('2010-04-07 00:00:00'), Timestamp('2010-04-08 00:00:00')),\n",
       " (Timestamp('2010-04-08 00:00:00'), Timestamp('2010-04-09 00:00:00')),\n",
       " (Timestamp('2010-04-09 00:00:00'), Timestamp('2010-04-12 00:00:00')),\n",
       " (Timestamp('2010-04-12 00:00:00'), Timestamp('2010-04-13 00:00:00')),\n",
       " (Timestamp('2010-04-13 00:00:00'), Timestamp('2010-04-14 00:00:00')),\n",
       " (Timestamp('2010-04-14 00:00:00'), Timestamp('2010-04-15 00:00:00')),\n",
       " (Timestamp('2010-04-15 00:00:00'), Timestamp('2010-04-16 00:00:00')),\n",
       " (Timestamp('2010-04-16 00:00:00'), Timestamp('2010-04-19 00:00:00')),\n",
       " (Timestamp('2010-04-19 00:00:00'), Timestamp('2010-04-20 00:00:00')),\n",
       " (Timestamp('2010-04-20 00:00:00'), Timestamp('2010-04-21 00:00:00')),\n",
       " (Timestamp('2010-04-21 00:00:00'), Timestamp('2010-04-22 00:00:00')),\n",
       " (Timestamp('2010-04-22 00:00:00'), Timestamp('2010-04-23 00:00:00')),\n",
       " (Timestamp('2010-04-23 00:00:00'), Timestamp('2010-04-26 00:00:00')),\n",
       " (Timestamp('2010-04-26 00:00:00'), Timestamp('2010-04-27 00:00:00')),\n",
       " (Timestamp('2010-04-27 00:00:00'), Timestamp('2010-04-28 00:00:00')),\n",
       " (Timestamp('2010-04-28 00:00:00'), Timestamp('2010-04-29 00:00:00')),\n",
       " (Timestamp('2010-04-29 00:00:00'), Timestamp('2010-04-30 00:00:00')),\n",
       " (Timestamp('2010-04-30 00:00:00'), Timestamp('2010-05-03 00:00:00')),\n",
       " (Timestamp('2010-05-03 00:00:00'), Timestamp('2010-05-04 00:00:00')),\n",
       " (Timestamp('2010-05-04 00:00:00'), Timestamp('2010-05-05 00:00:00')),\n",
       " (Timestamp('2010-05-05 00:00:00'), Timestamp('2010-05-06 00:00:00')),\n",
       " (Timestamp('2010-05-06 00:00:00'), Timestamp('2010-05-07 00:00:00')),\n",
       " (Timestamp('2010-05-07 00:00:00'), Timestamp('2010-05-10 00:00:00')),\n",
       " (Timestamp('2010-05-10 00:00:00'), Timestamp('2010-05-11 00:00:00')),\n",
       " (Timestamp('2010-05-11 00:00:00'), Timestamp('2010-05-12 00:00:00')),\n",
       " (Timestamp('2010-05-12 00:00:00'), Timestamp('2010-05-13 00:00:00')),\n",
       " (Timestamp('2010-05-13 00:00:00'), Timestamp('2010-05-14 00:00:00')),\n",
       " (Timestamp('2010-05-14 00:00:00'), Timestamp('2010-05-17 00:00:00')),\n",
       " (Timestamp('2010-05-17 00:00:00'), Timestamp('2010-05-18 00:00:00')),\n",
       " (Timestamp('2010-05-18 00:00:00'), Timestamp('2010-05-19 00:00:00')),\n",
       " (Timestamp('2010-05-19 00:00:00'), Timestamp('2010-05-20 00:00:00')),\n",
       " (Timestamp('2010-05-20 00:00:00'), Timestamp('2010-05-21 00:00:00')),\n",
       " (Timestamp('2010-05-21 00:00:00'), Timestamp('2010-05-24 00:00:00')),\n",
       " (Timestamp('2010-05-24 00:00:00'), Timestamp('2010-05-25 00:00:00')),\n",
       " (Timestamp('2010-05-25 00:00:00'), Timestamp('2010-05-26 00:00:00')),\n",
       " (Timestamp('2010-05-26 00:00:00'), Timestamp('2010-05-27 00:00:00')),\n",
       " (Timestamp('2010-05-27 00:00:00'), Timestamp('2010-05-28 00:00:00')),\n",
       " (Timestamp('2010-05-28 00:00:00'), Timestamp('2010-06-01 00:00:00')),\n",
       " (Timestamp('2010-06-01 00:00:00'), Timestamp('2010-06-02 00:00:00')),\n",
       " (Timestamp('2010-06-02 00:00:00'), Timestamp('2010-06-03 00:00:00')),\n",
       " (Timestamp('2010-06-03 00:00:00'), Timestamp('2010-06-04 00:00:00')),\n",
       " (Timestamp('2010-06-04 00:00:00'), Timestamp('2010-06-07 00:00:00')),\n",
       " (Timestamp('2010-06-07 00:00:00'), Timestamp('2010-06-08 00:00:00')),\n",
       " (Timestamp('2010-06-08 00:00:00'), Timestamp('2010-06-09 00:00:00')),\n",
       " (Timestamp('2010-06-09 00:00:00'), Timestamp('2010-06-10 00:00:00')),\n",
       " (Timestamp('2010-06-10 00:00:00'), Timestamp('2010-06-11 00:00:00')),\n",
       " (Timestamp('2010-06-11 00:00:00'), Timestamp('2010-06-14 00:00:00')),\n",
       " (Timestamp('2010-06-14 00:00:00'), Timestamp('2010-06-15 00:00:00')),\n",
       " (Timestamp('2010-06-15 00:00:00'), Timestamp('2010-06-16 00:00:00')),\n",
       " (Timestamp('2010-06-16 00:00:00'), Timestamp('2010-06-17 00:00:00')),\n",
       " (Timestamp('2010-06-17 00:00:00'), Timestamp('2010-06-18 00:00:00')),\n",
       " (Timestamp('2010-06-18 00:00:00'), Timestamp('2010-06-21 00:00:00')),\n",
       " (Timestamp('2010-06-21 00:00:00'), Timestamp('2010-06-22 00:00:00')),\n",
       " (Timestamp('2010-06-22 00:00:00'), Timestamp('2010-06-23 00:00:00')),\n",
       " (Timestamp('2010-06-23 00:00:00'), Timestamp('2010-06-24 00:00:00')),\n",
       " (Timestamp('2010-06-24 00:00:00'), Timestamp('2010-06-25 00:00:00')),\n",
       " (Timestamp('2010-06-25 00:00:00'), Timestamp('2010-06-28 00:00:00')),\n",
       " (Timestamp('2010-06-28 00:00:00'), Timestamp('2010-06-29 00:00:00')),\n",
       " (Timestamp('2010-06-29 00:00:00'), Timestamp('2010-06-30 00:00:00')),\n",
       " (Timestamp('2010-06-30 00:00:00'), Timestamp('2010-07-01 00:00:00')),\n",
       " (Timestamp('2010-07-01 00:00:00'), Timestamp('2010-07-02 00:00:00')),\n",
       " (Timestamp('2010-07-02 00:00:00'), Timestamp('2010-07-06 00:00:00')),\n",
       " (Timestamp('2010-07-06 00:00:00'), Timestamp('2010-07-07 00:00:00')),\n",
       " (Timestamp('2010-07-07 00:00:00'), Timestamp('2010-07-08 00:00:00')),\n",
       " (Timestamp('2010-07-08 00:00:00'), Timestamp('2010-07-09 00:00:00')),\n",
       " (Timestamp('2010-07-09 00:00:00'), Timestamp('2010-07-12 00:00:00')),\n",
       " (Timestamp('2010-07-12 00:00:00'), Timestamp('2010-07-13 00:00:00')),\n",
       " (Timestamp('2010-07-13 00:00:00'), Timestamp('2010-07-14 00:00:00')),\n",
       " (Timestamp('2010-07-14 00:00:00'), Timestamp('2010-07-15 00:00:00')),\n",
       " (Timestamp('2010-07-15 00:00:00'), Timestamp('2010-07-16 00:00:00')),\n",
       " (Timestamp('2010-07-16 00:00:00'), Timestamp('2010-07-19 00:00:00')),\n",
       " (Timestamp('2010-07-19 00:00:00'), Timestamp('2010-07-20 00:00:00')),\n",
       " (Timestamp('2010-07-20 00:00:00'), Timestamp('2010-07-21 00:00:00')),\n",
       " (Timestamp('2010-07-21 00:00:00'), Timestamp('2010-07-22 00:00:00')),\n",
       " (Timestamp('2010-07-22 00:00:00'), Timestamp('2010-07-23 00:00:00')),\n",
       " (Timestamp('2010-07-23 00:00:00'), Timestamp('2010-07-26 00:00:00')),\n",
       " (Timestamp('2010-07-26 00:00:00'), Timestamp('2010-07-27 00:00:00')),\n",
       " (Timestamp('2010-07-27 00:00:00'), Timestamp('2010-07-28 00:00:00')),\n",
       " (Timestamp('2010-07-28 00:00:00'), Timestamp('2010-07-29 00:00:00')),\n",
       " (Timestamp('2010-07-29 00:00:00'), Timestamp('2010-07-30 00:00:00')),\n",
       " (Timestamp('2010-07-30 00:00:00'), Timestamp('2010-08-02 00:00:00')),\n",
       " (Timestamp('2010-08-02 00:00:00'), Timestamp('2010-08-03 00:00:00')),\n",
       " (Timestamp('2010-08-03 00:00:00'), Timestamp('2010-08-04 00:00:00')),\n",
       " (Timestamp('2010-08-04 00:00:00'), Timestamp('2010-08-05 00:00:00')),\n",
       " (Timestamp('2010-08-05 00:00:00'), Timestamp('2010-08-06 00:00:00')),\n",
       " (Timestamp('2010-08-06 00:00:00'), Timestamp('2010-08-09 00:00:00')),\n",
       " (Timestamp('2010-08-09 00:00:00'), Timestamp('2010-08-10 00:00:00')),\n",
       " (Timestamp('2010-08-10 00:00:00'), Timestamp('2010-08-11 00:00:00')),\n",
       " (Timestamp('2010-08-11 00:00:00'), Timestamp('2010-08-12 00:00:00')),\n",
       " (Timestamp('2010-08-12 00:00:00'), Timestamp('2010-08-13 00:00:00')),\n",
       " (Timestamp('2010-08-13 00:00:00'), Timestamp('2010-08-16 00:00:00')),\n",
       " (Timestamp('2010-08-16 00:00:00'), Timestamp('2010-08-17 00:00:00')),\n",
       " (Timestamp('2010-08-17 00:00:00'), Timestamp('2010-08-18 00:00:00')),\n",
       " (Timestamp('2010-08-18 00:00:00'), Timestamp('2010-08-19 00:00:00')),\n",
       " (Timestamp('2010-08-19 00:00:00'), Timestamp('2010-08-20 00:00:00')),\n",
       " (Timestamp('2010-08-20 00:00:00'), Timestamp('2010-08-23 00:00:00')),\n",
       " (Timestamp('2010-08-23 00:00:00'), Timestamp('2010-08-24 00:00:00')),\n",
       " (Timestamp('2010-08-24 00:00:00'), Timestamp('2010-08-25 00:00:00')),\n",
       " (Timestamp('2010-08-25 00:00:00'), Timestamp('2010-08-26 00:00:00')),\n",
       " (Timestamp('2010-08-26 00:00:00'), Timestamp('2010-08-27 00:00:00')),\n",
       " (Timestamp('2010-08-27 00:00:00'), Timestamp('2010-08-30 00:00:00')),\n",
       " (Timestamp('2010-08-30 00:00:00'), Timestamp('2010-08-31 00:00:00')),\n",
       " (Timestamp('2010-08-31 00:00:00'), Timestamp('2010-09-01 00:00:00')),\n",
       " (Timestamp('2010-09-01 00:00:00'), Timestamp('2010-09-02 00:00:00')),\n",
       " (Timestamp('2010-09-02 00:00:00'), Timestamp('2010-09-03 00:00:00')),\n",
       " (Timestamp('2010-09-03 00:00:00'), Timestamp('2010-09-07 00:00:00')),\n",
       " (Timestamp('2010-09-07 00:00:00'), Timestamp('2010-09-08 00:00:00')),\n",
       " (Timestamp('2010-09-08 00:00:00'), Timestamp('2010-09-09 00:00:00')),\n",
       " (Timestamp('2010-09-09 00:00:00'), Timestamp('2010-09-10 00:00:00')),\n",
       " (Timestamp('2010-09-10 00:00:00'), Timestamp('2010-09-13 00:00:00')),\n",
       " (Timestamp('2010-09-13 00:00:00'), Timestamp('2010-09-14 00:00:00')),\n",
       " (Timestamp('2010-09-14 00:00:00'), Timestamp('2010-09-15 00:00:00')),\n",
       " (Timestamp('2010-09-15 00:00:00'), Timestamp('2010-09-16 00:00:00')),\n",
       " (Timestamp('2010-09-16 00:00:00'), Timestamp('2010-09-17 00:00:00')),\n",
       " (Timestamp('2010-09-17 00:00:00'), Timestamp('2010-09-20 00:00:00')),\n",
       " (Timestamp('2010-09-20 00:00:00'), Timestamp('2010-09-21 00:00:00')),\n",
       " (Timestamp('2010-09-21 00:00:00'), Timestamp('2010-09-22 00:00:00')),\n",
       " (Timestamp('2010-09-22 00:00:00'), Timestamp('2010-09-23 00:00:00')),\n",
       " (Timestamp('2010-09-23 00:00:00'), Timestamp('2010-09-24 00:00:00')),\n",
       " (Timestamp('2010-09-24 00:00:00'), Timestamp('2010-09-27 00:00:00')),\n",
       " (Timestamp('2010-09-27 00:00:00'), Timestamp('2010-09-28 00:00:00')),\n",
       " (Timestamp('2010-09-28 00:00:00'), Timestamp('2010-09-29 00:00:00')),\n",
       " (Timestamp('2010-09-29 00:00:00'), Timestamp('2010-09-30 00:00:00')),\n",
       " (Timestamp('2010-09-30 00:00:00'), Timestamp('2010-10-01 00:00:00')),\n",
       " (Timestamp('2010-10-01 00:00:00'), Timestamp('2010-10-04 00:00:00')),\n",
       " (Timestamp('2010-10-04 00:00:00'), Timestamp('2010-10-05 00:00:00')),\n",
       " (Timestamp('2010-10-05 00:00:00'), Timestamp('2010-10-06 00:00:00')),\n",
       " (Timestamp('2010-10-06 00:00:00'), Timestamp('2010-10-07 00:00:00')),\n",
       " (Timestamp('2010-10-07 00:00:00'), Timestamp('2010-10-08 00:00:00')),\n",
       " (Timestamp('2010-10-08 00:00:00'), Timestamp('2010-10-11 00:00:00')),\n",
       " (Timestamp('2010-10-11 00:00:00'), Timestamp('2010-10-12 00:00:00')),\n",
       " (Timestamp('2010-10-12 00:00:00'), Timestamp('2010-10-13 00:00:00')),\n",
       " (Timestamp('2010-10-13 00:00:00'), Timestamp('2010-10-14 00:00:00')),\n",
       " (Timestamp('2010-10-14 00:00:00'), Timestamp('2010-10-15 00:00:00')),\n",
       " (Timestamp('2010-10-15 00:00:00'), Timestamp('2010-10-18 00:00:00')),\n",
       " (Timestamp('2010-10-18 00:00:00'), Timestamp('2010-10-19 00:00:00')),\n",
       " (Timestamp('2010-10-19 00:00:00'), Timestamp('2010-10-20 00:00:00')),\n",
       " (Timestamp('2010-10-20 00:00:00'), Timestamp('2010-10-21 00:00:00')),\n",
       " (Timestamp('2010-10-21 00:00:00'), Timestamp('2010-10-22 00:00:00')),\n",
       " (Timestamp('2010-10-22 00:00:00'), Timestamp('2010-10-25 00:00:00')),\n",
       " (Timestamp('2010-10-25 00:00:00'), Timestamp('2010-10-26 00:00:00')),\n",
       " (Timestamp('2010-10-26 00:00:00'), Timestamp('2010-10-27 00:00:00')),\n",
       " (Timestamp('2010-10-27 00:00:00'), Timestamp('2010-10-28 00:00:00')),\n",
       " (Timestamp('2010-10-28 00:00:00'), Timestamp('2010-10-29 00:00:00')),\n",
       " (Timestamp('2010-10-29 00:00:00'), Timestamp('2010-11-01 00:00:00')),\n",
       " (Timestamp('2010-11-01 00:00:00'), Timestamp('2010-11-02 00:00:00')),\n",
       " (Timestamp('2010-11-02 00:00:00'), Timestamp('2010-11-03 00:00:00')),\n",
       " (Timestamp('2010-11-03 00:00:00'), Timestamp('2010-11-04 00:00:00')),\n",
       " (Timestamp('2010-11-04 00:00:00'), Timestamp('2010-11-05 00:00:00')),\n",
       " (Timestamp('2010-11-05 00:00:00'), Timestamp('2010-11-08 00:00:00')),\n",
       " (Timestamp('2010-11-08 00:00:00'), Timestamp('2010-11-09 00:00:00')),\n",
       " (Timestamp('2010-11-09 00:00:00'), Timestamp('2010-11-10 00:00:00')),\n",
       " (Timestamp('2010-11-10 00:00:00'), Timestamp('2010-11-11 00:00:00')),\n",
       " (Timestamp('2010-11-11 00:00:00'), Timestamp('2010-11-12 00:00:00')),\n",
       " (Timestamp('2010-11-12 00:00:00'), Timestamp('2010-11-15 00:00:00')),\n",
       " (Timestamp('2010-11-15 00:00:00'), Timestamp('2010-11-16 00:00:00')),\n",
       " (Timestamp('2010-11-16 00:00:00'), Timestamp('2010-11-17 00:00:00')),\n",
       " (Timestamp('2010-11-17 00:00:00'), Timestamp('2010-11-18 00:00:00')),\n",
       " (Timestamp('2010-11-18 00:00:00'), Timestamp('2010-11-19 00:00:00')),\n",
       " (Timestamp('2010-11-19 00:00:00'), Timestamp('2010-11-22 00:00:00')),\n",
       " (Timestamp('2010-11-22 00:00:00'), Timestamp('2010-11-23 00:00:00')),\n",
       " (Timestamp('2010-11-23 00:00:00'), Timestamp('2010-11-24 00:00:00')),\n",
       " (Timestamp('2010-11-24 00:00:00'), Timestamp('2010-11-26 00:00:00')),\n",
       " (Timestamp('2010-11-26 00:00:00'), Timestamp('2010-11-29 00:00:00')),\n",
       " (Timestamp('2010-11-29 00:00:00'), Timestamp('2010-11-30 00:00:00')),\n",
       " (Timestamp('2010-11-30 00:00:00'), Timestamp('2010-12-01 00:00:00')),\n",
       " (Timestamp('2010-12-01 00:00:00'), Timestamp('2010-12-02 00:00:00')),\n",
       " (Timestamp('2010-12-02 00:00:00'), Timestamp('2010-12-03 00:00:00')),\n",
       " (Timestamp('2010-12-03 00:00:00'), Timestamp('2010-12-06 00:00:00')),\n",
       " (Timestamp('2010-12-06 00:00:00'), Timestamp('2010-12-07 00:00:00')),\n",
       " (Timestamp('2010-12-07 00:00:00'), Timestamp('2010-12-08 00:00:00')),\n",
       " (Timestamp('2010-12-08 00:00:00'), Timestamp('2010-12-09 00:00:00')),\n",
       " (Timestamp('2010-12-09 00:00:00'), Timestamp('2010-12-10 00:00:00')),\n",
       " (Timestamp('2010-12-10 00:00:00'), Timestamp('2010-12-13 00:00:00')),\n",
       " (Timestamp('2010-12-13 00:00:00'), Timestamp('2010-12-14 00:00:00')),\n",
       " (Timestamp('2010-12-14 00:00:00'), Timestamp('2010-12-15 00:00:00')),\n",
       " (Timestamp('2010-12-15 00:00:00'), Timestamp('2010-12-16 00:00:00')),\n",
       " (Timestamp('2010-12-16 00:00:00'), Timestamp('2010-12-17 00:00:00')),\n",
       " (Timestamp('2010-12-17 00:00:00'), Timestamp('2010-12-20 00:00:00')),\n",
       " (Timestamp('2010-12-20 00:00:00'), Timestamp('2010-12-21 00:00:00')),\n",
       " (Timestamp('2010-12-21 00:00:00'), Timestamp('2010-12-22 00:00:00')),\n",
       " (Timestamp('2010-12-22 00:00:00'), Timestamp('2010-12-23 00:00:00')),\n",
       " (Timestamp('2010-12-23 00:00:00'), Timestamp('2010-12-27 00:00:00')),\n",
       " (Timestamp('2010-12-27 00:00:00'), Timestamp('2010-12-28 00:00:00')),\n",
       " (Timestamp('2010-12-28 00:00:00'), Timestamp('2010-12-29 00:00:00')),\n",
       " (Timestamp('2010-12-29 00:00:00'), Timestamp('2010-12-30 00:00:00')),\n",
       " (Timestamp('2010-12-30 00:00:00'), Timestamp('2010-12-31 00:00:00')),\n",
       " (Timestamp('2010-12-31 00:00:00'), Timestamp('2011-01-03 00:00:00')),\n",
       " (Timestamp('2011-01-03 00:00:00'), Timestamp('2011-01-04 00:00:00')),\n",
       " (Timestamp('2011-01-04 00:00:00'), Timestamp('2011-01-05 00:00:00')),\n",
       " (Timestamp('2011-01-05 00:00:00'), Timestamp('2011-01-06 00:00:00')),\n",
       " (Timestamp('2011-01-06 00:00:00'), Timestamp('2011-01-07 00:00:00')),\n",
       " (Timestamp('2011-01-07 00:00:00'), Timestamp('2011-01-10 00:00:00')),\n",
       " (Timestamp('2011-01-10 00:00:00'), Timestamp('2011-01-11 00:00:00')),\n",
       " (Timestamp('2011-01-11 00:00:00'), Timestamp('2011-01-12 00:00:00')),\n",
       " (Timestamp('2011-01-12 00:00:00'), Timestamp('2011-01-13 00:00:00')),\n",
       " (Timestamp('2011-01-13 00:00:00'), Timestamp('2011-01-14 00:00:00')),\n",
       " (Timestamp('2011-01-14 00:00:00'), Timestamp('2011-01-18 00:00:00')),\n",
       " (Timestamp('2011-01-18 00:00:00'), Timestamp('2011-01-19 00:00:00')),\n",
       " (Timestamp('2011-01-19 00:00:00'), Timestamp('2011-01-20 00:00:00')),\n",
       " (Timestamp('2011-01-20 00:00:00'), Timestamp('2011-01-21 00:00:00')),\n",
       " (Timestamp('2011-01-21 00:00:00'), Timestamp('2011-01-24 00:00:00')),\n",
       " (Timestamp('2011-01-24 00:00:00'), Timestamp('2011-01-25 00:00:00')),\n",
       " (Timestamp('2011-01-25 00:00:00'), Timestamp('2011-01-26 00:00:00')),\n",
       " (Timestamp('2011-01-26 00:00:00'), Timestamp('2011-01-27 00:00:00')),\n",
       " (Timestamp('2011-01-27 00:00:00'), Timestamp('2011-01-28 00:00:00')),\n",
       " (Timestamp('2011-01-28 00:00:00'), Timestamp('2011-01-31 00:00:00')),\n",
       " (Timestamp('2011-01-31 00:00:00'), Timestamp('2011-02-01 00:00:00')),\n",
       " (Timestamp('2011-02-01 00:00:00'), Timestamp('2011-02-02 00:00:00')),\n",
       " (Timestamp('2011-02-02 00:00:00'), Timestamp('2011-02-03 00:00:00')),\n",
       " (Timestamp('2011-02-03 00:00:00'), Timestamp('2011-02-04 00:00:00')),\n",
       " (Timestamp('2011-02-04 00:00:00'), Timestamp('2011-02-07 00:00:00')),\n",
       " (Timestamp('2011-02-07 00:00:00'), Timestamp('2011-02-08 00:00:00')),\n",
       " (Timestamp('2011-02-08 00:00:00'), Timestamp('2011-02-09 00:00:00')),\n",
       " (Timestamp('2011-02-09 00:00:00'), Timestamp('2011-02-10 00:00:00')),\n",
       " (Timestamp('2011-02-10 00:00:00'), Timestamp('2011-02-11 00:00:00')),\n",
       " (Timestamp('2011-02-11 00:00:00'), Timestamp('2011-02-14 00:00:00')),\n",
       " (Timestamp('2011-02-14 00:00:00'), Timestamp('2011-02-15 00:00:00')),\n",
       " (Timestamp('2011-02-15 00:00:00'), Timestamp('2011-02-16 00:00:00')),\n",
       " (Timestamp('2011-02-16 00:00:00'), Timestamp('2011-02-17 00:00:00')),\n",
       " (Timestamp('2011-02-17 00:00:00'), Timestamp('2011-02-18 00:00:00')),\n",
       " (Timestamp('2011-02-18 00:00:00'), Timestamp('2011-02-22 00:00:00')),\n",
       " (Timestamp('2011-02-22 00:00:00'), Timestamp('2011-02-23 00:00:00')),\n",
       " (Timestamp('2011-02-23 00:00:00'), Timestamp('2011-02-24 00:00:00')),\n",
       " (Timestamp('2011-02-24 00:00:00'), Timestamp('2011-02-25 00:00:00')),\n",
       " (Timestamp('2011-02-25 00:00:00'), Timestamp('2011-02-28 00:00:00')),\n",
       " (Timestamp('2011-02-28 00:00:00'), Timestamp('2011-03-01 00:00:00')),\n",
       " (Timestamp('2011-03-01 00:00:00'), Timestamp('2011-03-02 00:00:00')),\n",
       " (Timestamp('2011-03-02 00:00:00'), Timestamp('2011-03-03 00:00:00')),\n",
       " (Timestamp('2011-03-03 00:00:00'), Timestamp('2011-03-04 00:00:00')),\n",
       " (Timestamp('2011-03-04 00:00:00'), Timestamp('2011-03-07 00:00:00')),\n",
       " (Timestamp('2011-03-07 00:00:00'), Timestamp('2011-03-08 00:00:00')),\n",
       " (Timestamp('2011-03-08 00:00:00'), Timestamp('2011-03-09 00:00:00')),\n",
       " (Timestamp('2011-03-09 00:00:00'), Timestamp('2011-03-10 00:00:00')),\n",
       " (Timestamp('2011-03-10 00:00:00'), Timestamp('2011-03-11 00:00:00')),\n",
       " (Timestamp('2011-03-11 00:00:00'), Timestamp('2011-03-14 00:00:00')),\n",
       " (Timestamp('2011-03-14 00:00:00'), Timestamp('2011-03-15 00:00:00')),\n",
       " (Timestamp('2011-03-15 00:00:00'), Timestamp('2011-03-16 00:00:00')),\n",
       " (Timestamp('2011-03-16 00:00:00'), Timestamp('2011-03-17 00:00:00')),\n",
       " (Timestamp('2011-03-17 00:00:00'), Timestamp('2011-03-18 00:00:00')),\n",
       " (Timestamp('2011-03-18 00:00:00'), Timestamp('2011-03-21 00:00:00')),\n",
       " (Timestamp('2011-03-21 00:00:00'), Timestamp('2011-03-22 00:00:00')),\n",
       " (Timestamp('2011-03-22 00:00:00'), Timestamp('2011-03-23 00:00:00')),\n",
       " (Timestamp('2011-03-23 00:00:00'), Timestamp('2011-03-24 00:00:00')),\n",
       " (Timestamp('2011-03-24 00:00:00'), Timestamp('2011-03-25 00:00:00')),\n",
       " (Timestamp('2011-03-25 00:00:00'), Timestamp('2011-03-28 00:00:00')),\n",
       " (Timestamp('2011-03-28 00:00:00'), Timestamp('2011-03-29 00:00:00')),\n",
       " (Timestamp('2011-03-29 00:00:00'), Timestamp('2011-03-30 00:00:00')),\n",
       " (Timestamp('2011-03-30 00:00:00'), Timestamp('2011-03-31 00:00:00')),\n",
       " (Timestamp('2011-03-31 00:00:00'), Timestamp('2011-04-01 00:00:00')),\n",
       " (Timestamp('2011-04-01 00:00:00'), Timestamp('2011-04-04 00:00:00')),\n",
       " (Timestamp('2011-04-04 00:00:00'), Timestamp('2011-04-05 00:00:00')),\n",
       " (Timestamp('2011-04-05 00:00:00'), Timestamp('2011-04-06 00:00:00')),\n",
       " (Timestamp('2011-04-06 00:00:00'), Timestamp('2011-04-07 00:00:00')),\n",
       " (Timestamp('2011-04-07 00:00:00'), Timestamp('2011-04-08 00:00:00')),\n",
       " (Timestamp('2011-04-08 00:00:00'), Timestamp('2011-04-11 00:00:00')),\n",
       " (Timestamp('2011-04-11 00:00:00'), Timestamp('2011-04-12 00:00:00')),\n",
       " (Timestamp('2011-04-12 00:00:00'), Timestamp('2011-04-13 00:00:00')),\n",
       " (Timestamp('2011-04-13 00:00:00'), Timestamp('2011-04-14 00:00:00')),\n",
       " (Timestamp('2011-04-14 00:00:00'), Timestamp('2011-04-15 00:00:00')),\n",
       " (Timestamp('2011-04-15 00:00:00'), Timestamp('2011-04-18 00:00:00')),\n",
       " (Timestamp('2011-04-18 00:00:00'), Timestamp('2011-04-19 00:00:00')),\n",
       " (Timestamp('2011-04-19 00:00:00'), Timestamp('2011-04-20 00:00:00')),\n",
       " (Timestamp('2011-04-20 00:00:00'), Timestamp('2011-04-21 00:00:00')),\n",
       " (Timestamp('2011-04-21 00:00:00'), Timestamp('2011-04-25 00:00:00')),\n",
       " (Timestamp('2011-04-25 00:00:00'), Timestamp('2011-04-26 00:00:00')),\n",
       " (Timestamp('2011-04-26 00:00:00'), Timestamp('2011-04-27 00:00:00')),\n",
       " (Timestamp('2011-04-27 00:00:00'), Timestamp('2011-04-28 00:00:00')),\n",
       " (Timestamp('2011-04-28 00:00:00'), Timestamp('2011-04-29 00:00:00')),\n",
       " (Timestamp('2011-04-29 00:00:00'), Timestamp('2011-05-02 00:00:00')),\n",
       " (Timestamp('2011-05-02 00:00:00'), Timestamp('2011-05-03 00:00:00')),\n",
       " (Timestamp('2011-05-03 00:00:00'), Timestamp('2011-05-04 00:00:00')),\n",
       " (Timestamp('2011-05-04 00:00:00'), Timestamp('2011-05-05 00:00:00')),\n",
       " (Timestamp('2011-05-05 00:00:00'), Timestamp('2011-05-06 00:00:00')),\n",
       " (Timestamp('2011-05-06 00:00:00'), Timestamp('2011-05-09 00:00:00')),\n",
       " (Timestamp('2011-05-09 00:00:00'), Timestamp('2011-05-10 00:00:00')),\n",
       " (Timestamp('2011-05-10 00:00:00'), Timestamp('2011-05-11 00:00:00')),\n",
       " (Timestamp('2011-05-11 00:00:00'), Timestamp('2011-05-12 00:00:00')),\n",
       " (Timestamp('2011-05-12 00:00:00'), Timestamp('2011-05-13 00:00:00')),\n",
       " (Timestamp('2011-05-13 00:00:00'), Timestamp('2011-05-16 00:00:00')),\n",
       " (Timestamp('2011-05-16 00:00:00'), Timestamp('2011-05-17 00:00:00')),\n",
       " (Timestamp('2011-05-17 00:00:00'), Timestamp('2011-05-18 00:00:00')),\n",
       " (Timestamp('2011-05-18 00:00:00'), Timestamp('2011-05-19 00:00:00')),\n",
       " (Timestamp('2011-05-19 00:00:00'), Timestamp('2011-05-20 00:00:00')),\n",
       " (Timestamp('2011-05-20 00:00:00'), Timestamp('2011-05-23 00:00:00')),\n",
       " (Timestamp('2011-05-23 00:00:00'), Timestamp('2011-05-24 00:00:00')),\n",
       " (Timestamp('2011-05-24 00:00:00'), Timestamp('2011-05-25 00:00:00')),\n",
       " (Timestamp('2011-05-25 00:00:00'), Timestamp('2011-05-26 00:00:00')),\n",
       " (Timestamp('2011-05-26 00:00:00'), Timestamp('2011-05-27 00:00:00')),\n",
       " (Timestamp('2011-05-27 00:00:00'), Timestamp('2011-05-31 00:00:00')),\n",
       " (Timestamp('2011-05-31 00:00:00'), Timestamp('2011-06-01 00:00:00')),\n",
       " (Timestamp('2011-06-01 00:00:00'), Timestamp('2011-06-02 00:00:00')),\n",
       " (Timestamp('2011-06-02 00:00:00'), Timestamp('2011-06-03 00:00:00')),\n",
       " (Timestamp('2011-06-03 00:00:00'), Timestamp('2011-06-06 00:00:00')),\n",
       " (Timestamp('2011-06-06 00:00:00'), Timestamp('2011-06-07 00:00:00')),\n",
       " (Timestamp('2011-06-07 00:00:00'), Timestamp('2011-06-08 00:00:00')),\n",
       " (Timestamp('2011-06-08 00:00:00'), Timestamp('2011-06-09 00:00:00')),\n",
       " (Timestamp('2011-06-09 00:00:00'), Timestamp('2011-06-10 00:00:00')),\n",
       " (Timestamp('2011-06-10 00:00:00'), Timestamp('2011-06-13 00:00:00')),\n",
       " (Timestamp('2011-06-13 00:00:00'), Timestamp('2011-06-14 00:00:00')),\n",
       " (Timestamp('2011-06-14 00:00:00'), Timestamp('2011-06-15 00:00:00')),\n",
       " (Timestamp('2011-06-15 00:00:00'), Timestamp('2011-06-16 00:00:00')),\n",
       " (Timestamp('2011-06-16 00:00:00'), Timestamp('2011-06-17 00:00:00')),\n",
       " (Timestamp('2011-06-17 00:00:00'), Timestamp('2011-06-20 00:00:00')),\n",
       " (Timestamp('2011-06-20 00:00:00'), Timestamp('2011-06-21 00:00:00')),\n",
       " (Timestamp('2011-06-21 00:00:00'), Timestamp('2011-06-22 00:00:00')),\n",
       " (Timestamp('2011-06-22 00:00:00'), Timestamp('2011-06-23 00:00:00')),\n",
       " (Timestamp('2011-06-23 00:00:00'), Timestamp('2011-06-24 00:00:00')),\n",
       " (Timestamp('2011-06-24 00:00:00'), Timestamp('2011-06-27 00:00:00')),\n",
       " (Timestamp('2011-06-27 00:00:00'), Timestamp('2011-06-28 00:00:00')),\n",
       " (Timestamp('2011-06-28 00:00:00'), Timestamp('2011-06-29 00:00:00')),\n",
       " (Timestamp('2011-06-29 00:00:00'), Timestamp('2011-06-30 00:00:00')),\n",
       " (Timestamp('2011-06-30 00:00:00'), Timestamp('2011-07-01 00:00:00')),\n",
       " (Timestamp('2011-07-01 00:00:00'), Timestamp('2011-07-05 00:00:00')),\n",
       " (Timestamp('2011-07-05 00:00:00'), Timestamp('2011-07-06 00:00:00')),\n",
       " (Timestamp('2011-07-06 00:00:00'), Timestamp('2011-07-07 00:00:00')),\n",
       " (Timestamp('2011-07-07 00:00:00'), Timestamp('2011-07-08 00:00:00')),\n",
       " (Timestamp('2011-07-08 00:00:00'), Timestamp('2011-07-11 00:00:00')),\n",
       " (Timestamp('2011-07-11 00:00:00'), Timestamp('2011-07-12 00:00:00')),\n",
       " (Timestamp('2011-07-12 00:00:00'), Timestamp('2011-07-13 00:00:00')),\n",
       " (Timestamp('2011-07-13 00:00:00'), Timestamp('2011-07-14 00:00:00')),\n",
       " (Timestamp('2011-07-14 00:00:00'), Timestamp('2011-07-15 00:00:00')),\n",
       " (Timestamp('2011-07-15 00:00:00'), Timestamp('2011-07-18 00:00:00')),\n",
       " (Timestamp('2011-07-18 00:00:00'), Timestamp('2011-07-19 00:00:00')),\n",
       " (Timestamp('2011-07-19 00:00:00'), Timestamp('2011-07-20 00:00:00')),\n",
       " (Timestamp('2011-07-20 00:00:00'), Timestamp('2011-07-21 00:00:00')),\n",
       " (Timestamp('2011-07-21 00:00:00'), Timestamp('2011-07-22 00:00:00')),\n",
       " (Timestamp('2011-07-22 00:00:00'), Timestamp('2011-07-25 00:00:00')),\n",
       " (Timestamp('2011-07-25 00:00:00'), Timestamp('2011-07-26 00:00:00')),\n",
       " (Timestamp('2011-07-26 00:00:00'), Timestamp('2011-07-27 00:00:00')),\n",
       " (Timestamp('2011-07-27 00:00:00'), Timestamp('2011-07-28 00:00:00')),\n",
       " (Timestamp('2011-07-28 00:00:00'), Timestamp('2011-07-29 00:00:00')),\n",
       " (Timestamp('2011-07-29 00:00:00'), Timestamp('2011-08-01 00:00:00')),\n",
       " (Timestamp('2011-08-01 00:00:00'), Timestamp('2011-08-02 00:00:00')),\n",
       " (Timestamp('2011-08-02 00:00:00'), Timestamp('2011-08-03 00:00:00')),\n",
       " (Timestamp('2011-08-03 00:00:00'), Timestamp('2011-08-04 00:00:00')),\n",
       " (Timestamp('2011-08-04 00:00:00'), Timestamp('2011-08-05 00:00:00')),\n",
       " (Timestamp('2011-08-05 00:00:00'), Timestamp('2011-08-08 00:00:00')),\n",
       " (Timestamp('2011-08-08 00:00:00'), Timestamp('2011-08-09 00:00:00')),\n",
       " (Timestamp('2011-08-09 00:00:00'), Timestamp('2011-08-10 00:00:00')),\n",
       " (Timestamp('2011-08-10 00:00:00'), Timestamp('2011-08-11 00:00:00')),\n",
       " (Timestamp('2011-08-11 00:00:00'), Timestamp('2011-08-12 00:00:00')),\n",
       " (Timestamp('2011-08-12 00:00:00'), Timestamp('2011-08-15 00:00:00')),\n",
       " (Timestamp('2011-08-15 00:00:00'), Timestamp('2011-08-16 00:00:00')),\n",
       " (Timestamp('2011-08-16 00:00:00'), Timestamp('2011-08-17 00:00:00')),\n",
       " (Timestamp('2011-08-17 00:00:00'), Timestamp('2011-08-18 00:00:00')),\n",
       " (Timestamp('2011-08-18 00:00:00'), Timestamp('2011-08-19 00:00:00')),\n",
       " (Timestamp('2011-08-19 00:00:00'), Timestamp('2011-08-22 00:00:00')),\n",
       " (Timestamp('2011-08-22 00:00:00'), Timestamp('2011-08-23 00:00:00')),\n",
       " (Timestamp('2011-08-23 00:00:00'), Timestamp('2011-08-24 00:00:00')),\n",
       " (Timestamp('2011-08-24 00:00:00'), Timestamp('2011-08-25 00:00:00')),\n",
       " (Timestamp('2011-08-25 00:00:00'), Timestamp('2011-08-26 00:00:00')),\n",
       " (Timestamp('2011-08-26 00:00:00'), Timestamp('2011-08-29 00:00:00')),\n",
       " (Timestamp('2011-08-29 00:00:00'), Timestamp('2011-08-30 00:00:00')),\n",
       " (Timestamp('2011-08-30 00:00:00'), Timestamp('2011-08-31 00:00:00')),\n",
       " (Timestamp('2011-08-31 00:00:00'), Timestamp('2011-09-01 00:00:00')),\n",
       " (Timestamp('2011-09-01 00:00:00'), Timestamp('2011-09-02 00:00:00')),\n",
       " (Timestamp('2011-09-02 00:00:00'), Timestamp('2011-09-06 00:00:00')),\n",
       " (Timestamp('2011-09-06 00:00:00'), Timestamp('2011-09-07 00:00:00')),\n",
       " (Timestamp('2011-09-07 00:00:00'), Timestamp('2011-09-08 00:00:00')),\n",
       " (Timestamp('2011-09-08 00:00:00'), Timestamp('2011-09-09 00:00:00')),\n",
       " (Timestamp('2011-09-09 00:00:00'), Timestamp('2011-09-12 00:00:00')),\n",
       " (Timestamp('2011-09-12 00:00:00'), Timestamp('2011-09-13 00:00:00')),\n",
       " (Timestamp('2011-09-13 00:00:00'), Timestamp('2011-09-14 00:00:00')),\n",
       " (Timestamp('2011-09-14 00:00:00'), Timestamp('2011-09-15 00:00:00')),\n",
       " (Timestamp('2011-09-15 00:00:00'), Timestamp('2011-09-16 00:00:00')),\n",
       " (Timestamp('2011-09-16 00:00:00'), Timestamp('2011-09-19 00:00:00')),\n",
       " (Timestamp('2011-09-19 00:00:00'), Timestamp('2011-09-20 00:00:00')),\n",
       " (Timestamp('2011-09-20 00:00:00'), Timestamp('2011-09-21 00:00:00')),\n",
       " (Timestamp('2011-09-21 00:00:00'), Timestamp('2011-09-22 00:00:00')),\n",
       " (Timestamp('2011-09-22 00:00:00'), Timestamp('2011-09-23 00:00:00')),\n",
       " (Timestamp('2011-09-23 00:00:00'), Timestamp('2011-09-26 00:00:00')),\n",
       " (Timestamp('2011-09-26 00:00:00'), Timestamp('2011-09-27 00:00:00')),\n",
       " (Timestamp('2011-09-27 00:00:00'), Timestamp('2011-09-28 00:00:00')),\n",
       " (Timestamp('2011-09-28 00:00:00'), Timestamp('2011-09-29 00:00:00')),\n",
       " (Timestamp('2011-09-29 00:00:00'), Timestamp('2011-09-30 00:00:00')),\n",
       " (Timestamp('2011-09-30 00:00:00'), Timestamp('2011-10-03 00:00:00')),\n",
       " (Timestamp('2011-10-03 00:00:00'), Timestamp('2011-10-04 00:00:00')),\n",
       " (Timestamp('2011-10-04 00:00:00'), Timestamp('2011-10-05 00:00:00')),\n",
       " (Timestamp('2011-10-05 00:00:00'), Timestamp('2011-10-06 00:00:00')),\n",
       " (Timestamp('2011-10-06 00:00:00'), Timestamp('2011-10-07 00:00:00')),\n",
       " (Timestamp('2011-10-07 00:00:00'), Timestamp('2011-10-10 00:00:00')),\n",
       " (Timestamp('2011-10-10 00:00:00'), Timestamp('2011-10-11 00:00:00')),\n",
       " (Timestamp('2011-10-11 00:00:00'), Timestamp('2011-10-12 00:00:00')),\n",
       " (Timestamp('2011-10-12 00:00:00'), Timestamp('2011-10-13 00:00:00')),\n",
       " (Timestamp('2011-10-13 00:00:00'), Timestamp('2011-10-14 00:00:00')),\n",
       " (Timestamp('2011-10-14 00:00:00'), Timestamp('2011-10-17 00:00:00')),\n",
       " (Timestamp('2011-10-17 00:00:00'), Timestamp('2011-10-18 00:00:00')),\n",
       " (Timestamp('2011-10-18 00:00:00'), Timestamp('2011-10-19 00:00:00')),\n",
       " (Timestamp('2011-10-19 00:00:00'), Timestamp('2011-10-20 00:00:00')),\n",
       " (Timestamp('2011-10-20 00:00:00'), Timestamp('2011-10-21 00:00:00')),\n",
       " (Timestamp('2011-10-21 00:00:00'), Timestamp('2011-10-24 00:00:00')),\n",
       " (Timestamp('2011-10-24 00:00:00'), Timestamp('2011-10-25 00:00:00')),\n",
       " (Timestamp('2011-10-25 00:00:00'), Timestamp('2011-10-26 00:00:00')),\n",
       " (Timestamp('2011-10-26 00:00:00'), Timestamp('2011-10-27 00:00:00')),\n",
       " (Timestamp('2011-10-27 00:00:00'), Timestamp('2011-10-28 00:00:00')),\n",
       " (Timestamp('2011-10-28 00:00:00'), Timestamp('2011-10-31 00:00:00')),\n",
       " (Timestamp('2011-10-31 00:00:00'), Timestamp('2011-11-01 00:00:00')),\n",
       " (Timestamp('2011-11-01 00:00:00'), Timestamp('2011-11-02 00:00:00')),\n",
       " (Timestamp('2011-11-02 00:00:00'), Timestamp('2011-11-03 00:00:00')),\n",
       " (Timestamp('2011-11-03 00:00:00'), Timestamp('2011-11-04 00:00:00')),\n",
       " (Timestamp('2011-11-04 00:00:00'), Timestamp('2011-11-07 00:00:00')),\n",
       " (Timestamp('2011-11-07 00:00:00'), Timestamp('2011-11-08 00:00:00')),\n",
       " (Timestamp('2011-11-08 00:00:00'), Timestamp('2011-11-09 00:00:00')),\n",
       " (Timestamp('2011-11-09 00:00:00'), Timestamp('2011-11-10 00:00:00')),\n",
       " (Timestamp('2011-11-10 00:00:00'), Timestamp('2011-11-11 00:00:00')),\n",
       " (Timestamp('2011-11-11 00:00:00'), Timestamp('2011-11-14 00:00:00')),\n",
       " (Timestamp('2011-11-14 00:00:00'), Timestamp('2011-11-15 00:00:00')),\n",
       " (Timestamp('2011-11-15 00:00:00'), Timestamp('2011-11-16 00:00:00')),\n",
       " (Timestamp('2011-11-16 00:00:00'), Timestamp('2011-11-17 00:00:00')),\n",
       " (Timestamp('2011-11-17 00:00:00'), Timestamp('2011-11-18 00:00:00')),\n",
       " (Timestamp('2011-11-18 00:00:00'), Timestamp('2011-11-21 00:00:00')),\n",
       " (Timestamp('2011-11-21 00:00:00'), Timestamp('2011-11-22 00:00:00')),\n",
       " (Timestamp('2011-11-22 00:00:00'), Timestamp('2011-11-23 00:00:00')),\n",
       " (Timestamp('2011-11-23 00:00:00'), Timestamp('2011-11-25 00:00:00')),\n",
       " (Timestamp('2011-11-25 00:00:00'), Timestamp('2011-11-28 00:00:00')),\n",
       " (Timestamp('2011-11-28 00:00:00'), Timestamp('2011-11-29 00:00:00')),\n",
       " (Timestamp('2011-11-29 00:00:00'), Timestamp('2011-11-30 00:00:00')),\n",
       " (Timestamp('2011-11-30 00:00:00'), Timestamp('2011-12-01 00:00:00')),\n",
       " (Timestamp('2011-12-01 00:00:00'), Timestamp('2011-12-02 00:00:00')),\n",
       " (Timestamp('2011-12-02 00:00:00'), Timestamp('2011-12-05 00:00:00')),\n",
       " (Timestamp('2011-12-05 00:00:00'), Timestamp('2011-12-06 00:00:00')),\n",
       " (Timestamp('2011-12-06 00:00:00'), Timestamp('2011-12-07 00:00:00')),\n",
       " (Timestamp('2011-12-07 00:00:00'), Timestamp('2011-12-08 00:00:00')),\n",
       " (Timestamp('2011-12-08 00:00:00'), Timestamp('2011-12-09 00:00:00')),\n",
       " (Timestamp('2011-12-09 00:00:00'), Timestamp('2011-12-12 00:00:00')),\n",
       " (Timestamp('2011-12-12 00:00:00'), Timestamp('2011-12-13 00:00:00')),\n",
       " (Timestamp('2011-12-13 00:00:00'), Timestamp('2011-12-14 00:00:00')),\n",
       " (Timestamp('2011-12-14 00:00:00'), Timestamp('2011-12-15 00:00:00')),\n",
       " (Timestamp('2011-12-15 00:00:00'), Timestamp('2011-12-16 00:00:00')),\n",
       " (Timestamp('2011-12-16 00:00:00'), Timestamp('2011-12-19 00:00:00')),\n",
       " (Timestamp('2011-12-19 00:00:00'), Timestamp('2011-12-20 00:00:00')),\n",
       " (Timestamp('2011-12-20 00:00:00'), Timestamp('2011-12-21 00:00:00')),\n",
       " (Timestamp('2011-12-21 00:00:00'), Timestamp('2011-12-22 00:00:00')),\n",
       " (Timestamp('2011-12-22 00:00:00'), Timestamp('2011-12-23 00:00:00')),\n",
       " (Timestamp('2011-12-23 00:00:00'), Timestamp('2011-12-27 00:00:00')),\n",
       " (Timestamp('2011-12-27 00:00:00'), Timestamp('2011-12-28 00:00:00')),\n",
       " (Timestamp('2011-12-28 00:00:00'), Timestamp('2011-12-29 00:00:00')),\n",
       " (Timestamp('2011-12-29 00:00:00'), Timestamp('2011-12-30 00:00:00')),\n",
       " (Timestamp('2011-12-30 00:00:00'), Timestamp('2012-01-03 00:00:00')),\n",
       " (Timestamp('2012-01-03 00:00:00'), Timestamp('2012-01-04 00:00:00')),\n",
       " (Timestamp('2012-01-04 00:00:00'), Timestamp('2012-01-05 00:00:00')),\n",
       " (Timestamp('2012-01-05 00:00:00'), Timestamp('2012-01-06 00:00:00')),\n",
       " (Timestamp('2012-01-06 00:00:00'), Timestamp('2012-01-09 00:00:00')),\n",
       " (Timestamp('2012-01-09 00:00:00'), Timestamp('2012-01-10 00:00:00')),\n",
       " (Timestamp('2012-01-10 00:00:00'), Timestamp('2012-01-11 00:00:00')),\n",
       " (Timestamp('2012-01-11 00:00:00'), Timestamp('2012-01-12 00:00:00')),\n",
       " (Timestamp('2012-01-12 00:00:00'), Timestamp('2012-01-13 00:00:00')),\n",
       " (Timestamp('2012-01-13 00:00:00'), Timestamp('2012-01-17 00:00:00')),\n",
       " (Timestamp('2012-01-17 00:00:00'), Timestamp('2012-01-18 00:00:00')),\n",
       " (Timestamp('2012-01-18 00:00:00'), Timestamp('2012-01-19 00:00:00')),\n",
       " (Timestamp('2012-01-19 00:00:00'), Timestamp('2012-01-20 00:00:00')),\n",
       " (Timestamp('2012-01-20 00:00:00'), Timestamp('2012-01-23 00:00:00')),\n",
       " (Timestamp('2012-01-23 00:00:00'), Timestamp('2012-01-24 00:00:00')),\n",
       " (Timestamp('2012-01-24 00:00:00'), Timestamp('2012-01-25 00:00:00')),\n",
       " (Timestamp('2012-01-25 00:00:00'), Timestamp('2012-01-26 00:00:00')),\n",
       " (Timestamp('2012-01-26 00:00:00'), Timestamp('2012-01-27 00:00:00')),\n",
       " (Timestamp('2012-01-27 00:00:00'), Timestamp('2012-01-30 00:00:00')),\n",
       " (Timestamp('2012-01-30 00:00:00'), Timestamp('2012-01-31 00:00:00')),\n",
       " (Timestamp('2012-01-31 00:00:00'), Timestamp('2012-02-01 00:00:00')),\n",
       " (Timestamp('2012-02-01 00:00:00'), Timestamp('2012-02-02 00:00:00')),\n",
       " (Timestamp('2012-02-02 00:00:00'), Timestamp('2012-02-03 00:00:00')),\n",
       " (Timestamp('2012-02-03 00:00:00'), Timestamp('2012-02-06 00:00:00')),\n",
       " (Timestamp('2012-02-06 00:00:00'), Timestamp('2012-02-07 00:00:00')),\n",
       " (Timestamp('2012-02-07 00:00:00'), Timestamp('2012-02-08 00:00:00')),\n",
       " (Timestamp('2012-02-08 00:00:00'), Timestamp('2012-02-09 00:00:00')),\n",
       " (Timestamp('2012-02-09 00:00:00'), Timestamp('2012-02-10 00:00:00')),\n",
       " (Timestamp('2012-02-10 00:00:00'), Timestamp('2012-02-13 00:00:00')),\n",
       " (Timestamp('2012-02-13 00:00:00'), Timestamp('2012-02-14 00:00:00')),\n",
       " (Timestamp('2012-02-14 00:00:00'), Timestamp('2012-02-15 00:00:00')),\n",
       " (Timestamp('2012-02-15 00:00:00'), Timestamp('2012-02-16 00:00:00')),\n",
       " (Timestamp('2012-02-16 00:00:00'), Timestamp('2012-02-17 00:00:00')),\n",
       " (Timestamp('2012-02-17 00:00:00'), Timestamp('2012-02-21 00:00:00')),\n",
       " (Timestamp('2012-02-21 00:00:00'), Timestamp('2012-02-22 00:00:00')),\n",
       " (Timestamp('2012-02-22 00:00:00'), Timestamp('2012-02-23 00:00:00')),\n",
       " (Timestamp('2012-02-23 00:00:00'), Timestamp('2012-02-24 00:00:00')),\n",
       " (Timestamp('2012-02-24 00:00:00'), Timestamp('2012-02-27 00:00:00')),\n",
       " (Timestamp('2012-02-27 00:00:00'), Timestamp('2012-02-28 00:00:00')),\n",
       " (Timestamp('2012-02-28 00:00:00'), Timestamp('2012-02-29 00:00:00')),\n",
       " (Timestamp('2012-02-29 00:00:00'), Timestamp('2012-03-01 00:00:00')),\n",
       " (Timestamp('2012-03-01 00:00:00'), Timestamp('2012-03-02 00:00:00')),\n",
       " (Timestamp('2012-03-02 00:00:00'), Timestamp('2012-03-05 00:00:00')),\n",
       " (Timestamp('2012-03-05 00:00:00'), Timestamp('2012-03-06 00:00:00')),\n",
       " (Timestamp('2012-03-06 00:00:00'), Timestamp('2012-03-07 00:00:00')),\n",
       " (Timestamp('2012-03-07 00:00:00'), Timestamp('2012-03-08 00:00:00')),\n",
       " (Timestamp('2012-03-08 00:00:00'), Timestamp('2012-03-09 00:00:00')),\n",
       " (Timestamp('2012-03-09 00:00:00'), Timestamp('2012-03-12 00:00:00')),\n",
       " (Timestamp('2012-03-12 00:00:00'), Timestamp('2012-03-13 00:00:00')),\n",
       " (Timestamp('2012-03-13 00:00:00'), Timestamp('2012-03-14 00:00:00')),\n",
       " (Timestamp('2012-03-14 00:00:00'), Timestamp('2012-03-15 00:00:00')),\n",
       " (Timestamp('2012-03-15 00:00:00'), Timestamp('2012-03-16 00:00:00')),\n",
       " (Timestamp('2012-03-16 00:00:00'), Timestamp('2012-03-19 00:00:00')),\n",
       " (Timestamp('2012-03-19 00:00:00'), Timestamp('2012-03-20 00:00:00')),\n",
       " (Timestamp('2012-03-20 00:00:00'), Timestamp('2012-03-21 00:00:00')),\n",
       " (Timestamp('2012-03-21 00:00:00'), Timestamp('2012-03-22 00:00:00')),\n",
       " (Timestamp('2012-03-22 00:00:00'), Timestamp('2012-03-23 00:00:00')),\n",
       " (Timestamp('2012-03-23 00:00:00'), Timestamp('2012-03-26 00:00:00')),\n",
       " (Timestamp('2012-03-26 00:00:00'), Timestamp('2012-03-27 00:00:00')),\n",
       " (Timestamp('2012-03-27 00:00:00'), Timestamp('2012-03-28 00:00:00')),\n",
       " (Timestamp('2012-03-28 00:00:00'), Timestamp('2012-03-29 00:00:00')),\n",
       " (Timestamp('2012-03-29 00:00:00'), Timestamp('2012-03-30 00:00:00')),\n",
       " (Timestamp('2012-03-30 00:00:00'), Timestamp('2012-04-02 00:00:00')),\n",
       " (Timestamp('2012-04-02 00:00:00'), Timestamp('2012-04-03 00:00:00')),\n",
       " (Timestamp('2012-04-03 00:00:00'), Timestamp('2012-04-04 00:00:00')),\n",
       " (Timestamp('2012-04-04 00:00:00'), Timestamp('2012-04-05 00:00:00')),\n",
       " (Timestamp('2012-04-05 00:00:00'), Timestamp('2012-04-09 00:00:00')),\n",
       " (Timestamp('2012-04-09 00:00:00'), Timestamp('2012-04-10 00:00:00')),\n",
       " (Timestamp('2012-04-10 00:00:00'), Timestamp('2012-04-11 00:00:00')),\n",
       " (Timestamp('2012-04-11 00:00:00'), Timestamp('2012-04-12 00:00:00')),\n",
       " (Timestamp('2012-04-12 00:00:00'), Timestamp('2012-04-13 00:00:00')),\n",
       " (Timestamp('2012-04-13 00:00:00'), Timestamp('2012-04-16 00:00:00')),\n",
       " (Timestamp('2012-04-16 00:00:00'), Timestamp('2012-04-17 00:00:00')),\n",
       " (Timestamp('2012-04-17 00:00:00'), Timestamp('2012-04-18 00:00:00')),\n",
       " (Timestamp('2012-04-18 00:00:00'), Timestamp('2012-04-19 00:00:00')),\n",
       " (Timestamp('2012-04-19 00:00:00'), Timestamp('2012-04-20 00:00:00')),\n",
       " (Timestamp('2012-04-20 00:00:00'), Timestamp('2012-04-23 00:00:00')),\n",
       " (Timestamp('2012-04-23 00:00:00'), Timestamp('2012-04-24 00:00:00')),\n",
       " (Timestamp('2012-04-24 00:00:00'), Timestamp('2012-04-25 00:00:00')),\n",
       " (Timestamp('2012-04-25 00:00:00'), Timestamp('2012-04-26 00:00:00')),\n",
       " (Timestamp('2012-04-26 00:00:00'), Timestamp('2012-04-27 00:00:00')),\n",
       " (Timestamp('2012-04-27 00:00:00'), Timestamp('2012-04-30 00:00:00')),\n",
       " (Timestamp('2012-04-30 00:00:00'), Timestamp('2012-05-01 00:00:00')),\n",
       " (Timestamp('2012-05-01 00:00:00'), Timestamp('2012-05-02 00:00:00')),\n",
       " (Timestamp('2012-05-02 00:00:00'), Timestamp('2012-05-03 00:00:00')),\n",
       " (Timestamp('2012-05-03 00:00:00'), Timestamp('2012-05-04 00:00:00')),\n",
       " (Timestamp('2012-05-04 00:00:00'), Timestamp('2012-05-07 00:00:00')),\n",
       " (Timestamp('2012-05-07 00:00:00'), Timestamp('2012-05-08 00:00:00')),\n",
       " (Timestamp('2012-05-08 00:00:00'), Timestamp('2012-05-09 00:00:00')),\n",
       " (Timestamp('2012-05-09 00:00:00'), Timestamp('2012-05-10 00:00:00')),\n",
       " (Timestamp('2012-05-10 00:00:00'), Timestamp('2012-05-11 00:00:00')),\n",
       " (Timestamp('2012-05-11 00:00:00'), Timestamp('2012-05-14 00:00:00')),\n",
       " (Timestamp('2012-05-14 00:00:00'), Timestamp('2012-05-15 00:00:00')),\n",
       " (Timestamp('2012-05-15 00:00:00'), Timestamp('2012-05-16 00:00:00')),\n",
       " (Timestamp('2012-05-16 00:00:00'), Timestamp('2012-05-17 00:00:00')),\n",
       " (Timestamp('2012-05-17 00:00:00'), Timestamp('2012-05-18 00:00:00')),\n",
       " (Timestamp('2012-05-18 00:00:00'), Timestamp('2012-05-21 00:00:00')),\n",
       " (Timestamp('2012-05-21 00:00:00'), Timestamp('2012-05-22 00:00:00')),\n",
       " (Timestamp('2012-05-22 00:00:00'), Timestamp('2012-05-23 00:00:00')),\n",
       " (Timestamp('2012-05-23 00:00:00'), Timestamp('2012-05-24 00:00:00')),\n",
       " (Timestamp('2012-05-24 00:00:00'), Timestamp('2012-05-25 00:00:00')),\n",
       " (Timestamp('2012-05-25 00:00:00'), Timestamp('2012-05-29 00:00:00')),\n",
       " (Timestamp('2012-05-29 00:00:00'), Timestamp('2012-05-30 00:00:00')),\n",
       " (Timestamp('2012-05-30 00:00:00'), Timestamp('2012-05-31 00:00:00')),\n",
       " (Timestamp('2012-05-31 00:00:00'), Timestamp('2012-06-01 00:00:00')),\n",
       " (Timestamp('2012-06-01 00:00:00'), Timestamp('2012-06-04 00:00:00')),\n",
       " (Timestamp('2012-06-04 00:00:00'), Timestamp('2012-06-05 00:00:00')),\n",
       " (Timestamp('2012-06-05 00:00:00'), Timestamp('2012-06-06 00:00:00')),\n",
       " (Timestamp('2012-06-06 00:00:00'), Timestamp('2012-06-07 00:00:00')),\n",
       " (Timestamp('2012-06-07 00:00:00'), Timestamp('2012-06-08 00:00:00')),\n",
       " (Timestamp('2012-06-08 00:00:00'), Timestamp('2012-06-11 00:00:00')),\n",
       " (Timestamp('2012-06-11 00:00:00'), Timestamp('2012-06-12 00:00:00')),\n",
       " (Timestamp('2012-06-12 00:00:00'), Timestamp('2012-06-13 00:00:00')),\n",
       " (Timestamp('2012-06-13 00:00:00'), Timestamp('2012-06-14 00:00:00')),\n",
       " (Timestamp('2012-06-14 00:00:00'), Timestamp('2012-06-15 00:00:00')),\n",
       " (Timestamp('2012-06-15 00:00:00'), Timestamp('2012-06-18 00:00:00')),\n",
       " (Timestamp('2012-06-18 00:00:00'), Timestamp('2012-06-19 00:00:00')),\n",
       " (Timestamp('2012-06-19 00:00:00'), Timestamp('2012-06-20 00:00:00')),\n",
       " (Timestamp('2012-06-20 00:00:00'), Timestamp('2012-06-21 00:00:00')),\n",
       " (Timestamp('2012-06-21 00:00:00'), Timestamp('2012-06-22 00:00:00')),\n",
       " (Timestamp('2012-06-22 00:00:00'), Timestamp('2012-06-25 00:00:00')),\n",
       " (Timestamp('2012-06-25 00:00:00'), Timestamp('2012-06-26 00:00:00')),\n",
       " (Timestamp('2012-06-26 00:00:00'), Timestamp('2012-06-27 00:00:00')),\n",
       " (Timestamp('2012-06-27 00:00:00'), Timestamp('2012-06-28 00:00:00')),\n",
       " (Timestamp('2012-06-28 00:00:00'), Timestamp('2012-06-29 00:00:00')),\n",
       " (Timestamp('2012-06-29 00:00:00'), Timestamp('2012-07-02 00:00:00')),\n",
       " (Timestamp('2012-07-02 00:00:00'), Timestamp('2012-07-03 00:00:00')),\n",
       " (Timestamp('2012-07-03 00:00:00'), Timestamp('2012-07-05 00:00:00')),\n",
       " (Timestamp('2012-07-05 00:00:00'), Timestamp('2012-07-06 00:00:00')),\n",
       " (Timestamp('2012-07-06 00:00:00'), Timestamp('2012-07-09 00:00:00')),\n",
       " (Timestamp('2012-07-09 00:00:00'), Timestamp('2012-07-10 00:00:00')),\n",
       " (Timestamp('2012-07-10 00:00:00'), Timestamp('2012-07-11 00:00:00')),\n",
       " (Timestamp('2012-07-11 00:00:00'), Timestamp('2012-07-12 00:00:00')),\n",
       " (Timestamp('2012-07-12 00:00:00'), Timestamp('2012-07-13 00:00:00')),\n",
       " (Timestamp('2012-07-13 00:00:00'), Timestamp('2012-07-16 00:00:00')),\n",
       " (Timestamp('2012-07-16 00:00:00'), Timestamp('2012-07-17 00:00:00')),\n",
       " (Timestamp('2012-07-17 00:00:00'), Timestamp('2012-07-18 00:00:00')),\n",
       " (Timestamp('2012-07-18 00:00:00'), Timestamp('2012-07-19 00:00:00')),\n",
       " (Timestamp('2012-07-19 00:00:00'), Timestamp('2012-07-20 00:00:00')),\n",
       " (Timestamp('2012-07-20 00:00:00'), Timestamp('2012-07-23 00:00:00')),\n",
       " (Timestamp('2012-07-23 00:00:00'), Timestamp('2012-07-24 00:00:00')),\n",
       " (Timestamp('2012-07-24 00:00:00'), Timestamp('2012-07-25 00:00:00')),\n",
       " (Timestamp('2012-07-25 00:00:00'), Timestamp('2012-07-26 00:00:00')),\n",
       " (Timestamp('2012-07-26 00:00:00'), Timestamp('2012-07-27 00:00:00')),\n",
       " (Timestamp('2012-07-27 00:00:00'), Timestamp('2012-07-30 00:00:00')),\n",
       " (Timestamp('2012-07-30 00:00:00'), Timestamp('2012-07-31 00:00:00')),\n",
       " (Timestamp('2012-07-31 00:00:00'), Timestamp('2012-08-01 00:00:00')),\n",
       " (Timestamp('2012-08-01 00:00:00'), Timestamp('2012-08-02 00:00:00')),\n",
       " (Timestamp('2012-08-02 00:00:00'), Timestamp('2012-08-03 00:00:00')),\n",
       " (Timestamp('2012-08-03 00:00:00'), Timestamp('2012-08-06 00:00:00')),\n",
       " (Timestamp('2012-08-06 00:00:00'), Timestamp('2012-08-07 00:00:00')),\n",
       " (Timestamp('2012-08-07 00:00:00'), Timestamp('2012-08-08 00:00:00')),\n",
       " (Timestamp('2012-08-08 00:00:00'), Timestamp('2012-08-09 00:00:00')),\n",
       " (Timestamp('2012-08-09 00:00:00'), Timestamp('2012-08-10 00:00:00')),\n",
       " (Timestamp('2012-08-10 00:00:00'), Timestamp('2012-08-13 00:00:00')),\n",
       " (Timestamp('2012-08-13 00:00:00'), Timestamp('2012-08-14 00:00:00')),\n",
       " (Timestamp('2012-08-14 00:00:00'), Timestamp('2012-08-15 00:00:00')),\n",
       " (Timestamp('2012-08-15 00:00:00'), Timestamp('2012-08-16 00:00:00')),\n",
       " (Timestamp('2012-08-16 00:00:00'), Timestamp('2012-08-17 00:00:00')),\n",
       " (Timestamp('2012-08-17 00:00:00'), Timestamp('2012-08-20 00:00:00')),\n",
       " (Timestamp('2012-08-20 00:00:00'), Timestamp('2012-08-21 00:00:00')),\n",
       " (Timestamp('2012-08-21 00:00:00'), Timestamp('2012-08-22 00:00:00')),\n",
       " (Timestamp('2012-08-22 00:00:00'), Timestamp('2012-08-23 00:00:00')),\n",
       " (Timestamp('2012-08-23 00:00:00'), Timestamp('2012-08-24 00:00:00')),\n",
       " (Timestamp('2012-08-24 00:00:00'), Timestamp('2012-08-27 00:00:00')),\n",
       " (Timestamp('2012-08-27 00:00:00'), Timestamp('2012-08-28 00:00:00')),\n",
       " (Timestamp('2012-08-28 00:00:00'), Timestamp('2012-08-29 00:00:00')),\n",
       " (Timestamp('2012-08-29 00:00:00'), Timestamp('2012-08-30 00:00:00')),\n",
       " (Timestamp('2012-08-30 00:00:00'), Timestamp('2012-08-31 00:00:00')),\n",
       " (Timestamp('2012-08-31 00:00:00'), Timestamp('2012-09-04 00:00:00')),\n",
       " (Timestamp('2012-09-04 00:00:00'), Timestamp('2012-09-05 00:00:00')),\n",
       " (Timestamp('2012-09-05 00:00:00'), Timestamp('2012-09-06 00:00:00')),\n",
       " (Timestamp('2012-09-06 00:00:00'), Timestamp('2012-09-07 00:00:00')),\n",
       " (Timestamp('2012-09-07 00:00:00'), Timestamp('2012-09-10 00:00:00')),\n",
       " (Timestamp('2012-09-10 00:00:00'), Timestamp('2012-09-11 00:00:00')),\n",
       " (Timestamp('2012-09-11 00:00:00'), Timestamp('2012-09-12 00:00:00')),\n",
       " (Timestamp('2012-09-12 00:00:00'), Timestamp('2012-09-13 00:00:00')),\n",
       " (Timestamp('2012-09-13 00:00:00'), Timestamp('2012-09-14 00:00:00')),\n",
       " (Timestamp('2012-09-14 00:00:00'), Timestamp('2012-09-17 00:00:00')),\n",
       " (Timestamp('2012-09-17 00:00:00'), Timestamp('2012-09-18 00:00:00')),\n",
       " (Timestamp('2012-09-18 00:00:00'), Timestamp('2012-09-19 00:00:00')),\n",
       " (Timestamp('2012-09-19 00:00:00'), Timestamp('2012-09-20 00:00:00')),\n",
       " (Timestamp('2012-09-20 00:00:00'), Timestamp('2012-09-21 00:00:00')),\n",
       " (Timestamp('2012-09-21 00:00:00'), Timestamp('2012-09-24 00:00:00')),\n",
       " (Timestamp('2012-09-24 00:00:00'), Timestamp('2012-09-25 00:00:00')),\n",
       " (Timestamp('2012-09-25 00:00:00'), Timestamp('2012-09-26 00:00:00')),\n",
       " (Timestamp('2012-09-26 00:00:00'), Timestamp('2012-09-27 00:00:00')),\n",
       " (Timestamp('2012-09-27 00:00:00'), Timestamp('2012-09-28 00:00:00')),\n",
       " (Timestamp('2012-09-28 00:00:00'), Timestamp('2012-10-01 00:00:00')),\n",
       " (Timestamp('2012-10-01 00:00:00'), Timestamp('2012-10-02 00:00:00')),\n",
       " (Timestamp('2012-10-02 00:00:00'), Timestamp('2012-10-03 00:00:00')),\n",
       " (Timestamp('2012-10-03 00:00:00'), Timestamp('2012-10-04 00:00:00')),\n",
       " (Timestamp('2012-10-04 00:00:00'), Timestamp('2012-10-05 00:00:00')),\n",
       " (Timestamp('2012-10-05 00:00:00'), Timestamp('2012-10-08 00:00:00')),\n",
       " (Timestamp('2012-10-08 00:00:00'), Timestamp('2012-10-09 00:00:00')),\n",
       " (Timestamp('2012-10-09 00:00:00'), Timestamp('2012-10-10 00:00:00')),\n",
       " (Timestamp('2012-10-10 00:00:00'), Timestamp('2012-10-11 00:00:00')),\n",
       " (Timestamp('2012-10-11 00:00:00'), Timestamp('2012-10-12 00:00:00')),\n",
       " (Timestamp('2012-10-12 00:00:00'), Timestamp('2012-10-15 00:00:00')),\n",
       " (Timestamp('2012-10-15 00:00:00'), Timestamp('2012-10-16 00:00:00')),\n",
       " (Timestamp('2012-10-16 00:00:00'), Timestamp('2012-10-17 00:00:00')),\n",
       " (Timestamp('2012-10-17 00:00:00'), Timestamp('2012-10-18 00:00:00')),\n",
       " (Timestamp('2012-10-18 00:00:00'), Timestamp('2012-10-19 00:00:00')),\n",
       " (Timestamp('2012-10-19 00:00:00'), Timestamp('2012-10-22 00:00:00')),\n",
       " (Timestamp('2012-10-22 00:00:00'), Timestamp('2012-10-23 00:00:00')),\n",
       " (Timestamp('2012-10-23 00:00:00'), Timestamp('2012-10-24 00:00:00')),\n",
       " (Timestamp('2012-10-24 00:00:00'), Timestamp('2012-10-25 00:00:00')),\n",
       " (Timestamp('2012-10-25 00:00:00'), Timestamp('2012-10-26 00:00:00')),\n",
       " (Timestamp('2012-10-26 00:00:00'), Timestamp('2012-10-31 00:00:00')),\n",
       " (Timestamp('2012-10-31 00:00:00'), Timestamp('2012-11-01 00:00:00')),\n",
       " (Timestamp('2012-11-01 00:00:00'), Timestamp('2012-11-02 00:00:00')),\n",
       " (Timestamp('2012-11-02 00:00:00'), Timestamp('2012-11-05 00:00:00')),\n",
       " (Timestamp('2012-11-05 00:00:00'), Timestamp('2012-11-06 00:00:00')),\n",
       " (Timestamp('2012-11-06 00:00:00'), Timestamp('2012-11-07 00:00:00')),\n",
       " (Timestamp('2012-11-07 00:00:00'), Timestamp('2012-11-08 00:00:00')),\n",
       " (Timestamp('2012-11-08 00:00:00'), Timestamp('2012-11-09 00:00:00')),\n",
       " (Timestamp('2012-11-09 00:00:00'), Timestamp('2012-11-12 00:00:00')),\n",
       " (Timestamp('2012-11-12 00:00:00'), Timestamp('2012-11-13 00:00:00')),\n",
       " (Timestamp('2012-11-13 00:00:00'), Timestamp('2012-11-14 00:00:00')),\n",
       " (Timestamp('2012-11-14 00:00:00'), Timestamp('2012-11-15 00:00:00')),\n",
       " (Timestamp('2012-11-15 00:00:00'), Timestamp('2012-11-16 00:00:00')),\n",
       " (Timestamp('2012-11-16 00:00:00'), Timestamp('2012-11-19 00:00:00')),\n",
       " (Timestamp('2012-11-19 00:00:00'), Timestamp('2012-11-20 00:00:00')),\n",
       " (Timestamp('2012-11-20 00:00:00'), Timestamp('2012-11-21 00:00:00')),\n",
       " (Timestamp('2012-11-21 00:00:00'), Timestamp('2012-11-23 00:00:00')),\n",
       " (Timestamp('2012-11-23 00:00:00'), Timestamp('2012-11-26 00:00:00')),\n",
       " (Timestamp('2012-11-26 00:00:00'), Timestamp('2012-11-27 00:00:00')),\n",
       " (Timestamp('2012-11-27 00:00:00'), Timestamp('2012-11-28 00:00:00')),\n",
       " (Timestamp('2012-11-28 00:00:00'), Timestamp('2012-11-29 00:00:00')),\n",
       " (Timestamp('2012-11-29 00:00:00'), Timestamp('2012-11-30 00:00:00')),\n",
       " (Timestamp('2012-11-30 00:00:00'), Timestamp('2012-12-03 00:00:00')),\n",
       " (Timestamp('2012-12-03 00:00:00'), Timestamp('2012-12-04 00:00:00')),\n",
       " (Timestamp('2012-12-04 00:00:00'), Timestamp('2012-12-05 00:00:00')),\n",
       " (Timestamp('2012-12-05 00:00:00'), Timestamp('2012-12-06 00:00:00')),\n",
       " (Timestamp('2012-12-06 00:00:00'), Timestamp('2012-12-07 00:00:00')),\n",
       " (Timestamp('2012-12-07 00:00:00'), Timestamp('2012-12-10 00:00:00')),\n",
       " (Timestamp('2012-12-10 00:00:00'), Timestamp('2012-12-11 00:00:00')),\n",
       " (Timestamp('2012-12-11 00:00:00'), Timestamp('2012-12-12 00:00:00')),\n",
       " (Timestamp('2012-12-12 00:00:00'), Timestamp('2012-12-13 00:00:00')),\n",
       " (Timestamp('2012-12-13 00:00:00'), Timestamp('2012-12-14 00:00:00')),\n",
       " (Timestamp('2012-12-14 00:00:00'), Timestamp('2012-12-17 00:00:00')),\n",
       " (Timestamp('2012-12-17 00:00:00'), Timestamp('2012-12-18 00:00:00')),\n",
       " (Timestamp('2012-12-18 00:00:00'), Timestamp('2012-12-19 00:00:00')),\n",
       " (Timestamp('2012-12-19 00:00:00'), Timestamp('2012-12-20 00:00:00')),\n",
       " (Timestamp('2012-12-20 00:00:00'), Timestamp('2012-12-21 00:00:00')),\n",
       " (Timestamp('2012-12-21 00:00:00'), Timestamp('2012-12-24 00:00:00')),\n",
       " (Timestamp('2012-12-24 00:00:00'), Timestamp('2012-12-26 00:00:00')),\n",
       " (Timestamp('2012-12-26 00:00:00'), Timestamp('2012-12-27 00:00:00')),\n",
       " (Timestamp('2012-12-27 00:00:00'), Timestamp('2012-12-28 00:00:00')),\n",
       " (Timestamp('2012-12-28 00:00:00'), Timestamp('2012-12-31 00:00:00')),\n",
       " (Timestamp('2012-12-31 00:00:00'), Timestamp('2013-01-02 00:00:00')),\n",
       " (Timestamp('2013-01-02 00:00:00'), Timestamp('2013-01-03 00:00:00')),\n",
       " (Timestamp('2013-01-03 00:00:00'), Timestamp('2013-01-04 00:00:00')),\n",
       " (Timestamp('2013-01-04 00:00:00'), Timestamp('2013-01-07 00:00:00')),\n",
       " (Timestamp('2013-01-07 00:00:00'), Timestamp('2013-01-08 00:00:00')),\n",
       " (Timestamp('2013-01-08 00:00:00'), Timestamp('2013-01-09 00:00:00')),\n",
       " (Timestamp('2013-01-09 00:00:00'), Timestamp('2013-01-10 00:00:00')),\n",
       " (Timestamp('2013-01-10 00:00:00'), Timestamp('2013-01-11 00:00:00')),\n",
       " (Timestamp('2013-01-11 00:00:00'), Timestamp('2013-01-14 00:00:00')),\n",
       " (Timestamp('2013-01-14 00:00:00'), Timestamp('2013-01-15 00:00:00')),\n",
       " (Timestamp('2013-01-15 00:00:00'), Timestamp('2013-01-16 00:00:00')),\n",
       " (Timestamp('2013-01-16 00:00:00'), Timestamp('2013-01-17 00:00:00')),\n",
       " (Timestamp('2013-01-17 00:00:00'), Timestamp('2013-01-18 00:00:00')),\n",
       " (Timestamp('2013-01-18 00:00:00'), Timestamp('2013-01-22 00:00:00')),\n",
       " (Timestamp('2013-01-22 00:00:00'), Timestamp('2013-01-23 00:00:00')),\n",
       " (Timestamp('2013-01-23 00:00:00'), Timestamp('2013-01-24 00:00:00')),\n",
       " (Timestamp('2013-01-24 00:00:00'), Timestamp('2013-01-25 00:00:00')),\n",
       " (Timestamp('2013-01-25 00:00:00'), Timestamp('2013-01-28 00:00:00')),\n",
       " (Timestamp('2013-01-28 00:00:00'), Timestamp('2013-01-29 00:00:00')),\n",
       " (Timestamp('2013-01-29 00:00:00'), Timestamp('2013-01-30 00:00:00')),\n",
       " (Timestamp('2013-01-30 00:00:00'), Timestamp('2013-01-31 00:00:00')),\n",
       " (Timestamp('2013-01-31 00:00:00'), Timestamp('2013-02-01 00:00:00')),\n",
       " (Timestamp('2013-02-01 00:00:00'), Timestamp('2013-02-04 00:00:00')),\n",
       " (Timestamp('2013-02-04 00:00:00'), Timestamp('2013-02-05 00:00:00')),\n",
       " (Timestamp('2013-02-05 00:00:00'), Timestamp('2013-02-06 00:00:00')),\n",
       " (Timestamp('2013-02-06 00:00:00'), Timestamp('2013-02-07 00:00:00')),\n",
       " (Timestamp('2013-02-07 00:00:00'), Timestamp('2013-02-08 00:00:00')),\n",
       " (Timestamp('2013-02-08 00:00:00'), Timestamp('2013-02-11 00:00:00')),\n",
       " (Timestamp('2013-02-11 00:00:00'), Timestamp('2013-02-12 00:00:00')),\n",
       " (Timestamp('2013-02-12 00:00:00'), Timestamp('2013-02-13 00:00:00')),\n",
       " (Timestamp('2013-02-13 00:00:00'), Timestamp('2013-02-14 00:00:00')),\n",
       " (Timestamp('2013-02-14 00:00:00'), Timestamp('2013-02-15 00:00:00')),\n",
       " (Timestamp('2013-02-15 00:00:00'), Timestamp('2013-02-19 00:00:00')),\n",
       " (Timestamp('2013-02-19 00:00:00'), Timestamp('2013-02-20 00:00:00')),\n",
       " (Timestamp('2013-02-20 00:00:00'), Timestamp('2013-02-21 00:00:00')),\n",
       " (Timestamp('2013-02-21 00:00:00'), Timestamp('2013-02-22 00:00:00')),\n",
       " (Timestamp('2013-02-22 00:00:00'), Timestamp('2013-02-25 00:00:00')),\n",
       " (Timestamp('2013-02-25 00:00:00'), Timestamp('2013-02-26 00:00:00')),\n",
       " (Timestamp('2013-02-26 00:00:00'), Timestamp('2013-02-27 00:00:00')),\n",
       " (Timestamp('2013-02-27 00:00:00'), Timestamp('2013-02-28 00:00:00')),\n",
       " (Timestamp('2013-02-28 00:00:00'), Timestamp('2013-03-01 00:00:00')),\n",
       " (Timestamp('2013-03-01 00:00:00'), Timestamp('2013-03-04 00:00:00')),\n",
       " (Timestamp('2013-03-04 00:00:00'), Timestamp('2013-03-05 00:00:00')),\n",
       " (Timestamp('2013-03-05 00:00:00'), Timestamp('2013-03-06 00:00:00')),\n",
       " (Timestamp('2013-03-06 00:00:00'), Timestamp('2013-03-07 00:00:00')),\n",
       " (Timestamp('2013-03-07 00:00:00'), Timestamp('2013-03-08 00:00:00')),\n",
       " (Timestamp('2013-03-08 00:00:00'), Timestamp('2013-03-11 00:00:00')),\n",
       " (Timestamp('2013-03-11 00:00:00'), Timestamp('2013-03-12 00:00:00')),\n",
       " (Timestamp('2013-03-12 00:00:00'), Timestamp('2013-03-13 00:00:00')),\n",
       " (Timestamp('2013-03-13 00:00:00'), Timestamp('2013-03-14 00:00:00')),\n",
       " (Timestamp('2013-03-14 00:00:00'), Timestamp('2013-03-15 00:00:00')),\n",
       " (Timestamp('2013-03-15 00:00:00'), Timestamp('2013-03-18 00:00:00')),\n",
       " (Timestamp('2013-03-18 00:00:00'), Timestamp('2013-03-19 00:00:00')),\n",
       " (Timestamp('2013-03-19 00:00:00'), Timestamp('2013-03-20 00:00:00')),\n",
       " (Timestamp('2013-03-20 00:00:00'), Timestamp('2013-03-21 00:00:00')),\n",
       " (Timestamp('2013-03-21 00:00:00'), Timestamp('2013-03-22 00:00:00')),\n",
       " (Timestamp('2013-03-22 00:00:00'), Timestamp('2013-03-25 00:00:00')),\n",
       " (Timestamp('2013-03-25 00:00:00'), Timestamp('2013-03-26 00:00:00')),\n",
       " (Timestamp('2013-03-26 00:00:00'), Timestamp('2013-03-27 00:00:00')),\n",
       " (Timestamp('2013-03-27 00:00:00'), Timestamp('2013-03-28 00:00:00')),\n",
       " (Timestamp('2013-03-28 00:00:00'), Timestamp('2013-04-01 00:00:00')),\n",
       " (Timestamp('2013-04-01 00:00:00'), Timestamp('2013-04-02 00:00:00')),\n",
       " (Timestamp('2013-04-02 00:00:00'), Timestamp('2013-04-03 00:00:00')),\n",
       " (Timestamp('2013-04-03 00:00:00'), Timestamp('2013-04-04 00:00:00')),\n",
       " (Timestamp('2013-04-04 00:00:00'), Timestamp('2013-04-05 00:00:00')),\n",
       " (Timestamp('2013-04-05 00:00:00'), Timestamp('2013-04-08 00:00:00')),\n",
       " (Timestamp('2013-04-08 00:00:00'), Timestamp('2013-04-09 00:00:00')),\n",
       " (Timestamp('2013-04-09 00:00:00'), Timestamp('2013-04-10 00:00:00')),\n",
       " (Timestamp('2013-04-10 00:00:00'), Timestamp('2013-04-11 00:00:00')),\n",
       " (Timestamp('2013-04-11 00:00:00'), Timestamp('2013-04-12 00:00:00')),\n",
       " (Timestamp('2013-04-12 00:00:00'), Timestamp('2013-04-15 00:00:00')),\n",
       " (Timestamp('2013-04-15 00:00:00'), Timestamp('2013-04-16 00:00:00')),\n",
       " (Timestamp('2013-04-16 00:00:00'), Timestamp('2013-04-17 00:00:00')),\n",
       " (Timestamp('2013-04-17 00:00:00'), Timestamp('2013-04-18 00:00:00')),\n",
       " (Timestamp('2013-04-18 00:00:00'), Timestamp('2013-04-19 00:00:00')),\n",
       " (Timestamp('2013-04-19 00:00:00'), Timestamp('2013-04-22 00:00:00')),\n",
       " (Timestamp('2013-04-22 00:00:00'), Timestamp('2013-04-23 00:00:00')),\n",
       " (Timestamp('2013-04-23 00:00:00'), Timestamp('2013-04-24 00:00:00')),\n",
       " (Timestamp('2013-04-24 00:00:00'), Timestamp('2013-04-25 00:00:00')),\n",
       " (Timestamp('2013-04-25 00:00:00'), Timestamp('2013-04-26 00:00:00')),\n",
       " (Timestamp('2013-04-26 00:00:00'), Timestamp('2013-04-29 00:00:00')),\n",
       " (Timestamp('2013-04-29 00:00:00'), Timestamp('2013-04-30 00:00:00')),\n",
       " (Timestamp('2013-04-30 00:00:00'), Timestamp('2013-05-01 00:00:00')),\n",
       " (Timestamp('2013-05-01 00:00:00'), Timestamp('2013-05-02 00:00:00')),\n",
       " (Timestamp('2013-05-02 00:00:00'), Timestamp('2013-05-03 00:00:00')),\n",
       " (Timestamp('2013-05-03 00:00:00'), Timestamp('2013-05-06 00:00:00')),\n",
       " (Timestamp('2013-05-06 00:00:00'), Timestamp('2013-05-07 00:00:00')),\n",
       " (Timestamp('2013-05-07 00:00:00'), Timestamp('2013-05-08 00:00:00')),\n",
       " (Timestamp('2013-05-08 00:00:00'), Timestamp('2013-05-09 00:00:00')),\n",
       " (Timestamp('2013-05-09 00:00:00'), Timestamp('2013-05-10 00:00:00')),\n",
       " (Timestamp('2013-05-10 00:00:00'), Timestamp('2013-05-13 00:00:00')),\n",
       " (Timestamp('2013-05-13 00:00:00'), Timestamp('2013-05-14 00:00:00')),\n",
       " (Timestamp('2013-05-14 00:00:00'), Timestamp('2013-05-15 00:00:00')),\n",
       " (Timestamp('2013-05-15 00:00:00'), Timestamp('2013-05-16 00:00:00')),\n",
       " (Timestamp('2013-05-16 00:00:00'), Timestamp('2013-05-17 00:00:00')),\n",
       " (Timestamp('2013-05-17 00:00:00'), Timestamp('2013-05-20 00:00:00')),\n",
       " (Timestamp('2013-05-20 00:00:00'), Timestamp('2013-05-21 00:00:00')),\n",
       " (Timestamp('2013-05-21 00:00:00'), Timestamp('2013-05-22 00:00:00')),\n",
       " (Timestamp('2013-05-22 00:00:00'), Timestamp('2013-05-23 00:00:00')),\n",
       " (Timestamp('2013-05-23 00:00:00'), Timestamp('2013-05-24 00:00:00')),\n",
       " (Timestamp('2013-05-24 00:00:00'), Timestamp('2013-05-28 00:00:00')),\n",
       " (Timestamp('2013-05-28 00:00:00'), Timestamp('2013-05-29 00:00:00')),\n",
       " (Timestamp('2013-05-29 00:00:00'), Timestamp('2013-05-30 00:00:00')),\n",
       " (Timestamp('2013-05-30 00:00:00'), Timestamp('2013-05-31 00:00:00')),\n",
       " (Timestamp('2013-05-31 00:00:00'), Timestamp('2013-06-03 00:00:00')),\n",
       " (Timestamp('2013-06-03 00:00:00'), Timestamp('2013-06-04 00:00:00')),\n",
       " (Timestamp('2013-06-04 00:00:00'), Timestamp('2013-06-05 00:00:00')),\n",
       " (Timestamp('2013-06-05 00:00:00'), Timestamp('2013-06-06 00:00:00')),\n",
       " (Timestamp('2013-06-06 00:00:00'), Timestamp('2013-06-07 00:00:00')),\n",
       " (Timestamp('2013-06-07 00:00:00'), Timestamp('2013-06-10 00:00:00')),\n",
       " (Timestamp('2013-06-10 00:00:00'), Timestamp('2013-06-11 00:00:00')),\n",
       " (Timestamp('2013-06-11 00:00:00'), Timestamp('2013-06-12 00:00:00')),\n",
       " (Timestamp('2013-06-12 00:00:00'), Timestamp('2013-06-13 00:00:00')),\n",
       " (Timestamp('2013-06-13 00:00:00'), Timestamp('2013-06-14 00:00:00')),\n",
       " (Timestamp('2013-06-14 00:00:00'), Timestamp('2013-06-17 00:00:00')),\n",
       " (Timestamp('2013-06-17 00:00:00'), Timestamp('2013-06-18 00:00:00')),\n",
       " (Timestamp('2013-06-18 00:00:00'), Timestamp('2013-06-19 00:00:00')),\n",
       " (Timestamp('2013-06-19 00:00:00'), Timestamp('2013-06-20 00:00:00')),\n",
       " (Timestamp('2013-06-20 00:00:00'), Timestamp('2013-06-21 00:00:00')),\n",
       " (Timestamp('2013-06-21 00:00:00'), Timestamp('2013-06-24 00:00:00')),\n",
       " (Timestamp('2013-06-24 00:00:00'), Timestamp('2013-06-25 00:00:00')),\n",
       " (Timestamp('2013-06-25 00:00:00'), Timestamp('2013-06-26 00:00:00')),\n",
       " (Timestamp('2013-06-26 00:00:00'), Timestamp('2013-06-27 00:00:00')),\n",
       " (Timestamp('2013-06-27 00:00:00'), Timestamp('2013-06-28 00:00:00')),\n",
       " (Timestamp('2013-06-28 00:00:00'), Timestamp('2013-07-01 00:00:00')),\n",
       " (Timestamp('2013-07-01 00:00:00'), Timestamp('2013-07-02 00:00:00')),\n",
       " (Timestamp('2013-07-02 00:00:00'), Timestamp('2013-07-03 00:00:00')),\n",
       " (Timestamp('2013-07-03 00:00:00'), Timestamp('2013-07-05 00:00:00')),\n",
       " (Timestamp('2013-07-05 00:00:00'), Timestamp('2013-07-08 00:00:00')),\n",
       " (Timestamp('2013-07-08 00:00:00'), Timestamp('2013-07-09 00:00:00')),\n",
       " (Timestamp('2013-07-09 00:00:00'), Timestamp('2013-07-10 00:00:00')),\n",
       " (Timestamp('2013-07-10 00:00:00'), Timestamp('2013-07-11 00:00:00')),\n",
       " (Timestamp('2013-07-11 00:00:00'), Timestamp('2013-07-12 00:00:00')),\n",
       " (Timestamp('2013-07-12 00:00:00'), Timestamp('2013-07-15 00:00:00')),\n",
       " (Timestamp('2013-07-15 00:00:00'), Timestamp('2013-07-16 00:00:00')),\n",
       " (Timestamp('2013-07-16 00:00:00'), Timestamp('2013-07-17 00:00:00')),\n",
       " (Timestamp('2013-07-17 00:00:00'), Timestamp('2013-07-18 00:00:00')),\n",
       " (Timestamp('2013-07-18 00:00:00'), Timestamp('2013-07-19 00:00:00')),\n",
       " (Timestamp('2013-07-19 00:00:00'), Timestamp('2013-07-22 00:00:00')),\n",
       " (Timestamp('2013-07-22 00:00:00'), Timestamp('2013-07-23 00:00:00')),\n",
       " (Timestamp('2013-07-23 00:00:00'), Timestamp('2013-07-24 00:00:00')),\n",
       " (Timestamp('2013-07-24 00:00:00'), Timestamp('2013-07-25 00:00:00')),\n",
       " (Timestamp('2013-07-25 00:00:00'), Timestamp('2013-07-26 00:00:00')),\n",
       " (Timestamp('2013-07-26 00:00:00'), Timestamp('2013-07-29 00:00:00')),\n",
       " (Timestamp('2013-07-29 00:00:00'), Timestamp('2013-07-30 00:00:00')),\n",
       " (Timestamp('2013-07-30 00:00:00'), Timestamp('2013-07-31 00:00:00')),\n",
       " (Timestamp('2013-07-31 00:00:00'), Timestamp('2013-08-01 00:00:00')),\n",
       " (Timestamp('2013-08-01 00:00:00'), Timestamp('2013-08-02 00:00:00')),\n",
       " (Timestamp('2013-08-02 00:00:00'), Timestamp('2013-08-05 00:00:00')),\n",
       " (Timestamp('2013-08-05 00:00:00'), Timestamp('2013-08-06 00:00:00')),\n",
       " (Timestamp('2013-08-06 00:00:00'), Timestamp('2013-08-07 00:00:00')),\n",
       " (Timestamp('2013-08-07 00:00:00'), Timestamp('2013-08-08 00:00:00')),\n",
       " (Timestamp('2013-08-08 00:00:00'), Timestamp('2013-08-09 00:00:00')),\n",
       " (Timestamp('2013-08-09 00:00:00'), Timestamp('2013-08-12 00:00:00')),\n",
       " (Timestamp('2013-08-12 00:00:00'), Timestamp('2013-08-13 00:00:00')),\n",
       " (Timestamp('2013-08-13 00:00:00'), Timestamp('2013-08-14 00:00:00')),\n",
       " (Timestamp('2013-08-14 00:00:00'), Timestamp('2013-08-15 00:00:00')),\n",
       " (Timestamp('2013-08-15 00:00:00'), Timestamp('2013-08-16 00:00:00')),\n",
       " (Timestamp('2013-08-16 00:00:00'), Timestamp('2013-08-19 00:00:00')),\n",
       " (Timestamp('2013-08-19 00:00:00'), Timestamp('2013-08-20 00:00:00')),\n",
       " (Timestamp('2013-08-20 00:00:00'), Timestamp('2013-08-21 00:00:00')),\n",
       " (Timestamp('2013-08-21 00:00:00'), Timestamp('2013-08-22 00:00:00')),\n",
       " (Timestamp('2013-08-22 00:00:00'), Timestamp('2013-08-23 00:00:00')),\n",
       " (Timestamp('2013-08-23 00:00:00'), Timestamp('2013-08-26 00:00:00')),\n",
       " (Timestamp('2013-08-26 00:00:00'), Timestamp('2013-08-27 00:00:00')),\n",
       " (Timestamp('2013-08-27 00:00:00'), Timestamp('2013-08-28 00:00:00')),\n",
       " (Timestamp('2013-08-28 00:00:00'), Timestamp('2013-08-29 00:00:00')),\n",
       " (Timestamp('2013-08-29 00:00:00'), Timestamp('2013-08-30 00:00:00')),\n",
       " (Timestamp('2013-08-30 00:00:00'), Timestamp('2013-09-03 00:00:00')),\n",
       " (Timestamp('2013-09-03 00:00:00'), Timestamp('2013-09-04 00:00:00')),\n",
       " (Timestamp('2013-09-04 00:00:00'), Timestamp('2013-09-05 00:00:00')),\n",
       " (Timestamp('2013-09-05 00:00:00'), Timestamp('2013-09-06 00:00:00')),\n",
       " (Timestamp('2013-09-06 00:00:00'), Timestamp('2013-09-09 00:00:00')),\n",
       " (Timestamp('2013-09-09 00:00:00'), Timestamp('2013-09-10 00:00:00')),\n",
       " (Timestamp('2013-09-10 00:00:00'), Timestamp('2013-09-11 00:00:00')),\n",
       " (Timestamp('2013-09-11 00:00:00'), Timestamp('2013-09-12 00:00:00')),\n",
       " (Timestamp('2013-09-12 00:00:00'), Timestamp('2013-09-13 00:00:00')),\n",
       " (Timestamp('2013-09-13 00:00:00'), Timestamp('2013-09-16 00:00:00')),\n",
       " (Timestamp('2013-09-16 00:00:00'), Timestamp('2013-09-17 00:00:00')),\n",
       " (Timestamp('2013-09-17 00:00:00'), Timestamp('2013-09-18 00:00:00')),\n",
       " (Timestamp('2013-09-18 00:00:00'), Timestamp('2013-09-19 00:00:00')),\n",
       " (Timestamp('2013-09-19 00:00:00'), Timestamp('2013-09-20 00:00:00')),\n",
       " (Timestamp('2013-09-20 00:00:00'), Timestamp('2013-09-23 00:00:00')),\n",
       " (Timestamp('2013-09-23 00:00:00'), Timestamp('2013-09-24 00:00:00')),\n",
       " (Timestamp('2013-09-24 00:00:00'), Timestamp('2013-09-25 00:00:00')),\n",
       " (Timestamp('2013-09-25 00:00:00'), Timestamp('2013-09-26 00:00:00')),\n",
       " (Timestamp('2013-09-26 00:00:00'), Timestamp('2013-09-27 00:00:00')),\n",
       " (Timestamp('2013-09-27 00:00:00'), Timestamp('2013-09-30 00:00:00')),\n",
       " (Timestamp('2013-09-30 00:00:00'), Timestamp('2013-10-01 00:00:00')),\n",
       " (Timestamp('2013-10-01 00:00:00'), Timestamp('2013-10-02 00:00:00')),\n",
       " (Timestamp('2013-10-02 00:00:00'), Timestamp('2013-10-03 00:00:00')),\n",
       " (Timestamp('2013-10-03 00:00:00'), Timestamp('2013-10-04 00:00:00')),\n",
       " (Timestamp('2013-10-04 00:00:00'), Timestamp('2013-10-07 00:00:00')),\n",
       " (Timestamp('2013-10-07 00:00:00'), Timestamp('2013-10-08 00:00:00')),\n",
       " (Timestamp('2013-10-08 00:00:00'), Timestamp('2013-10-09 00:00:00')),\n",
       " (Timestamp('2013-10-09 00:00:00'), Timestamp('2013-10-10 00:00:00')),\n",
       " (Timestamp('2013-10-10 00:00:00'), Timestamp('2013-10-11 00:00:00')),\n",
       " (Timestamp('2013-10-11 00:00:00'), Timestamp('2013-10-14 00:00:00')),\n",
       " (Timestamp('2013-10-14 00:00:00'), Timestamp('2013-10-15 00:00:00')),\n",
       " (Timestamp('2013-10-15 00:00:00'), Timestamp('2013-10-16 00:00:00')),\n",
       " (Timestamp('2013-10-16 00:00:00'), Timestamp('2013-10-17 00:00:00')),\n",
       " (Timestamp('2013-10-17 00:00:00'), Timestamp('2013-10-18 00:00:00')),\n",
       " (Timestamp('2013-10-18 00:00:00'), Timestamp('2013-10-21 00:00:00')),\n",
       " (Timestamp('2013-10-21 00:00:00'), Timestamp('2013-10-22 00:00:00')),\n",
       " (Timestamp('2013-10-22 00:00:00'), Timestamp('2013-10-23 00:00:00')),\n",
       " (Timestamp('2013-10-23 00:00:00'), Timestamp('2013-10-24 00:00:00')),\n",
       " (Timestamp('2013-10-24 00:00:00'), Timestamp('2013-10-25 00:00:00')),\n",
       " (Timestamp('2013-10-25 00:00:00'), Timestamp('2013-10-28 00:00:00')),\n",
       " (Timestamp('2013-10-28 00:00:00'), Timestamp('2013-10-29 00:00:00')),\n",
       " (Timestamp('2013-10-29 00:00:00'), Timestamp('2013-10-30 00:00:00')),\n",
       " (Timestamp('2013-10-30 00:00:00'), Timestamp('2013-10-31 00:00:00')),\n",
       " (Timestamp('2013-10-31 00:00:00'), Timestamp('2013-11-01 00:00:00')),\n",
       " (Timestamp('2013-11-01 00:00:00'), Timestamp('2013-11-04 00:00:00')),\n",
       " (Timestamp('2013-11-04 00:00:00'), Timestamp('2013-11-05 00:00:00')),\n",
       " (Timestamp('2013-11-05 00:00:00'), Timestamp('2013-11-06 00:00:00')),\n",
       " (Timestamp('2013-11-06 00:00:00'), Timestamp('2013-11-07 00:00:00')),\n",
       " (Timestamp('2013-11-07 00:00:00'), Timestamp('2013-11-08 00:00:00')),\n",
       " (Timestamp('2013-11-08 00:00:00'), Timestamp('2013-11-11 00:00:00')),\n",
       " (Timestamp('2013-11-11 00:00:00'), Timestamp('2013-11-12 00:00:00')),\n",
       " (Timestamp('2013-11-12 00:00:00'), Timestamp('2013-11-13 00:00:00')),\n",
       " (Timestamp('2013-11-13 00:00:00'), Timestamp('2013-11-14 00:00:00')),\n",
       " (Timestamp('2013-11-14 00:00:00'), Timestamp('2013-11-15 00:00:00')),\n",
       " (Timestamp('2013-11-15 00:00:00'), Timestamp('2013-11-18 00:00:00')),\n",
       " (Timestamp('2013-11-18 00:00:00'), Timestamp('2013-11-19 00:00:00')),\n",
       " (Timestamp('2013-11-19 00:00:00'), Timestamp('2013-11-20 00:00:00')),\n",
       " (Timestamp('2013-11-20 00:00:00'), Timestamp('2013-11-21 00:00:00')),\n",
       " (Timestamp('2013-11-21 00:00:00'), Timestamp('2013-11-22 00:00:00')),\n",
       " (Timestamp('2013-11-22 00:00:00'), Timestamp('2013-11-25 00:00:00')),\n",
       " (Timestamp('2013-11-25 00:00:00'), Timestamp('2013-11-26 00:00:00')),\n",
       " (Timestamp('2013-11-26 00:00:00'), Timestamp('2013-11-27 00:00:00')),\n",
       " (Timestamp('2013-11-27 00:00:00'), Timestamp('2013-11-29 00:00:00')),\n",
       " (Timestamp('2013-11-29 00:00:00'), Timestamp('2013-12-02 00:00:00')),\n",
       " (Timestamp('2013-12-02 00:00:00'), Timestamp('2013-12-03 00:00:00')),\n",
       " (Timestamp('2013-12-03 00:00:00'), Timestamp('2013-12-04 00:00:00')),\n",
       " (Timestamp('2013-12-04 00:00:00'), Timestamp('2013-12-05 00:00:00')),\n",
       " (Timestamp('2013-12-05 00:00:00'), Timestamp('2013-12-06 00:00:00')),\n",
       " (Timestamp('2013-12-06 00:00:00'), Timestamp('2013-12-09 00:00:00')),\n",
       " (Timestamp('2013-12-09 00:00:00'), Timestamp('2013-12-10 00:00:00')),\n",
       " (Timestamp('2013-12-10 00:00:00'), Timestamp('2013-12-11 00:00:00')),\n",
       " (Timestamp('2013-12-11 00:00:00'), Timestamp('2013-12-12 00:00:00')),\n",
       " (Timestamp('2013-12-12 00:00:00'), Timestamp('2013-12-13 00:00:00')),\n",
       " (Timestamp('2013-12-13 00:00:00'), Timestamp('2013-12-16 00:00:00')),\n",
       " (Timestamp('2013-12-16 00:00:00'), Timestamp('2013-12-17 00:00:00')),\n",
       " (Timestamp('2013-12-17 00:00:00'), Timestamp('2013-12-18 00:00:00')),\n",
       " (Timestamp('2013-12-18 00:00:00'), Timestamp('2013-12-19 00:00:00')),\n",
       " (Timestamp('2013-12-19 00:00:00'), Timestamp('2013-12-20 00:00:00')),\n",
       " (Timestamp('2013-12-20 00:00:00'), Timestamp('2013-12-23 00:00:00')),\n",
       " ...]"
      ]
     },
     "execution_count": 8,
     "metadata": {},
     "output_type": "execute_result"
    }
   ],
   "source": [
    "list(zip(data.index, data.index[1:]))"
   ]
  },
  {
   "cell_type": "code",
   "execution_count": 12,
   "metadata": {},
   "outputs": [
    {
     "name": "stdout",
     "output_type": "stream",
     "text": [
      "Wall time: 646 ms\n"
     ]
    }
   ],
   "source": [
    "%%time\n",
    "for t in zip(data.index, data.index[1:]):\n",
    "    data.loc[t[1], 'EWMA'] = (alpha * data.loc[t[1], sym] +\n",
    "                              (1 - alpha) * data.loc[t[0], 'EWMA'])  "
   ]
  },
  {
   "cell_type": "code",
   "execution_count": 13,
   "metadata": {},
   "outputs": [
    {
     "data": {
      "text/html": [
       "<div>\n",
       "<style scoped>\n",
       "    .dataframe tbody tr th:only-of-type {\n",
       "        vertical-align: middle;\n",
       "    }\n",
       "\n",
       "    .dataframe tbody tr th {\n",
       "        vertical-align: top;\n",
       "    }\n",
       "\n",
       "    .dataframe thead th {\n",
       "        text-align: right;\n",
       "    }\n",
       "</style>\n",
       "<table border=\"1\" class=\"dataframe\">\n",
       "  <thead>\n",
       "    <tr style=\"text-align: right;\">\n",
       "      <th></th>\n",
       "      <th>SPY</th>\n",
       "      <th>EWMA</th>\n",
       "    </tr>\n",
       "    <tr>\n",
       "      <th>Date</th>\n",
       "      <th></th>\n",
       "      <th></th>\n",
       "    </tr>\n",
       "  </thead>\n",
       "  <tbody>\n",
       "    <tr>\n",
       "      <th>2010-01-04</th>\n",
       "      <td>113.33</td>\n",
       "      <td>113.330000</td>\n",
       "    </tr>\n",
       "    <tr>\n",
       "      <th>2010-01-05</th>\n",
       "      <td>113.63</td>\n",
       "      <td>113.405000</td>\n",
       "    </tr>\n",
       "    <tr>\n",
       "      <th>2010-01-06</th>\n",
       "      <td>113.71</td>\n",
       "      <td>113.481250</td>\n",
       "    </tr>\n",
       "    <tr>\n",
       "      <th>2010-01-07</th>\n",
       "      <td>114.19</td>\n",
       "      <td>113.658438</td>\n",
       "    </tr>\n",
       "    <tr>\n",
       "      <th>2010-01-08</th>\n",
       "      <td>114.57</td>\n",
       "      <td>113.886328</td>\n",
       "    </tr>\n",
       "  </tbody>\n",
       "</table>\n",
       "</div>"
      ],
      "text/plain": [
       "               SPY        EWMA\n",
       "Date                          \n",
       "2010-01-04  113.33  113.330000\n",
       "2010-01-05  113.63  113.405000\n",
       "2010-01-06  113.71  113.481250\n",
       "2010-01-07  114.19  113.658438\n",
       "2010-01-08  114.57  113.886328"
      ]
     },
     "execution_count": 13,
     "metadata": {},
     "output_type": "execute_result"
    }
   ],
   "source": [
    "data.head()"
   ]
  },
  {
   "cell_type": "code",
   "execution_count": 14,
   "metadata": {},
   "outputs": [
    {
     "data": {
      "image/png": "[encoded data removed]",
      "text/plain": [
       "<Figure size 720x432 with 1 Axes>"
      ]
     },
     "metadata": {
      "needs_background": "light"
     },
     "output_type": "display_data"
    }
   ],
   "source": [
    "data[data.index > '2017-1-1'].plot(figsize=(10, 6));\n",
    "# plt.savefig('../../images/ch10/perf_03.png');"
   ]
  },
  {
   "cell_type": "markdown",
   "metadata": {},
   "source": [
    "### Pure Python"
   ]
  },
  {
   "cell_type": "code",
   "execution_count": 15,
   "metadata": {},
   "outputs": [],
   "source": [
    "def ewma_py(x, alpha):\n",
    "    y = np.zeros_like(x)\n",
    "    y[0] = x[0]\n",
    "    for i in range(1, len(x)):\n",
    "        y[i] = alpha * x[i] + (1-alpha) * y[i-1]\n",
    "    return y"
   ]
  },
  {
   "cell_type": "code",
   "execution_count": 18,
   "metadata": {
    "scrolled": true
   },
   "outputs": [
    {
     "name": "stdout",
     "output_type": "stream",
     "text": [
      "Wall time: 74 ms\n"
     ]
    }
   ],
   "source": [
    "%time data['EWMA_PY'] = ewma_py(data[sym], alpha)  "
   ]
  },
  {
   "cell_type": "code",
   "execution_count": 19,
   "metadata": {},
   "outputs": [
    {
     "name": "stdout",
     "output_type": "stream",
     "text": [
      "Wall time: 4 ms\n"
     ]
    }
   ],
   "source": [
    "%time data['EWMA_PY'] = ewma_py(data[sym].values, alpha)  "
   ]
  },
  {
   "cell_type": "code",
   "execution_count": 20,
   "metadata": {},
   "outputs": [
    {
     "data": {
      "text/html": [
       "<div>\n",
       "<style scoped>\n",
       "    .dataframe tbody tr th:only-of-type {\n",
       "        vertical-align: middle;\n",
       "    }\n",
       "\n",
       "    .dataframe tbody tr th {\n",
       "        vertical-align: top;\n",
       "    }\n",
       "\n",
       "    .dataframe thead th {\n",
       "        text-align: right;\n",
       "    }\n",
       "</style>\n",
       "<table border=\"1\" class=\"dataframe\">\n",
       "  <thead>\n",
       "    <tr style=\"text-align: right;\">\n",
       "      <th></th>\n",
       "      <th>SPY</th>\n",
       "      <th>EWMA</th>\n",
       "      <th>EWMA_PY</th>\n",
       "    </tr>\n",
       "    <tr>\n",
       "      <th>Date</th>\n",
       "      <th></th>\n",
       "      <th></th>\n",
       "      <th></th>\n",
       "    </tr>\n",
       "  </thead>\n",
       "  <tbody>\n",
       "    <tr>\n",
       "      <th>2010-01-04</th>\n",
       "      <td>113.33</td>\n",
       "      <td>113.330000</td>\n",
       "      <td>113.330000</td>\n",
       "    </tr>\n",
       "    <tr>\n",
       "      <th>2010-01-05</th>\n",
       "      <td>113.63</td>\n",
       "      <td>113.405000</td>\n",
       "      <td>113.405000</td>\n",
       "    </tr>\n",
       "    <tr>\n",
       "      <th>2010-01-06</th>\n",
       "      <td>113.71</td>\n",
       "      <td>113.481250</td>\n",
       "      <td>113.481250</td>\n",
       "    </tr>\n",
       "    <tr>\n",
       "      <th>2010-01-07</th>\n",
       "      <td>114.19</td>\n",
       "      <td>113.658438</td>\n",
       "      <td>113.658438</td>\n",
       "    </tr>\n",
       "    <tr>\n",
       "      <th>2010-01-08</th>\n",
       "      <td>114.57</td>\n",
       "      <td>113.886328</td>\n",
       "      <td>113.886328</td>\n",
       "    </tr>\n",
       "    <tr>\n",
       "      <th>...</th>\n",
       "      <td>...</td>\n",
       "      <td>...</td>\n",
       "      <td>...</td>\n",
       "    </tr>\n",
       "    <tr>\n",
       "      <th>2018-06-25</th>\n",
       "      <td>271.00</td>\n",
       "      <td>274.535176</td>\n",
       "      <td>274.535176</td>\n",
       "    </tr>\n",
       "    <tr>\n",
       "      <th>2018-06-26</th>\n",
       "      <td>271.60</td>\n",
       "      <td>273.801382</td>\n",
       "      <td>273.801382</td>\n",
       "    </tr>\n",
       "    <tr>\n",
       "      <th>2018-06-27</th>\n",
       "      <td>269.35</td>\n",
       "      <td>272.688537</td>\n",
       "      <td>272.688537</td>\n",
       "    </tr>\n",
       "    <tr>\n",
       "      <th>2018-06-28</th>\n",
       "      <td>270.89</td>\n",
       "      <td>272.238903</td>\n",
       "      <td>272.238903</td>\n",
       "    </tr>\n",
       "    <tr>\n",
       "      <th>2018-06-29</th>\n",
       "      <td>271.28</td>\n",
       "      <td>271.999177</td>\n",
       "      <td>271.999177</td>\n",
       "    </tr>\n",
       "  </tbody>\n",
       "</table>\n",
       "<p>2138 rows × 3 columns</p>\n",
       "</div>"
      ],
      "text/plain": [
       "               SPY        EWMA     EWMA_PY\n",
       "Date                                      \n",
       "2010-01-04  113.33  113.330000  113.330000\n",
       "2010-01-05  113.63  113.405000  113.405000\n",
       "2010-01-06  113.71  113.481250  113.481250\n",
       "2010-01-07  114.19  113.658438  113.658438\n",
       "2010-01-08  114.57  113.886328  113.886328\n",
       "...            ...         ...         ...\n",
       "2018-06-25  271.00  274.535176  274.535176\n",
       "2018-06-26  271.60  273.801382  273.801382\n",
       "2018-06-27  269.35  272.688537  272.688537\n",
       "2018-06-28  270.89  272.238903  272.238903\n",
       "2018-06-29  271.28  271.999177  271.999177\n",
       "\n",
       "[2138 rows x 3 columns]"
      ]
     },
     "execution_count": 20,
     "metadata": {},
     "output_type": "execute_result"
    }
   ],
   "source": [
    "data"
   ]
  },
  {
   "cell_type": "markdown",
   "metadata": {},
   "source": [
    "### Numba"
   ]
  },
  {
   "cell_type": "code",
   "execution_count": 23,
   "metadata": {
    "scrolled": true
   },
   "outputs": [],
   "source": [
    "ewma_nb = numba.jit(ewma_py)"
   ]
  },
  {
   "cell_type": "code",
   "execution_count": 25,
   "metadata": {},
   "outputs": [
    {
     "name": "stdout",
     "output_type": "stream",
     "text": [
      "Wall time: 76 ms\n"
     ]
    }
   ],
   "source": [
    "%time data['EWMA_NB'] = ewma_nb(data[sym], alpha)  "
   ]
  },
  {
   "cell_type": "code",
   "execution_count": 26,
   "metadata": {},
   "outputs": [
    {
     "name": "stdout",
     "output_type": "stream",
     "text": [
      "63.1 ms ± 370 µs per loop (mean ± std. dev. of 7 runs, 10 loops each)\n"
     ]
    }
   ],
   "source": [
    "%timeit data['EWMA_NB'] = ewma_nb(data[sym], alpha)  "
   ]
  },
  {
   "cell_type": "code",
   "execution_count": 27,
   "metadata": {},
   "outputs": [
    {
     "name": "stdout",
     "output_type": "stream",
     "text": [
      "Wall time: 168 ms\n"
     ]
    }
   ],
   "source": [
    "%time data['EWMA_NB'] = ewma_nb(data[sym].values, alpha)  "
   ]
  },
  {
   "cell_type": "code",
   "execution_count": 28,
   "metadata": {},
   "outputs": [
    {
     "name": "stdout",
     "output_type": "stream",
     "text": [
      "132 µs ± 2.84 µs per loop (mean ± std. dev. of 7 runs, 10000 loops each)\n"
     ]
    }
   ],
   "source": [
    "%timeit data['EWMA_NB'] = ewma_nb(data[sym].values, alpha)  "
   ]
  },
  {
   "cell_type": "markdown",
   "metadata": {},
   "source": [
    "### Cython"
   ]
  },
  {
   "cell_type": "code",
   "execution_count": 31,
   "metadata": {},
   "outputs": [],
   "source": [
    "%%cython\n",
    "import numpy as np\n",
    "cimport cython\n",
    "@cython.boundscheck(False)\n",
    "@cython.wraparound(False)\n",
    "def ewma_cy(double[:] x, float alpha):\n",
    "    cdef int i\n",
    "    cdef double[:] y = np.empty_like(x)\n",
    "    y[0] = x[0]\n",
    "    for i in range(1, len(x)):\n",
    "        y[i] = alpha * x[i] + (1 - alpha) * y[i - 1]\n",
    "    return y"
   ]
  },
  {
   "cell_type": "code",
   "execution_count": 32,
   "metadata": {},
   "outputs": [
    {
     "ename": "NameError",
     "evalue": "name 'ewma_cy' is not defined",
     "output_type": "error",
     "traceback": [
      "\u001b[1;31m---------------------------------------------------------------------------\u001b[0m",
      "\u001b[1;31mNameError\u001b[0m                                 Traceback (most recent call last)",
      "\u001b[1;32m<timed exec>\u001b[0m in \u001b[0;36m<module>\u001b[1;34m\u001b[0m\n",
      "\u001b[1;31mNameError\u001b[0m: name 'ewma_cy' is not defined"
     ]
    }
   ],
   "source": [
    "%time data['EWMA_CY'] = ewma_cy(data[sym].values, alpha)"
   ]
  },
  {
   "cell_type": "code",
   "execution_count": 33,
   "metadata": {},
   "outputs": [
    {
     "ename": "NameError",
     "evalue": "name 'ewma_cy' is not defined",
     "output_type": "error",
     "traceback": [
      "\u001b[1;31m---------------------------------------------------------------------------\u001b[0m",
      "\u001b[1;31mNameError\u001b[0m                                 Traceback (most recent call last)",
      "\u001b[1;32m<ipython-input-33-a8ce7ca6be16>\u001b[0m in \u001b[0;36m<module>\u001b[1;34m\u001b[0m\n\u001b[1;32m----> 1\u001b[1;33m \u001b[0mget_ipython\u001b[0m\u001b[1;33m(\u001b[0m\u001b[1;33m)\u001b[0m\u001b[1;33m.\u001b[0m\u001b[0mrun_line_magic\u001b[0m\u001b[1;33m(\u001b[0m\u001b[1;34m'timeit'\u001b[0m\u001b[1;33m,\u001b[0m \u001b[1;34m\"data['EWMA_CY'] = ewma_cy(data[sym].values, alpha)\"\u001b[0m\u001b[1;33m)\u001b[0m\u001b[1;33m\u001b[0m\u001b[1;33m\u001b[0m\u001b[0m\n\u001b[0m",
      "\u001b[1;32mC:\\Programs\\Anaconda\\lib\\site-packages\\IPython\\core\\interactiveshell.py\u001b[0m in \u001b[0;36mrun_line_magic\u001b[1;34m(self, magic_name, line, _stack_depth)\u001b[0m\n\u001b[0;32m   2315\u001b[0m                 \u001b[0mkwargs\u001b[0m\u001b[1;33m[\u001b[0m\u001b[1;34m'local_ns'\u001b[0m\u001b[1;33m]\u001b[0m \u001b[1;33m=\u001b[0m \u001b[0msys\u001b[0m\u001b[1;33m.\u001b[0m\u001b[0m_getframe\u001b[0m\u001b[1;33m(\u001b[0m\u001b[0mstack_depth\u001b[0m\u001b[1;33m)\u001b[0m\u001b[1;33m.\u001b[0m\u001b[0mf_locals\u001b[0m\u001b[1;33m\u001b[0m\u001b[1;33m\u001b[0m\u001b[0m\n\u001b[0;32m   2316\u001b[0m             \u001b[1;32mwith\u001b[0m \u001b[0mself\u001b[0m\u001b[1;33m.\u001b[0m\u001b[0mbuiltin_trap\u001b[0m\u001b[1;33m:\u001b[0m\u001b[1;33m\u001b[0m\u001b[1;33m\u001b[0m\u001b[0m\n\u001b[1;32m-> 2317\u001b[1;33m                 \u001b[0mresult\u001b[0m \u001b[1;33m=\u001b[0m \u001b[0mfn\u001b[0m\u001b[1;33m(\u001b[0m\u001b[1;33m*\u001b[0m\u001b[0margs\u001b[0m\u001b[1;33m,\u001b[0m \u001b[1;33m**\u001b[0m\u001b[0mkwargs\u001b[0m\u001b[1;33m)\u001b[0m\u001b[1;33m\u001b[0m\u001b[1;33m\u001b[0m\u001b[0m\n\u001b[0m\u001b[0;32m   2318\u001b[0m             \u001b[1;32mreturn\u001b[0m \u001b[0mresult\u001b[0m\u001b[1;33m\u001b[0m\u001b[1;33m\u001b[0m\u001b[0m\n\u001b[0;32m   2319\u001b[0m \u001b[1;33m\u001b[0m\u001b[0m\n",
      "\u001b[1;32m<C:\\Programs\\Anaconda\\lib\\site-packages\\decorator.py:decorator-gen-61>\u001b[0m in \u001b[0;36mtimeit\u001b[1;34m(self, line, cell, local_ns)\u001b[0m\n",
      "\u001b[1;32mC:\\Programs\\Anaconda\\lib\\site-packages\\IPython\\core\\magic.py\u001b[0m in \u001b[0;36m<lambda>\u001b[1;34m(f, *a, **k)\u001b[0m\n\u001b[0;32m    185\u001b[0m     \u001b[1;31m# but it's overkill for just that one bit of state.\u001b[0m\u001b[1;33m\u001b[0m\u001b[1;33m\u001b[0m\u001b[1;33m\u001b[0m\u001b[0m\n\u001b[0;32m    186\u001b[0m     \u001b[1;32mdef\u001b[0m \u001b[0mmagic_deco\u001b[0m\u001b[1;33m(\u001b[0m\u001b[0marg\u001b[0m\u001b[1;33m)\u001b[0m\u001b[1;33m:\u001b[0m\u001b[1;33m\u001b[0m\u001b[1;33m\u001b[0m\u001b[0m\n\u001b[1;32m--> 187\u001b[1;33m         \u001b[0mcall\u001b[0m \u001b[1;33m=\u001b[0m \u001b[1;32mlambda\u001b[0m \u001b[0mf\u001b[0m\u001b[1;33m,\u001b[0m \u001b[1;33m*\u001b[0m\u001b[0ma\u001b[0m\u001b[1;33m,\u001b[0m \u001b[1;33m**\u001b[0m\u001b[0mk\u001b[0m\u001b[1;33m:\u001b[0m \u001b[0mf\u001b[0m\u001b[1;33m(\u001b[0m\u001b[1;33m*\u001b[0m\u001b[0ma\u001b[0m\u001b[1;33m,\u001b[0m \u001b[1;33m**\u001b[0m\u001b[0mk\u001b[0m\u001b[1;33m)\u001b[0m\u001b[1;33m\u001b[0m\u001b[1;33m\u001b[0m\u001b[0m\n\u001b[0m\u001b[0;32m    188\u001b[0m \u001b[1;33m\u001b[0m\u001b[0m\n\u001b[0;32m    189\u001b[0m         \u001b[1;32mif\u001b[0m \u001b[0mcallable\u001b[0m\u001b[1;33m(\u001b[0m\u001b[0marg\u001b[0m\u001b[1;33m)\u001b[0m\u001b[1;33m:\u001b[0m\u001b[1;33m\u001b[0m\u001b[1;33m\u001b[0m\u001b[0m\n",
      "\u001b[1;32mC:\\Programs\\Anaconda\\lib\\site-packages\\IPython\\core\\magics\\execution.py\u001b[0m in \u001b[0;36mtimeit\u001b[1;34m(self, line, cell, local_ns)\u001b[0m\n\u001b[0;32m   1158\u001b[0m             \u001b[1;32mfor\u001b[0m \u001b[0mindex\u001b[0m \u001b[1;32min\u001b[0m \u001b[0mrange\u001b[0m\u001b[1;33m(\u001b[0m\u001b[1;36m0\u001b[0m\u001b[1;33m,\u001b[0m \u001b[1;36m10\u001b[0m\u001b[1;33m)\u001b[0m\u001b[1;33m:\u001b[0m\u001b[1;33m\u001b[0m\u001b[1;33m\u001b[0m\u001b[0m\n\u001b[0;32m   1159\u001b[0m                 \u001b[0mnumber\u001b[0m \u001b[1;33m=\u001b[0m \u001b[1;36m10\u001b[0m \u001b[1;33m**\u001b[0m \u001b[0mindex\u001b[0m\u001b[1;33m\u001b[0m\u001b[1;33m\u001b[0m\u001b[0m\n\u001b[1;32m-> 1160\u001b[1;33m                 \u001b[0mtime_number\u001b[0m \u001b[1;33m=\u001b[0m \u001b[0mtimer\u001b[0m\u001b[1;33m.\u001b[0m\u001b[0mtimeit\u001b[0m\u001b[1;33m(\u001b[0m\u001b[0mnumber\u001b[0m\u001b[1;33m)\u001b[0m\u001b[1;33m\u001b[0m\u001b[1;33m\u001b[0m\u001b[0m\n\u001b[0m\u001b[0;32m   1161\u001b[0m                 \u001b[1;32mif\u001b[0m \u001b[0mtime_number\u001b[0m \u001b[1;33m>=\u001b[0m \u001b[1;36m0.2\u001b[0m\u001b[1;33m:\u001b[0m\u001b[1;33m\u001b[0m\u001b[1;33m\u001b[0m\u001b[0m\n\u001b[0;32m   1162\u001b[0m                     \u001b[1;32mbreak\u001b[0m\u001b[1;33m\u001b[0m\u001b[1;33m\u001b[0m\u001b[0m\n",
      "\u001b[1;32mC:\\Programs\\Anaconda\\lib\\site-packages\\IPython\\core\\magics\\execution.py\u001b[0m in \u001b[0;36mtimeit\u001b[1;34m(self, number)\u001b[0m\n\u001b[0;32m    167\u001b[0m         \u001b[0mgc\u001b[0m\u001b[1;33m.\u001b[0m\u001b[0mdisable\u001b[0m\u001b[1;33m(\u001b[0m\u001b[1;33m)\u001b[0m\u001b[1;33m\u001b[0m\u001b[1;33m\u001b[0m\u001b[0m\n\u001b[0;32m    168\u001b[0m         \u001b[1;32mtry\u001b[0m\u001b[1;33m:\u001b[0m\u001b[1;33m\u001b[0m\u001b[1;33m\u001b[0m\u001b[0m\n\u001b[1;32m--> 169\u001b[1;33m             \u001b[0mtiming\u001b[0m \u001b[1;33m=\u001b[0m \u001b[0mself\u001b[0m\u001b[1;33m.\u001b[0m\u001b[0minner\u001b[0m\u001b[1;33m(\u001b[0m\u001b[0mit\u001b[0m\u001b[1;33m,\u001b[0m \u001b[0mself\u001b[0m\u001b[1;33m.\u001b[0m\u001b[0mtimer\u001b[0m\u001b[1;33m)\u001b[0m\u001b[1;33m\u001b[0m\u001b[1;33m\u001b[0m\u001b[0m\n\u001b[0m\u001b[0;32m    170\u001b[0m         \u001b[1;32mfinally\u001b[0m\u001b[1;33m:\u001b[0m\u001b[1;33m\u001b[0m\u001b[1;33m\u001b[0m\u001b[0m\n\u001b[0;32m    171\u001b[0m             \u001b[1;32mif\u001b[0m \u001b[0mgcold\u001b[0m\u001b[1;33m:\u001b[0m\u001b[1;33m\u001b[0m\u001b[1;33m\u001b[0m\u001b[0m\n",
      "\u001b[1;32m<magic-timeit>\u001b[0m in \u001b[0;36minner\u001b[1;34m(_it, _timer)\u001b[0m\n",
      "\u001b[1;31mNameError\u001b[0m: name 'ewma_cy' is not defined"
     ]
    }
   ],
   "source": [
    "%timeit data['EWMA_CY'] = ewma_cy(data[sym].values, alpha)"
   ]
  },
  {
   "cell_type": "code",
   "execution_count": 34,
   "metadata": {},
   "outputs": [
    {
     "data": {
      "text/html": [
       "<div>\n",
       "<style scoped>\n",
       "    .dataframe tbody tr th:only-of-type {\n",
       "        vertical-align: middle;\n",
       "    }\n",
       "\n",
       "    .dataframe tbody tr th {\n",
       "        vertical-align: top;\n",
       "    }\n",
       "\n",
       "    .dataframe thead th {\n",
       "        text-align: right;\n",
       "    }\n",
       "</style>\n",
       "<table border=\"1\" class=\"dataframe\">\n",
       "  <thead>\n",
       "    <tr style=\"text-align: right;\">\n",
       "      <th></th>\n",
       "      <th>SPY</th>\n",
       "      <th>EWMA</th>\n",
       "      <th>EWMA_PY</th>\n",
       "      <th>EWMA_NB</th>\n",
       "    </tr>\n",
       "    <tr>\n",
       "      <th>Date</th>\n",
       "      <th></th>\n",
       "      <th></th>\n",
       "      <th></th>\n",
       "      <th></th>\n",
       "    </tr>\n",
       "  </thead>\n",
       "  <tbody>\n",
       "    <tr>\n",
       "      <th>2010-01-04</th>\n",
       "      <td>113.33</td>\n",
       "      <td>113.330000</td>\n",
       "      <td>113.330000</td>\n",
       "      <td>113.330000</td>\n",
       "    </tr>\n",
       "    <tr>\n",
       "      <th>2010-01-05</th>\n",
       "      <td>113.63</td>\n",
       "      <td>113.405000</td>\n",
       "      <td>113.405000</td>\n",
       "      <td>113.405000</td>\n",
       "    </tr>\n",
       "    <tr>\n",
       "      <th>2010-01-06</th>\n",
       "      <td>113.71</td>\n",
       "      <td>113.481250</td>\n",
       "      <td>113.481250</td>\n",
       "      <td>113.481250</td>\n",
       "    </tr>\n",
       "    <tr>\n",
       "      <th>2010-01-07</th>\n",
       "      <td>114.19</td>\n",
       "      <td>113.658438</td>\n",
       "      <td>113.658438</td>\n",
       "      <td>113.658438</td>\n",
       "    </tr>\n",
       "    <tr>\n",
       "      <th>2010-01-08</th>\n",
       "      <td>114.57</td>\n",
       "      <td>113.886328</td>\n",
       "      <td>113.886328</td>\n",
       "      <td>113.886328</td>\n",
       "    </tr>\n",
       "  </tbody>\n",
       "</table>\n",
       "</div>"
      ],
      "text/plain": [
       "               SPY        EWMA     EWMA_PY     EWMA_NB\n",
       "Date                                                  \n",
       "2010-01-04  113.33  113.330000  113.330000  113.330000\n",
       "2010-01-05  113.63  113.405000  113.405000  113.405000\n",
       "2010-01-06  113.71  113.481250  113.481250  113.481250\n",
       "2010-01-07  114.19  113.658438  113.658438  113.658438\n",
       "2010-01-08  114.57  113.886328  113.886328  113.886328"
      ]
     },
     "execution_count": 34,
     "metadata": {},
     "output_type": "execute_result"
    }
   ],
   "source": [
    "data.head()"
   ]
  },
  {
   "cell_type": "code",
   "execution_count": 35,
   "metadata": {},
   "outputs": [
    {
     "data": {
      "text/html": [
       "<div>\n",
       "<style scoped>\n",
       "    .dataframe tbody tr th:only-of-type {\n",
       "        vertical-align: middle;\n",
       "    }\n",
       "\n",
       "    .dataframe tbody tr th {\n",
       "        vertical-align: top;\n",
       "    }\n",
       "\n",
       "    .dataframe thead th {\n",
       "        text-align: right;\n",
       "    }\n",
       "</style>\n",
       "<table border=\"1\" class=\"dataframe\">\n",
       "  <thead>\n",
       "    <tr style=\"text-align: right;\">\n",
       "      <th></th>\n",
       "      <th>SPY</th>\n",
       "      <th>EWMA</th>\n",
       "      <th>EWMA_PY</th>\n",
       "      <th>EWMA_NB</th>\n",
       "    </tr>\n",
       "    <tr>\n",
       "      <th>Date</th>\n",
       "      <th></th>\n",
       "      <th></th>\n",
       "      <th></th>\n",
       "      <th></th>\n",
       "    </tr>\n",
       "  </thead>\n",
       "  <tbody>\n",
       "    <tr>\n",
       "      <th>2018-06-25</th>\n",
       "      <td>271.00</td>\n",
       "      <td>274.535176</td>\n",
       "      <td>274.535176</td>\n",
       "      <td>274.535176</td>\n",
       "    </tr>\n",
       "    <tr>\n",
       "      <th>2018-06-26</th>\n",
       "      <td>271.60</td>\n",
       "      <td>273.801382</td>\n",
       "      <td>273.801382</td>\n",
       "      <td>273.801382</td>\n",
       "    </tr>\n",
       "    <tr>\n",
       "      <th>2018-06-27</th>\n",
       "      <td>269.35</td>\n",
       "      <td>272.688537</td>\n",
       "      <td>272.688537</td>\n",
       "      <td>272.688537</td>\n",
       "    </tr>\n",
       "    <tr>\n",
       "      <th>2018-06-28</th>\n",
       "      <td>270.89</td>\n",
       "      <td>272.238903</td>\n",
       "      <td>272.238903</td>\n",
       "      <td>272.238903</td>\n",
       "    </tr>\n",
       "    <tr>\n",
       "      <th>2018-06-29</th>\n",
       "      <td>271.28</td>\n",
       "      <td>271.999177</td>\n",
       "      <td>271.999177</td>\n",
       "      <td>271.999177</td>\n",
       "    </tr>\n",
       "  </tbody>\n",
       "</table>\n",
       "</div>"
      ],
      "text/plain": [
       "               SPY        EWMA     EWMA_PY     EWMA_NB\n",
       "Date                                                  \n",
       "2018-06-25  271.00  274.535176  274.535176  274.535176\n",
       "2018-06-26  271.60  273.801382  273.801382  273.801382\n",
       "2018-06-27  269.35  272.688537  272.688537  272.688537\n",
       "2018-06-28  270.89  272.238903  272.238903  272.238903\n",
       "2018-06-29  271.28  271.999177  271.999177  271.999177"
      ]
     },
     "execution_count": 35,
     "metadata": {},
     "output_type": "execute_result"
    }
   ],
   "source": [
    "data.tail()"
   ]
  },
  {
   "cell_type": "markdown",
   "metadata": {},
   "source": [
    "<img src=\"http://hilpisch.com/tpq_logo.png\" alt=\"The Python Quants\" width=\"35%\" align=\"right\" border=\"0\"><br>\n",
    "\n",
    "<a href=\"http://tpq.io\" target=\"_blank\">http://tpq.io</a> | <a href=\"http://twitter.com/dyjh\" target=\"_blank\">@dyjh</a> | <a href=\"mailto:training@tpq.io\">training@tpq.io</a>"
   ]
  }
 ],
 "metadata": {
  "kernelspec": {
   "display_name": "Python 3",
   "language": "python",
   "name": "python3"
  },
  "language_info": {
   "codemirror_mode": {
    "name": "ipython",
    "version": 3
   },
   "file_extension": ".py",
   "mimetype": "text/x-python",
   "name": "python",
   "nbconvert_exporter": "python",
   "pygments_lexer": "ipython3",
   "version": "3.7.6"
  }
 },
 "nbformat": 4,
 "nbformat_minor": 2
}
